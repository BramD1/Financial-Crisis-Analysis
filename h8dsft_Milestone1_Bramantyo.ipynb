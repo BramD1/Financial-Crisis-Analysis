{
 "cells": [
  {
   "cell_type": "markdown",
   "metadata": {},
   "source": [
    "# Milestone 1: Financial Crisis Analysis\n"
   ]
  },
  {
   "cell_type": "markdown",
   "metadata": {},
   "source": [
    "## Tableu Link:\n",
    "https://public.tableau.com/app/profile/bramantyo.anandaru.suyadi/viz/AGG_stock_bram/Dashboard1?publish=yes"
   ]
  },
  {
   "cell_type": "markdown",
   "metadata": {},
   "source": [
    "## Introduction\n",
    "- Name: Bramantyo Anandaru Suyadi\n",
    "- Batch: HCK-023\n",
    "- Objective: Through this project, I want to analyze how the financial crisis in 2008 affects an oil & gas firm"
   ]
  },
  {
   "cell_type": "markdown",
   "metadata": {},
   "source": [
    "## Problem Identification\n",
    "### Topic of the Problem: Financial Crisis of 2008\n",
    "### Background:\n",
    "The financial crisis of 2008 started because banks and financial institutions are lending cheap credits and a low-binding lending policy towards high risk borrowers. The chronology goes like this: Home prices began to fall in early 2006, then subprime lenders were filing for bankruptcy in early 2007. This loss caused a panic that froze the global lending system in August 2007. At its peak in September 2008, Lehman Brothers collapsed in the biggest US bankruptcy ever recorded.  (Singh, 2024)\n",
    "\n",
    "The 2008 financial crisis produced a negative impact on the oil and gas industry as it caused a steep decline in oil prices and a contraction in credit. This economic decline causes failing revenues for this particular industry. The Great Recession that followed sent the price of a barrel of crude oil from $133.88 to $39.09 in just less than a year. (THE INVESTOPEDIA TEAM, 2022)\n",
    "\n",
    "The company that I will be analysing as a financial analyst is AGG Power Solutions, a multinational company focused on the design, manufacture and distribution of power generation systems and advanced energy solutions. (AGG POWER, n.d.)\n",
    "\n",
    "### SMART FRAMEWORK\n",
    "- Specific: Analyzing the impact of the financial crisis to AGG Power Solutions.\n",
    "- Measurable: Analyze the stock trend between 2 years before the financial crisis (2005-2006), during the financial crisis(2007-2008), and 2 years after (2009-2010) \n",
    "- Achievable: Creating a different dataset for each 2 years that will be analyzed, create visualization based on those samples and population, and analyze the differences in prices between those periods with inferential statistics.\n",
    "- Relevance: Having those different datasets with different visualization and statistics will help us to analyze the impact of 2008 financial crisis to AGG by seeing how the company performs 2 years before, 2 years during, and 2 years after. \n",
    "- Time: The research that is being undergone is expected to be finished within a week\n",
    "\n",
    "### Problem Statement: \n",
    "The goal of this analysis is to examine the effect of the financial crisis on an energy company known as AGG Power Solution by creating 3 different datasets every 2 years before, during, and after the financial crisis. After analyzing the data, we can identify how the crisis affects the company financially in a span of a week.\n",
    "\n",
    "\n",
    "\n",
    "### List of Questions:\n",
    "1. What does the company look like in 6 years overall?\n",
    "2. What did the company look like 2 years before the crisis? \n",
    "3. What does the company look like 2 years during the crisis?\n",
    "4. During that time, which quarter and which year is the worst for the company so that we know when to buy or sell during crisis? \n",
    "5. What does the company look like 2 years after the crisis? \n",
    "6. Are there any correlation between trade volume and closing price?\n",
    "7. Compare the difference of performance of those years and write the conclusion!\n",
    "\n",
    "### References\n",
    "- AGG POWER. (n.d.). About AGG Power. AGG Power. Retrieved November 20, 2024, from https://www.aggpower.com/about-agg-power/\n",
    "THE INVESTOPEDIA TEAM. (2022, September 28). \n",
    "- How did the 2008 financial crisis affect the oil and gas sector? Investopedia. Retrieved November 20, 2024, from https://www.investopedia.com/ask/answers/052715/how-did-financial-crisis-affect-oil-and-gas-sector.asp\n",
    "- Singh, M. (2024). The 2008 Financial Crisis Explained. Investopedia. Retrieved November 15, 2024, from https://www.investopedia.com/articles/economics/09/financial-crisis-review.asp\n",
    "\n"
   ]
  },
  {
   "cell_type": "markdown",
   "metadata": {},
   "source": [
    "## Data Loading"
   ]
  },
  {
   "cell_type": "markdown",
   "metadata": {},
   "source": [
    "Source of data:\n",
    "`https://www.kaggle.com/datasets/borismarjanovic/price-volume-data-for-all-us-stocks-etfs?resource=download`"
   ]
  },
  {
   "cell_type": "markdown",
   "metadata": {},
   "source": [
    "### Data Exploration"
   ]
  },
  {
   "cell_type": "code",
   "execution_count": 234,
   "metadata": {},
   "outputs": [
    {
     "name": "stderr",
     "output_type": "stream",
     "text": [
      "C:\\Users\\daru1\\AppData\\Local\\Temp\\ipykernel_9728\\518562488.py:6: DeprecationWarning:\n",
      "\n",
      "Importing display from IPython.core.display is deprecated since IPython 7.14, please import from IPython display\n",
      "\n"
     ]
    }
   ],
   "source": [
    "import pandas as pd\n",
    "import numpy as np\n",
    "from scipy import stats\n",
    "import matplotlib.pyplot as plt\n",
    "import seaborn as sns\n",
    "from IPython.core.display import display, HTML"
   ]
  },
  {
   "cell_type": "markdown",
   "metadata": {},
   "source": [
    "Here, we first must import all the necessary modules to analyze this dataset"
   ]
  },
  {
   "cell_type": "code",
   "execution_count": 235,
   "metadata": {},
   "outputs": [
    {
     "data": {
      "text/html": [
       "<div>\n",
       "<style scoped>\n",
       "    .dataframe tbody tr th:only-of-type {\n",
       "        vertical-align: middle;\n",
       "    }\n",
       "\n",
       "    .dataframe tbody tr th {\n",
       "        vertical-align: top;\n",
       "    }\n",
       "\n",
       "    .dataframe thead th {\n",
       "        text-align: right;\n",
       "    }\n",
       "</style>\n",
       "<table border=\"1\" class=\"dataframe\">\n",
       "  <thead>\n",
       "    <tr style=\"text-align: right;\">\n",
       "      <th></th>\n",
       "      <th>Date</th>\n",
       "      <th>Open</th>\n",
       "      <th>High</th>\n",
       "      <th>Low</th>\n",
       "      <th>Close</th>\n",
       "      <th>Volume</th>\n",
       "      <th>OpenInt</th>\n",
       "    </tr>\n",
       "  </thead>\n",
       "  <tbody>\n",
       "    <tr>\n",
       "      <th>0</th>\n",
       "      <td>2005-02-25</td>\n",
       "      <td>86.493</td>\n",
       "      <td>86.516</td>\n",
       "      <td>86.295</td>\n",
       "      <td>86.516</td>\n",
       "      <td>78933</td>\n",
       "      <td>0</td>\n",
       "    </tr>\n",
       "    <tr>\n",
       "      <th>1</th>\n",
       "      <td>2005-02-28</td>\n",
       "      <td>86.516</td>\n",
       "      <td>86.534</td>\n",
       "      <td>86.163</td>\n",
       "      <td>86.287</td>\n",
       "      <td>425148</td>\n",
       "      <td>0</td>\n",
       "    </tr>\n",
       "    <tr>\n",
       "      <th>2</th>\n",
       "      <td>2005-03-01</td>\n",
       "      <td>85.846</td>\n",
       "      <td>86.050</td>\n",
       "      <td>85.846</td>\n",
       "      <td>85.985</td>\n",
       "      <td>147700</td>\n",
       "      <td>0</td>\n",
       "    </tr>\n",
       "    <tr>\n",
       "      <th>3</th>\n",
       "      <td>2005-03-02</td>\n",
       "      <td>85.779</td>\n",
       "      <td>86.016</td>\n",
       "      <td>85.779</td>\n",
       "      <td>85.874</td>\n",
       "      <td>202052</td>\n",
       "      <td>0</td>\n",
       "    </tr>\n",
       "    <tr>\n",
       "      <th>4</th>\n",
       "      <td>2005-03-03</td>\n",
       "      <td>86.060</td>\n",
       "      <td>86.069</td>\n",
       "      <td>85.732</td>\n",
       "      <td>85.943</td>\n",
       "      <td>142621</td>\n",
       "      <td>0</td>\n",
       "    </tr>\n",
       "    <tr>\n",
       "      <th>...</th>\n",
       "      <td>...</td>\n",
       "      <td>...</td>\n",
       "      <td>...</td>\n",
       "      <td>...</td>\n",
       "      <td>...</td>\n",
       "      <td>...</td>\n",
       "      <td>...</td>\n",
       "    </tr>\n",
       "    <tr>\n",
       "      <th>3196</th>\n",
       "      <td>2017-11-06</td>\n",
       "      <td>109.560</td>\n",
       "      <td>109.590</td>\n",
       "      <td>109.460</td>\n",
       "      <td>109.550</td>\n",
       "      <td>1292977</td>\n",
       "      <td>0</td>\n",
       "    </tr>\n",
       "    <tr>\n",
       "      <th>3197</th>\n",
       "      <td>2017-11-07</td>\n",
       "      <td>109.580</td>\n",
       "      <td>109.610</td>\n",
       "      <td>109.490</td>\n",
       "      <td>109.580</td>\n",
       "      <td>2015511</td>\n",
       "      <td>0</td>\n",
       "    </tr>\n",
       "    <tr>\n",
       "      <th>3198</th>\n",
       "      <td>2017-11-08</td>\n",
       "      <td>109.540</td>\n",
       "      <td>109.600</td>\n",
       "      <td>109.460</td>\n",
       "      <td>109.510</td>\n",
       "      <td>2738802</td>\n",
       "      <td>0</td>\n",
       "    </tr>\n",
       "    <tr>\n",
       "      <th>3199</th>\n",
       "      <td>2017-11-09</td>\n",
       "      <td>109.390</td>\n",
       "      <td>109.460</td>\n",
       "      <td>109.300</td>\n",
       "      <td>109.430</td>\n",
       "      <td>2470740</td>\n",
       "      <td>0</td>\n",
       "    </tr>\n",
       "    <tr>\n",
       "      <th>3200</th>\n",
       "      <td>2017-11-10</td>\n",
       "      <td>109.060</td>\n",
       "      <td>109.150</td>\n",
       "      <td>108.970</td>\n",
       "      <td>108.990</td>\n",
       "      <td>1751136</td>\n",
       "      <td>0</td>\n",
       "    </tr>\n",
       "  </tbody>\n",
       "</table>\n",
       "<p>3201 rows × 7 columns</p>\n",
       "</div>"
      ],
      "text/plain": [
       "            Date     Open     High      Low    Close   Volume  OpenInt\n",
       "0     2005-02-25   86.493   86.516   86.295   86.516    78933        0\n",
       "1     2005-02-28   86.516   86.534   86.163   86.287   425148        0\n",
       "2     2005-03-01   85.846   86.050   85.846   85.985   147700        0\n",
       "3     2005-03-02   85.779   86.016   85.779   85.874   202052        0\n",
       "4     2005-03-03   86.060   86.069   85.732   85.943   142621        0\n",
       "...          ...      ...      ...      ...      ...      ...      ...\n",
       "3196  2017-11-06  109.560  109.590  109.460  109.550  1292977        0\n",
       "3197  2017-11-07  109.580  109.610  109.490  109.580  2015511        0\n",
       "3198  2017-11-08  109.540  109.600  109.460  109.510  2738802        0\n",
       "3199  2017-11-09  109.390  109.460  109.300  109.430  2470740        0\n",
       "3200  2017-11-10  109.060  109.150  108.970  108.990  1751136        0\n",
       "\n",
       "[3201 rows x 7 columns]"
      ]
     },
     "execution_count": 235,
     "metadata": {},
     "output_type": "execute_result"
    }
   ],
   "source": [
    "df = pd.read_csv('milestone_stock.csv')\n",
    "df"
   ]
  },
  {
   "cell_type": "markdown",
   "metadata": {},
   "source": [
    "Loading up the entire dataset to ensure it is appropripriate to use"
   ]
  },
  {
   "cell_type": "code",
   "execution_count": 236,
   "metadata": {},
   "outputs": [
    {
     "name": "stdout",
     "output_type": "stream",
     "text": [
      "<class 'pandas.core.frame.DataFrame'>\n",
      "RangeIndex: 3201 entries, 0 to 3200\n",
      "Data columns (total 7 columns):\n",
      " #   Column   Non-Null Count  Dtype  \n",
      "---  ------   --------------  -----  \n",
      " 0   Date     3201 non-null   object \n",
      " 1   Open     3201 non-null   float64\n",
      " 2   High     3201 non-null   float64\n",
      " 3   Low      3201 non-null   float64\n",
      " 4   Close    3201 non-null   float64\n",
      " 5   Volume   3201 non-null   int64  \n",
      " 6   OpenInt  3201 non-null   int64  \n",
      "dtypes: float64(4), int64(2), object(1)\n",
      "memory usage: 175.2+ KB\n"
     ]
    }
   ],
   "source": [
    "df.info()"
   ]
  },
  {
   "cell_type": "markdown",
   "metadata": {},
   "source": [
    "Checking to see if all the columns are adjusted accordingly, here we see that the 'Date' is still categorized as object, not datetime"
   ]
  },
  {
   "cell_type": "markdown",
   "metadata": {},
   "source": [
    "# Data Cleaning"
   ]
  },
  {
   "cell_type": "markdown",
   "metadata": {},
   "source": [
    "### 1. Changing the 'Date' datasets into datetime datatype from object"
   ]
  },
  {
   "cell_type": "code",
   "execution_count": 237,
   "metadata": {},
   "outputs": [
    {
     "name": "stdout",
     "output_type": "stream",
     "text": [
      "<class 'pandas.core.frame.DataFrame'>\n",
      "RangeIndex: 3201 entries, 0 to 3200\n",
      "Data columns (total 7 columns):\n",
      " #   Column   Non-Null Count  Dtype         \n",
      "---  ------   --------------  -----         \n",
      " 0   Date     3201 non-null   datetime64[ns]\n",
      " 1   Open     3201 non-null   float64       \n",
      " 2   High     3201 non-null   float64       \n",
      " 3   Low      3201 non-null   float64       \n",
      " 4   Close    3201 non-null   float64       \n",
      " 5   Volume   3201 non-null   int64         \n",
      " 6   OpenInt  3201 non-null   int64         \n",
      "dtypes: datetime64[ns](1), float64(4), int64(2)\n",
      "memory usage: 175.2 KB\n"
     ]
    }
   ],
   "source": [
    "df['Date'] = pd.to_datetime(df['Date'], errors='coerce')\n",
    "df.info()"
   ]
  },
  {
   "cell_type": "markdown",
   "metadata": {},
   "source": [
    "This step is crucial, because we want to extract this later"
   ]
  },
  {
   "cell_type": "markdown",
   "metadata": {},
   "source": [
    "### 2. Extracting the year from the 'Date' column"
   ]
  },
  {
   "cell_type": "code",
   "execution_count": 238,
   "metadata": {},
   "outputs": [
    {
     "name": "stdout",
     "output_type": "stream",
     "text": [
      "<class 'pandas.core.frame.DataFrame'>\n",
      "RangeIndex: 3201 entries, 0 to 3200\n",
      "Data columns (total 8 columns):\n",
      " #   Column   Non-Null Count  Dtype         \n",
      "---  ------   --------------  -----         \n",
      " 0   Date     3201 non-null   datetime64[ns]\n",
      " 1   Open     3201 non-null   float64       \n",
      " 2   High     3201 non-null   float64       \n",
      " 3   Low      3201 non-null   float64       \n",
      " 4   Close    3201 non-null   float64       \n",
      " 5   Volume   3201 non-null   int64         \n",
      " 6   OpenInt  3201 non-null   int64         \n",
      " 7   year     3201 non-null   int32         \n",
      "dtypes: datetime64[ns](1), float64(4), int32(1), int64(2)\n",
      "memory usage: 187.7 KB\n"
     ]
    }
   ],
   "source": [
    "df['year'] = df['Date'].dt.year\n",
    "df.info()"
   ]
  },
  {
   "cell_type": "markdown",
   "metadata": {},
   "source": [
    "Extracting year will allow us to specifically access the data for this year"
   ]
  },
  {
   "cell_type": "markdown",
   "metadata": {},
   "source": [
    "### 3. Extracting quarter from the 'Date' column"
   ]
  },
  {
   "cell_type": "code",
   "execution_count": 239,
   "metadata": {},
   "outputs": [
    {
     "data": {
      "text/plain": [
       "0       1\n",
       "1       1\n",
       "2       1\n",
       "3       1\n",
       "4       1\n",
       "       ..\n",
       "3196    4\n",
       "3197    4\n",
       "3198    4\n",
       "3199    4\n",
       "3200    4\n",
       "Name: quarter, Length: 3201, dtype: int32"
      ]
     },
     "execution_count": 239,
     "metadata": {},
     "output_type": "execute_result"
    }
   ],
   "source": [
    "df['quarter'] = df['Date'].dt.quarter\n",
    "df['quarter']"
   ]
  },
  {
   "cell_type": "markdown",
   "metadata": {},
   "source": [
    "Because we want to analyze a specific quarter, this step is necessary"
   ]
  },
  {
   "cell_type": "markdown",
   "metadata": {},
   "source": [
    "### 4. From the datset loaded, the 'OpenInt' seems to be null or only has one value"
   ]
  },
  {
   "cell_type": "code",
   "execution_count": 240,
   "metadata": {},
   "outputs": [
    {
     "data": {
      "text/plain": [
       "array([0], dtype=int64)"
      ]
     },
     "execution_count": 240,
     "metadata": {},
     "output_type": "execute_result"
    }
   ],
   "source": [
    "df['OpenInt'].unique()"
   ]
  },
  {
   "cell_type": "markdown",
   "metadata": {},
   "source": [
    "Because it only has one value, which is 0, I will consider it null because it will be of no use for analysis. Open interest is the total number of futures contracts held by market participants at the end of the trading day. It is used as an indicator to determine market sentiment and the strength behind price trends. However, because it is zero, we cannot use it. Hence, I will just drop it"
   ]
  },
  {
   "cell_type": "markdown",
   "metadata": {},
   "source": [
    "### 5. Droping the column 'OpenInt'"
   ]
  },
  {
   "cell_type": "code",
   "execution_count": 241,
   "metadata": {},
   "outputs": [],
   "source": [
    "del df['OpenInt']"
   ]
  },
  {
   "cell_type": "markdown",
   "metadata": {},
   "source": [
    "### 6. Extracting the population and the sample dataset that will be used"
   ]
  },
  {
   "cell_type": "code",
   "execution_count": 242,
   "metadata": {},
   "outputs": [],
   "source": [
    "population = df[df['year'].isin([2005,2006, 2007, 2008, 2009, 2010])]\n",
    "before = df[df['year'].isin([2005,2006])]\n",
    "during = df[df['year'].isin([2007,2008])]\n",
    "after = df[df['year'].isin([2009,2010])]"
   ]
  },
  {
   "cell_type": "markdown",
   "metadata": {},
   "source": [
    "Here we are creating the population and samples"
   ]
  },
  {
   "cell_type": "markdown",
   "metadata": {},
   "source": [
    "### 7. Making sure all the necessary columns are inside"
   ]
  },
  {
   "cell_type": "code",
   "execution_count": 243,
   "metadata": {},
   "outputs": [
    {
     "data": {
      "text/plain": [
       "Index(['Date', 'Open', 'High', 'Low', 'Close', 'Volume', 'year', 'quarter'], dtype='object')"
      ]
     },
     "execution_count": 243,
     "metadata": {},
     "output_type": "execute_result"
    }
   ],
   "source": [
    "population.columns"
   ]
  },
  {
   "cell_type": "markdown",
   "metadata": {},
   "source": [
    "Ensuring that only the necessary columns are inside the data"
   ]
  },
  {
   "cell_type": "markdown",
   "metadata": {},
   "source": [
    "# Analysis"
   ]
  },
  {
   "cell_type": "markdown",
   "metadata": {},
   "source": [
    "### 1. Analysis of the 6 years overall performance"
   ]
  },
  {
   "cell_type": "markdown",
   "metadata": {},
   "source": [
    "To analyze the stock, first I need to see the descriptive statistics of the population that I am taking from the dataset. \n"
   ]
  },
  {
   "cell_type": "code",
   "execution_count": 244,
   "metadata": {},
   "outputs": [
    {
     "name": "stdout",
     "output_type": "stream",
     "text": [
      "count    1474.000000\n",
      "mean       85.819534\n",
      "std         2.406976\n",
      "min        74.626000\n",
      "25%        84.287250\n",
      "50%        85.353000\n",
      "75%        87.127000\n",
      "max        92.201000\n",
      "Name: Close, dtype: float64\n",
      "Skewness: 0.5322446778607238\n",
      "Kurtosis: 0.5546466967242467\n"
     ]
    }
   ],
   "source": [
    "print(population['Close'].describe())\n",
    "print(\"Skewness:\", population['Close'].skew())\n",
    "print(\"Kurtosis:\", population['Close'].kurtosis())"
   ]
  },
  {
   "cell_type": "markdown",
   "metadata": {},
   "source": [
    "From the population distribution statistics, we can see that it is not normally distributed."
   ]
  },
  {
   "cell_type": "markdown",
   "metadata": {},
   "source": [
    "Of course, the statistics may not be enough to interpret anything. Hence, we are going to use line graph to see the trend of this company stock. "
   ]
  },
  {
   "cell_type": "code",
   "execution_count": 245,
   "metadata": {},
   "outputs": [
    {
     "data": {
      "application/vnd.plotly.v1+json": {
       "config": {
        "plotlyServerURL": "https://plot.ly"
       },
       "data": [
        {
         "hovertemplate": "Date=%{x}<br>Close=%{y}<extra></extra>",
         "legendgroup": "",
         "line": {
          "color": "#636efa",
          "dash": "solid"
         },
         "marker": {
          "symbol": "circle"
         },
         "mode": "lines",
         "name": "",
         "showlegend": false,
         "type": "scattergl",
         "x": [
          "2005-02-25T00:00:00",
          "2005-02-28T00:00:00",
          "2005-03-01T00:00:00",
          "2005-03-02T00:00:00",
          "2005-03-03T00:00:00",
          "2005-03-04T00:00:00",
          "2005-03-07T00:00:00",
          "2005-03-08T00:00:00",
          "2005-03-09T00:00:00",
          "2005-03-10T00:00:00",
          "2005-03-11T00:00:00",
          "2005-03-14T00:00:00",
          "2005-03-15T00:00:00",
          "2005-03-16T00:00:00",
          "2005-03-17T00:00:00",
          "2005-03-18T00:00:00",
          "2005-03-21T00:00:00",
          "2005-03-22T00:00:00",
          "2005-03-23T00:00:00",
          "2005-03-24T00:00:00",
          "2005-03-28T00:00:00",
          "2005-03-29T00:00:00",
          "2005-03-30T00:00:00",
          "2005-03-31T00:00:00",
          "2005-04-01T00:00:00",
          "2005-04-04T00:00:00",
          "2005-04-05T00:00:00",
          "2005-04-06T00:00:00",
          "2005-04-07T00:00:00",
          "2005-04-08T00:00:00",
          "2005-04-11T00:00:00",
          "2005-04-12T00:00:00",
          "2005-04-13T00:00:00",
          "2005-04-14T00:00:00",
          "2005-04-15T00:00:00",
          "2005-04-18T00:00:00",
          "2005-04-19T00:00:00",
          "2005-04-20T00:00:00",
          "2005-04-21T00:00:00",
          "2005-04-22T00:00:00",
          "2005-04-25T00:00:00",
          "2005-04-26T00:00:00",
          "2005-04-27T00:00:00",
          "2005-04-28T00:00:00",
          "2005-04-29T00:00:00",
          "2005-05-02T00:00:00",
          "2005-05-03T00:00:00",
          "2005-05-04T00:00:00",
          "2005-05-05T00:00:00",
          "2005-05-06T00:00:00",
          "2005-05-09T00:00:00",
          "2005-05-10T00:00:00",
          "2005-05-11T00:00:00",
          "2005-05-12T00:00:00",
          "2005-05-13T00:00:00",
          "2005-05-16T00:00:00",
          "2005-05-17T00:00:00",
          "2005-05-18T00:00:00",
          "2005-05-19T00:00:00",
          "2005-05-20T00:00:00",
          "2005-05-23T00:00:00",
          "2005-05-24T00:00:00",
          "2005-05-25T00:00:00",
          "2005-05-26T00:00:00",
          "2005-05-27T00:00:00",
          "2005-05-31T00:00:00",
          "2005-06-01T00:00:00",
          "2005-06-02T00:00:00",
          "2005-06-03T00:00:00",
          "2005-06-06T00:00:00",
          "2005-06-07T00:00:00",
          "2005-06-08T00:00:00",
          "2005-06-09T00:00:00",
          "2005-06-10T00:00:00",
          "2005-06-13T00:00:00",
          "2005-06-14T00:00:00",
          "2005-06-15T00:00:00",
          "2005-06-16T00:00:00",
          "2005-06-17T00:00:00",
          "2005-06-20T00:00:00",
          "2005-06-21T00:00:00",
          "2005-06-22T00:00:00",
          "2005-06-23T00:00:00",
          "2005-06-24T00:00:00",
          "2005-06-27T00:00:00",
          "2005-06-28T00:00:00",
          "2005-06-29T00:00:00",
          "2005-06-30T00:00:00",
          "2005-07-01T00:00:00",
          "2005-07-05T00:00:00",
          "2005-07-06T00:00:00",
          "2005-07-07T00:00:00",
          "2005-07-08T00:00:00",
          "2005-07-11T00:00:00",
          "2005-07-12T00:00:00",
          "2005-07-13T00:00:00",
          "2005-07-14T00:00:00",
          "2005-07-15T00:00:00",
          "2005-07-18T00:00:00",
          "2005-07-19T00:00:00",
          "2005-07-20T00:00:00",
          "2005-07-21T00:00:00",
          "2005-07-22T00:00:00",
          "2005-07-25T00:00:00",
          "2005-07-26T00:00:00",
          "2005-07-27T00:00:00",
          "2005-07-28T00:00:00",
          "2005-07-29T00:00:00",
          "2005-08-01T00:00:00",
          "2005-08-02T00:00:00",
          "2005-08-03T00:00:00",
          "2005-08-04T00:00:00",
          "2005-08-05T00:00:00",
          "2005-08-08T00:00:00",
          "2005-08-09T00:00:00",
          "2005-08-10T00:00:00",
          "2005-08-11T00:00:00",
          "2005-08-12T00:00:00",
          "2005-08-15T00:00:00",
          "2005-08-16T00:00:00",
          "2005-08-17T00:00:00",
          "2005-08-18T00:00:00",
          "2005-08-19T00:00:00",
          "2005-08-22T00:00:00",
          "2005-08-23T00:00:00",
          "2005-08-24T00:00:00",
          "2005-08-25T00:00:00",
          "2005-08-26T00:00:00",
          "2005-08-29T00:00:00",
          "2005-08-30T00:00:00",
          "2005-08-31T00:00:00",
          "2005-09-01T00:00:00",
          "2005-09-02T00:00:00",
          "2005-09-06T00:00:00",
          "2005-09-07T00:00:00",
          "2005-09-08T00:00:00",
          "2005-09-09T00:00:00",
          "2005-09-12T00:00:00",
          "2005-09-13T00:00:00",
          "2005-09-14T00:00:00",
          "2005-09-15T00:00:00",
          "2005-09-16T00:00:00",
          "2005-09-19T00:00:00",
          "2005-09-20T00:00:00",
          "2005-09-21T00:00:00",
          "2005-09-22T00:00:00",
          "2005-09-23T00:00:00",
          "2005-09-26T00:00:00",
          "2005-09-27T00:00:00",
          "2005-09-28T00:00:00",
          "2005-09-29T00:00:00",
          "2005-09-30T00:00:00",
          "2005-10-03T00:00:00",
          "2005-10-04T00:00:00",
          "2005-10-05T00:00:00",
          "2005-10-06T00:00:00",
          "2005-10-07T00:00:00",
          "2005-10-10T00:00:00",
          "2005-10-11T00:00:00",
          "2005-10-12T00:00:00",
          "2005-10-13T00:00:00",
          "2005-10-14T00:00:00",
          "2005-10-17T00:00:00",
          "2005-10-18T00:00:00",
          "2005-10-19T00:00:00",
          "2005-10-20T00:00:00",
          "2005-10-21T00:00:00",
          "2005-10-24T00:00:00",
          "2005-10-25T00:00:00",
          "2005-10-26T00:00:00",
          "2005-10-27T00:00:00",
          "2005-10-28T00:00:00",
          "2005-10-31T00:00:00",
          "2005-11-01T00:00:00",
          "2005-11-02T00:00:00",
          "2005-11-03T00:00:00",
          "2005-11-04T00:00:00",
          "2005-11-07T00:00:00",
          "2005-11-08T00:00:00",
          "2005-11-09T00:00:00",
          "2005-11-10T00:00:00",
          "2005-11-11T00:00:00",
          "2005-11-14T00:00:00",
          "2005-11-15T00:00:00",
          "2005-11-16T00:00:00",
          "2005-11-17T00:00:00",
          "2005-11-18T00:00:00",
          "2005-11-21T00:00:00",
          "2005-11-22T00:00:00",
          "2005-11-23T00:00:00",
          "2005-11-25T00:00:00",
          "2005-11-28T00:00:00",
          "2005-11-29T00:00:00",
          "2005-11-30T00:00:00",
          "2005-12-01T00:00:00",
          "2005-12-02T00:00:00",
          "2005-12-05T00:00:00",
          "2005-12-06T00:00:00",
          "2005-12-07T00:00:00",
          "2005-12-08T00:00:00",
          "2005-12-09T00:00:00",
          "2005-12-12T00:00:00",
          "2005-12-13T00:00:00",
          "2005-12-14T00:00:00",
          "2005-12-15T00:00:00",
          "2005-12-16T00:00:00",
          "2005-12-19T00:00:00",
          "2005-12-20T00:00:00",
          "2005-12-21T00:00:00",
          "2005-12-22T00:00:00",
          "2005-12-23T00:00:00",
          "2005-12-27T00:00:00",
          "2005-12-28T00:00:00",
          "2005-12-29T00:00:00",
          "2005-12-30T00:00:00",
          "2006-01-03T00:00:00",
          "2006-01-04T00:00:00",
          "2006-01-05T00:00:00",
          "2006-01-06T00:00:00",
          "2006-01-09T00:00:00",
          "2006-01-10T00:00:00",
          "2006-01-11T00:00:00",
          "2006-01-12T00:00:00",
          "2006-01-13T00:00:00",
          "2006-01-17T00:00:00",
          "2006-01-18T00:00:00",
          "2006-01-19T00:00:00",
          "2006-01-20T00:00:00",
          "2006-01-23T00:00:00",
          "2006-01-24T00:00:00",
          "2006-01-25T00:00:00",
          "2006-01-26T00:00:00",
          "2006-01-27T00:00:00",
          "2006-01-30T00:00:00",
          "2006-01-31T00:00:00",
          "2006-02-01T00:00:00",
          "2006-02-02T00:00:00",
          "2006-02-03T00:00:00",
          "2006-02-06T00:00:00",
          "2006-02-07T00:00:00",
          "2006-02-08T00:00:00",
          "2006-02-09T00:00:00",
          "2006-02-10T00:00:00",
          "2006-02-13T00:00:00",
          "2006-02-14T00:00:00",
          "2006-02-15T00:00:00",
          "2006-02-16T00:00:00",
          "2006-02-17T00:00:00",
          "2006-02-21T00:00:00",
          "2006-02-22T00:00:00",
          "2006-02-23T00:00:00",
          "2006-02-24T00:00:00",
          "2006-02-27T00:00:00",
          "2006-02-28T00:00:00",
          "2006-03-01T00:00:00",
          "2006-03-02T00:00:00",
          "2006-03-03T00:00:00",
          "2006-03-06T00:00:00",
          "2006-03-07T00:00:00",
          "2006-03-08T00:00:00",
          "2006-03-09T00:00:00",
          "2006-03-10T00:00:00",
          "2006-03-13T00:00:00",
          "2006-03-14T00:00:00",
          "2006-03-15T00:00:00",
          "2006-03-16T00:00:00",
          "2006-03-17T00:00:00",
          "2006-03-20T00:00:00",
          "2006-03-21T00:00:00",
          "2006-03-22T00:00:00",
          "2006-03-23T00:00:00",
          "2006-03-24T00:00:00",
          "2006-03-27T00:00:00",
          "2006-03-28T00:00:00",
          "2006-03-29T00:00:00",
          "2006-03-30T00:00:00",
          "2006-03-31T00:00:00",
          "2006-04-03T00:00:00",
          "2006-04-04T00:00:00",
          "2006-04-05T00:00:00",
          "2006-04-06T00:00:00",
          "2006-04-07T00:00:00",
          "2006-04-10T00:00:00",
          "2006-04-11T00:00:00",
          "2006-04-12T00:00:00",
          "2006-04-13T00:00:00",
          "2006-04-17T00:00:00",
          "2006-04-18T00:00:00",
          "2006-04-19T00:00:00",
          "2006-04-20T00:00:00",
          "2006-04-21T00:00:00",
          "2006-04-24T00:00:00",
          "2006-04-25T00:00:00",
          "2006-04-26T00:00:00",
          "2006-04-27T00:00:00",
          "2006-04-28T00:00:00",
          "2006-05-01T00:00:00",
          "2006-05-02T00:00:00",
          "2006-05-03T00:00:00",
          "2006-05-04T00:00:00",
          "2006-05-05T00:00:00",
          "2006-05-08T00:00:00",
          "2006-05-09T00:00:00",
          "2006-05-10T00:00:00",
          "2006-05-11T00:00:00",
          "2006-05-12T00:00:00",
          "2006-05-15T00:00:00",
          "2006-05-16T00:00:00",
          "2006-05-17T00:00:00",
          "2006-05-18T00:00:00",
          "2006-05-19T00:00:00",
          "2006-05-22T00:00:00",
          "2006-05-23T00:00:00",
          "2006-05-24T00:00:00",
          "2006-05-25T00:00:00",
          "2006-05-26T00:00:00",
          "2006-05-30T00:00:00",
          "2006-05-31T00:00:00",
          "2006-06-01T00:00:00",
          "2006-06-02T00:00:00",
          "2006-06-05T00:00:00",
          "2006-06-06T00:00:00",
          "2006-06-07T00:00:00",
          "2006-06-08T00:00:00",
          "2006-06-09T00:00:00",
          "2006-06-12T00:00:00",
          "2006-06-13T00:00:00",
          "2006-06-14T00:00:00",
          "2006-06-15T00:00:00",
          "2006-06-16T00:00:00",
          "2006-06-19T00:00:00",
          "2006-06-20T00:00:00",
          "2006-06-21T00:00:00",
          "2006-06-22T00:00:00",
          "2006-06-23T00:00:00",
          "2006-06-26T00:00:00",
          "2006-06-27T00:00:00",
          "2006-06-28T00:00:00",
          "2006-06-29T00:00:00",
          "2006-06-30T00:00:00",
          "2006-07-03T00:00:00",
          "2006-07-05T00:00:00",
          "2006-07-06T00:00:00",
          "2006-07-07T00:00:00",
          "2006-07-10T00:00:00",
          "2006-07-11T00:00:00",
          "2006-07-12T00:00:00",
          "2006-07-13T00:00:00",
          "2006-07-14T00:00:00",
          "2006-07-17T00:00:00",
          "2006-07-18T00:00:00",
          "2006-07-19T00:00:00",
          "2006-07-20T00:00:00",
          "2006-07-21T00:00:00",
          "2006-07-24T00:00:00",
          "2006-07-25T00:00:00",
          "2006-07-26T00:00:00",
          "2006-07-27T00:00:00",
          "2006-07-28T00:00:00",
          "2006-07-31T00:00:00",
          "2006-08-01T00:00:00",
          "2006-08-02T00:00:00",
          "2006-08-03T00:00:00",
          "2006-08-04T00:00:00",
          "2006-08-07T00:00:00",
          "2006-08-08T00:00:00",
          "2006-08-09T00:00:00",
          "2006-08-10T00:00:00",
          "2006-08-11T00:00:00",
          "2006-08-14T00:00:00",
          "2006-08-15T00:00:00",
          "2006-08-16T00:00:00",
          "2006-08-17T00:00:00",
          "2006-08-18T00:00:00",
          "2006-08-21T00:00:00",
          "2006-08-22T00:00:00",
          "2006-08-23T00:00:00",
          "2006-08-24T00:00:00",
          "2006-08-25T00:00:00",
          "2006-08-28T00:00:00",
          "2006-08-29T00:00:00",
          "2006-08-30T00:00:00",
          "2006-08-31T00:00:00",
          "2006-09-01T00:00:00",
          "2006-09-05T00:00:00",
          "2006-09-06T00:00:00",
          "2006-09-07T00:00:00",
          "2006-09-08T00:00:00",
          "2006-09-11T00:00:00",
          "2006-09-12T00:00:00",
          "2006-09-13T00:00:00",
          "2006-09-14T00:00:00",
          "2006-09-15T00:00:00",
          "2006-09-18T00:00:00",
          "2006-09-19T00:00:00",
          "2006-09-20T00:00:00",
          "2006-09-21T00:00:00",
          "2006-09-22T00:00:00",
          "2006-09-25T00:00:00",
          "2006-09-26T00:00:00",
          "2006-09-27T00:00:00",
          "2006-09-28T00:00:00",
          "2006-09-29T00:00:00",
          "2006-10-02T00:00:00",
          "2006-10-03T00:00:00",
          "2006-10-04T00:00:00",
          "2006-10-05T00:00:00",
          "2006-10-06T00:00:00",
          "2006-10-09T00:00:00",
          "2006-10-10T00:00:00",
          "2006-10-11T00:00:00",
          "2006-10-12T00:00:00",
          "2006-10-13T00:00:00",
          "2006-10-16T00:00:00",
          "2006-10-17T00:00:00",
          "2006-10-18T00:00:00",
          "2006-10-19T00:00:00",
          "2006-10-20T00:00:00",
          "2006-10-23T00:00:00",
          "2006-10-24T00:00:00",
          "2006-10-25T00:00:00",
          "2006-10-26T00:00:00",
          "2006-10-27T00:00:00",
          "2006-10-30T00:00:00",
          "2006-10-31T00:00:00",
          "2006-11-01T00:00:00",
          "2006-11-02T00:00:00",
          "2006-11-03T00:00:00",
          "2006-11-06T00:00:00",
          "2006-11-07T00:00:00",
          "2006-11-08T00:00:00",
          "2006-11-09T00:00:00",
          "2006-11-10T00:00:00",
          "2006-11-13T00:00:00",
          "2006-11-14T00:00:00",
          "2006-11-15T00:00:00",
          "2006-11-16T00:00:00",
          "2006-11-17T00:00:00",
          "2006-11-20T00:00:00",
          "2006-11-21T00:00:00",
          "2006-11-22T00:00:00",
          "2006-11-24T00:00:00",
          "2006-11-27T00:00:00",
          "2006-11-28T00:00:00",
          "2006-11-29T00:00:00",
          "2006-11-30T00:00:00",
          "2006-12-01T00:00:00",
          "2006-12-04T00:00:00",
          "2006-12-05T00:00:00",
          "2006-12-06T00:00:00",
          "2006-12-07T00:00:00",
          "2006-12-08T00:00:00",
          "2006-12-11T00:00:00",
          "2006-12-12T00:00:00",
          "2006-12-13T00:00:00",
          "2006-12-14T00:00:00",
          "2006-12-15T00:00:00",
          "2006-12-18T00:00:00",
          "2006-12-19T00:00:00",
          "2006-12-20T00:00:00",
          "2006-12-21T00:00:00",
          "2006-12-22T00:00:00",
          "2006-12-26T00:00:00",
          "2006-12-27T00:00:00",
          "2006-12-28T00:00:00",
          "2006-12-29T00:00:00",
          "2007-01-03T00:00:00",
          "2007-01-04T00:00:00",
          "2007-01-05T00:00:00",
          "2007-01-08T00:00:00",
          "2007-01-09T00:00:00",
          "2007-01-10T00:00:00",
          "2007-01-11T00:00:00",
          "2007-01-12T00:00:00",
          "2007-01-16T00:00:00",
          "2007-01-17T00:00:00",
          "2007-01-18T00:00:00",
          "2007-01-19T00:00:00",
          "2007-01-22T00:00:00",
          "2007-01-23T00:00:00",
          "2007-01-24T00:00:00",
          "2007-01-25T00:00:00",
          "2007-01-26T00:00:00",
          "2007-01-29T00:00:00",
          "2007-01-30T00:00:00",
          "2007-01-31T00:00:00",
          "2007-02-01T00:00:00",
          "2007-02-02T00:00:00",
          "2007-02-05T00:00:00",
          "2007-02-06T00:00:00",
          "2007-02-07T00:00:00",
          "2007-02-08T00:00:00",
          "2007-02-09T00:00:00",
          "2007-02-12T00:00:00",
          "2007-02-13T00:00:00",
          "2007-02-14T00:00:00",
          "2007-02-15T00:00:00",
          "2007-02-16T00:00:00",
          "2007-02-20T00:00:00",
          "2007-02-21T00:00:00",
          "2007-02-22T00:00:00",
          "2007-02-23T00:00:00",
          "2007-02-26T00:00:00",
          "2007-02-27T00:00:00",
          "2007-02-28T00:00:00",
          "2007-03-01T00:00:00",
          "2007-03-02T00:00:00",
          "2007-03-05T00:00:00",
          "2007-03-06T00:00:00",
          "2007-03-07T00:00:00",
          "2007-03-08T00:00:00",
          "2007-03-09T00:00:00",
          "2007-03-12T00:00:00",
          "2007-03-13T00:00:00",
          "2007-03-14T00:00:00",
          "2007-03-15T00:00:00",
          "2007-03-16T00:00:00",
          "2007-03-19T00:00:00",
          "2007-03-20T00:00:00",
          "2007-03-21T00:00:00",
          "2007-03-22T00:00:00",
          "2007-03-23T00:00:00",
          "2007-03-26T00:00:00",
          "2007-03-27T00:00:00",
          "2007-03-28T00:00:00",
          "2007-03-29T00:00:00",
          "2007-03-30T00:00:00",
          "2007-04-02T00:00:00",
          "2007-04-03T00:00:00",
          "2007-04-04T00:00:00",
          "2007-04-05T00:00:00",
          "2007-04-09T00:00:00",
          "2007-04-10T00:00:00",
          "2007-04-11T00:00:00",
          "2007-04-12T00:00:00",
          "2007-04-13T00:00:00",
          "2007-04-16T00:00:00",
          "2007-04-17T00:00:00",
          "2007-04-18T00:00:00",
          "2007-04-19T00:00:00",
          "2007-04-20T00:00:00",
          "2007-04-23T00:00:00",
          "2007-04-24T00:00:00",
          "2007-04-25T00:00:00",
          "2007-04-26T00:00:00",
          "2007-04-27T00:00:00",
          "2007-04-30T00:00:00",
          "2007-05-01T00:00:00",
          "2007-05-02T00:00:00",
          "2007-05-03T00:00:00",
          "2007-05-04T00:00:00",
          "2007-05-07T00:00:00",
          "2007-05-08T00:00:00",
          "2007-05-09T00:00:00",
          "2007-05-10T00:00:00",
          "2007-05-11T00:00:00",
          "2007-05-14T00:00:00",
          "2007-05-15T00:00:00",
          "2007-05-16T00:00:00",
          "2007-05-17T00:00:00",
          "2007-05-18T00:00:00",
          "2007-05-21T00:00:00",
          "2007-05-22T00:00:00",
          "2007-05-23T00:00:00",
          "2007-05-24T00:00:00",
          "2007-05-25T00:00:00",
          "2007-05-29T00:00:00",
          "2007-05-30T00:00:00",
          "2007-05-31T00:00:00",
          "2007-06-01T00:00:00",
          "2007-06-04T00:00:00",
          "2007-06-05T00:00:00",
          "2007-06-06T00:00:00",
          "2007-06-07T00:00:00",
          "2007-06-08T00:00:00",
          "2007-06-11T00:00:00",
          "2007-06-12T00:00:00",
          "2007-06-13T00:00:00",
          "2007-06-14T00:00:00",
          "2007-06-15T00:00:00",
          "2007-06-18T00:00:00",
          "2007-06-19T00:00:00",
          "2007-06-20T00:00:00",
          "2007-06-21T00:00:00",
          "2007-06-22T00:00:00",
          "2007-06-25T00:00:00",
          "2007-06-26T00:00:00",
          "2007-06-27T00:00:00",
          "2007-06-28T00:00:00",
          "2007-06-29T00:00:00",
          "2007-07-02T00:00:00",
          "2007-07-03T00:00:00",
          "2007-07-05T00:00:00",
          "2007-07-06T00:00:00",
          "2007-07-09T00:00:00",
          "2007-07-10T00:00:00",
          "2007-07-11T00:00:00",
          "2007-07-12T00:00:00",
          "2007-07-13T00:00:00",
          "2007-07-16T00:00:00",
          "2007-07-17T00:00:00",
          "2007-07-18T00:00:00",
          "2007-07-19T00:00:00",
          "2007-07-20T00:00:00",
          "2007-07-23T00:00:00",
          "2007-07-24T00:00:00",
          "2007-07-25T00:00:00",
          "2007-07-26T00:00:00",
          "2007-07-27T00:00:00",
          "2007-07-30T00:00:00",
          "2007-07-31T00:00:00",
          "2007-08-01T00:00:00",
          "2007-08-02T00:00:00",
          "2007-08-03T00:00:00",
          "2007-08-06T00:00:00",
          "2007-08-07T00:00:00",
          "2007-08-08T00:00:00",
          "2007-08-09T00:00:00",
          "2007-08-10T00:00:00",
          "2007-08-13T00:00:00",
          "2007-08-14T00:00:00",
          "2007-08-15T00:00:00",
          "2007-08-16T00:00:00",
          "2007-08-17T00:00:00",
          "2007-08-20T00:00:00",
          "2007-08-21T00:00:00",
          "2007-08-22T00:00:00",
          "2007-08-23T00:00:00",
          "2007-08-24T00:00:00",
          "2007-08-27T00:00:00",
          "2007-08-28T00:00:00",
          "2007-08-29T00:00:00",
          "2007-08-30T00:00:00",
          "2007-08-31T00:00:00",
          "2007-09-04T00:00:00",
          "2007-09-05T00:00:00",
          "2007-09-06T00:00:00",
          "2007-09-07T00:00:00",
          "2007-09-10T00:00:00",
          "2007-09-11T00:00:00",
          "2007-09-12T00:00:00",
          "2007-09-13T00:00:00",
          "2007-09-14T00:00:00",
          "2007-09-17T00:00:00",
          "2007-09-18T00:00:00",
          "2007-09-19T00:00:00",
          "2007-09-20T00:00:00",
          "2007-09-21T00:00:00",
          "2007-09-24T00:00:00",
          "2007-09-25T00:00:00",
          "2007-09-26T00:00:00",
          "2007-09-27T00:00:00",
          "2007-09-28T00:00:00",
          "2007-10-01T00:00:00",
          "2007-10-02T00:00:00",
          "2007-10-03T00:00:00",
          "2007-10-04T00:00:00",
          "2007-10-05T00:00:00",
          "2007-10-08T00:00:00",
          "2007-10-09T00:00:00",
          "2007-10-10T00:00:00",
          "2007-10-11T00:00:00",
          "2007-10-12T00:00:00",
          "2007-10-15T00:00:00",
          "2007-10-16T00:00:00",
          "2007-10-17T00:00:00",
          "2007-10-18T00:00:00",
          "2007-10-19T00:00:00",
          "2007-10-22T00:00:00",
          "2007-10-23T00:00:00",
          "2007-10-24T00:00:00",
          "2007-10-25T00:00:00",
          "2007-10-26T00:00:00",
          "2007-10-29T00:00:00",
          "2007-10-30T00:00:00",
          "2007-10-31T00:00:00",
          "2007-11-01T00:00:00",
          "2007-11-02T00:00:00",
          "2007-11-05T00:00:00",
          "2007-11-06T00:00:00",
          "2007-11-07T00:00:00",
          "2007-11-08T00:00:00",
          "2007-11-09T00:00:00",
          "2007-11-12T00:00:00",
          "2007-11-13T00:00:00",
          "2007-11-14T00:00:00",
          "2007-11-15T00:00:00",
          "2007-11-16T00:00:00",
          "2007-11-19T00:00:00",
          "2007-11-20T00:00:00",
          "2007-11-21T00:00:00",
          "2007-11-23T00:00:00",
          "2007-11-26T00:00:00",
          "2007-11-27T00:00:00",
          "2007-11-28T00:00:00",
          "2007-11-29T00:00:00",
          "2007-11-30T00:00:00",
          "2007-12-03T00:00:00",
          "2007-12-04T00:00:00",
          "2007-12-05T00:00:00",
          "2007-12-06T00:00:00",
          "2007-12-07T00:00:00",
          "2007-12-10T00:00:00",
          "2007-12-11T00:00:00",
          "2007-12-12T00:00:00",
          "2007-12-13T00:00:00",
          "2007-12-14T00:00:00",
          "2007-12-17T00:00:00",
          "2007-12-18T00:00:00",
          "2007-12-19T00:00:00",
          "2007-12-20T00:00:00",
          "2007-12-21T00:00:00",
          "2007-12-24T00:00:00",
          "2007-12-26T00:00:00",
          "2007-12-27T00:00:00",
          "2007-12-28T00:00:00",
          "2007-12-31T00:00:00",
          "2008-01-02T00:00:00",
          "2008-01-03T00:00:00",
          "2008-01-04T00:00:00",
          "2008-01-07T00:00:00",
          "2008-01-08T00:00:00",
          "2008-01-09T00:00:00",
          "2008-01-10T00:00:00",
          "2008-01-11T00:00:00",
          "2008-01-14T00:00:00",
          "2008-01-15T00:00:00",
          "2008-01-16T00:00:00",
          "2008-01-17T00:00:00",
          "2008-01-18T00:00:00",
          "2008-01-22T00:00:00",
          "2008-01-23T00:00:00",
          "2008-01-24T00:00:00",
          "2008-01-25T00:00:00",
          "2008-01-28T00:00:00",
          "2008-01-29T00:00:00",
          "2008-01-30T00:00:00",
          "2008-01-31T00:00:00",
          "2008-02-01T00:00:00",
          "2008-02-04T00:00:00",
          "2008-02-05T00:00:00",
          "2008-02-06T00:00:00",
          "2008-02-07T00:00:00",
          "2008-02-08T00:00:00",
          "2008-02-11T00:00:00",
          "2008-02-12T00:00:00",
          "2008-02-13T00:00:00",
          "2008-02-14T00:00:00",
          "2008-02-15T00:00:00",
          "2008-02-19T00:00:00",
          "2008-02-20T00:00:00",
          "2008-02-21T00:00:00",
          "2008-02-22T00:00:00",
          "2008-02-25T00:00:00",
          "2008-02-26T00:00:00",
          "2008-02-27T00:00:00",
          "2008-02-28T00:00:00",
          "2008-02-29T00:00:00",
          "2008-03-03T00:00:00",
          "2008-03-04T00:00:00",
          "2008-03-05T00:00:00",
          "2008-03-06T00:00:00",
          "2008-03-07T00:00:00",
          "2008-03-10T00:00:00",
          "2008-03-11T00:00:00",
          "2008-03-12T00:00:00",
          "2008-03-13T00:00:00",
          "2008-03-14T00:00:00",
          "2008-03-17T00:00:00",
          "2008-03-18T00:00:00",
          "2008-03-19T00:00:00",
          "2008-03-20T00:00:00",
          "2008-03-24T00:00:00",
          "2008-03-25T00:00:00",
          "2008-03-26T00:00:00",
          "2008-03-27T00:00:00",
          "2008-03-28T00:00:00",
          "2008-03-31T00:00:00",
          "2008-04-01T00:00:00",
          "2008-04-02T00:00:00",
          "2008-04-03T00:00:00",
          "2008-04-04T00:00:00",
          "2008-04-07T00:00:00",
          "2008-04-08T00:00:00",
          "2008-04-09T00:00:00",
          "2008-04-10T00:00:00",
          "2008-04-11T00:00:00",
          "2008-04-14T00:00:00",
          "2008-04-15T00:00:00",
          "2008-04-16T00:00:00",
          "2008-04-17T00:00:00",
          "2008-04-18T00:00:00",
          "2008-04-21T00:00:00",
          "2008-04-22T00:00:00",
          "2008-04-23T00:00:00",
          "2008-04-24T00:00:00",
          "2008-04-25T00:00:00",
          "2008-04-28T00:00:00",
          "2008-04-29T00:00:00",
          "2008-04-30T00:00:00",
          "2008-05-01T00:00:00",
          "2008-05-02T00:00:00",
          "2008-05-05T00:00:00",
          "2008-05-06T00:00:00",
          "2008-05-07T00:00:00",
          "2008-05-08T00:00:00",
          "2008-05-09T00:00:00",
          "2008-05-12T00:00:00",
          "2008-05-13T00:00:00",
          "2008-05-14T00:00:00",
          "2008-05-15T00:00:00",
          "2008-05-16T00:00:00",
          "2008-05-19T00:00:00",
          "2008-05-20T00:00:00",
          "2008-05-21T00:00:00",
          "2008-05-22T00:00:00",
          "2008-05-23T00:00:00",
          "2008-05-27T00:00:00",
          "2008-05-28T00:00:00",
          "2008-05-29T00:00:00",
          "2008-05-30T00:00:00",
          "2008-06-02T00:00:00",
          "2008-06-03T00:00:00",
          "2008-06-04T00:00:00",
          "2008-06-05T00:00:00",
          "2008-06-06T00:00:00",
          "2008-06-09T00:00:00",
          "2008-06-10T00:00:00",
          "2008-06-11T00:00:00",
          "2008-06-12T00:00:00",
          "2008-06-13T00:00:00",
          "2008-06-16T00:00:00",
          "2008-06-17T00:00:00",
          "2008-06-18T00:00:00",
          "2008-06-19T00:00:00",
          "2008-06-20T00:00:00",
          "2008-06-23T00:00:00",
          "2008-06-24T00:00:00",
          "2008-06-25T00:00:00",
          "2008-06-26T00:00:00",
          "2008-06-27T00:00:00",
          "2008-06-30T00:00:00",
          "2008-07-01T00:00:00",
          "2008-07-02T00:00:00",
          "2008-07-03T00:00:00",
          "2008-07-07T00:00:00",
          "2008-07-08T00:00:00",
          "2008-07-09T00:00:00",
          "2008-07-10T00:00:00",
          "2008-07-11T00:00:00",
          "2008-07-14T00:00:00",
          "2008-07-15T00:00:00",
          "2008-07-16T00:00:00",
          "2008-07-17T00:00:00",
          "2008-07-18T00:00:00",
          "2008-07-21T00:00:00",
          "2008-07-22T00:00:00",
          "2008-07-23T00:00:00",
          "2008-07-24T00:00:00",
          "2008-07-25T00:00:00",
          "2008-07-28T00:00:00",
          "2008-07-29T00:00:00",
          "2008-07-30T00:00:00",
          "2008-07-31T00:00:00",
          "2008-08-01T00:00:00",
          "2008-08-04T00:00:00",
          "2008-08-05T00:00:00",
          "2008-08-06T00:00:00",
          "2008-08-07T00:00:00",
          "2008-08-08T00:00:00",
          "2008-08-11T00:00:00",
          "2008-08-12T00:00:00",
          "2008-08-13T00:00:00",
          "2008-08-14T00:00:00",
          "2008-08-15T00:00:00",
          "2008-08-18T00:00:00",
          "2008-08-19T00:00:00",
          "2008-08-20T00:00:00",
          "2008-08-21T00:00:00",
          "2008-08-22T00:00:00",
          "2008-08-25T00:00:00",
          "2008-08-26T00:00:00",
          "2008-08-27T00:00:00",
          "2008-08-28T00:00:00",
          "2008-08-29T00:00:00",
          "2008-09-02T00:00:00",
          "2008-09-03T00:00:00",
          "2008-09-04T00:00:00",
          "2008-09-05T00:00:00",
          "2008-09-08T00:00:00",
          "2008-09-09T00:00:00",
          "2008-09-10T00:00:00",
          "2008-09-11T00:00:00",
          "2008-09-12T00:00:00",
          "2008-09-15T00:00:00",
          "2008-09-16T00:00:00",
          "2008-09-17T00:00:00",
          "2008-09-18T00:00:00",
          "2008-09-19T00:00:00",
          "2008-09-22T00:00:00",
          "2008-09-23T00:00:00",
          "2008-09-24T00:00:00",
          "2008-09-25T00:00:00",
          "2008-09-26T00:00:00",
          "2008-09-29T00:00:00",
          "2008-09-30T00:00:00",
          "2008-10-01T00:00:00",
          "2008-10-02T00:00:00",
          "2008-10-03T00:00:00",
          "2008-10-06T00:00:00",
          "2008-10-07T00:00:00",
          "2008-10-08T00:00:00",
          "2008-10-09T00:00:00",
          "2008-10-10T00:00:00",
          "2008-10-13T00:00:00",
          "2008-10-14T00:00:00",
          "2008-10-15T00:00:00",
          "2008-10-16T00:00:00",
          "2008-10-17T00:00:00",
          "2008-10-20T00:00:00",
          "2008-10-21T00:00:00",
          "2008-10-22T00:00:00",
          "2008-10-23T00:00:00",
          "2008-10-24T00:00:00",
          "2008-10-27T00:00:00",
          "2008-10-28T00:00:00",
          "2008-10-29T00:00:00",
          "2008-10-30T00:00:00",
          "2008-10-31T00:00:00",
          "2008-11-03T00:00:00",
          "2008-11-04T00:00:00",
          "2008-11-05T00:00:00",
          "2008-11-06T00:00:00",
          "2008-11-07T00:00:00",
          "2008-11-10T00:00:00",
          "2008-11-11T00:00:00",
          "2008-11-12T00:00:00",
          "2008-11-13T00:00:00",
          "2008-11-14T00:00:00",
          "2008-11-17T00:00:00",
          "2008-11-18T00:00:00",
          "2008-11-19T00:00:00",
          "2008-11-20T00:00:00",
          "2008-11-21T00:00:00",
          "2008-11-24T00:00:00",
          "2008-11-25T00:00:00",
          "2008-11-26T00:00:00",
          "2008-11-28T00:00:00",
          "2008-12-01T00:00:00",
          "2008-12-02T00:00:00",
          "2008-12-03T00:00:00",
          "2008-12-04T00:00:00",
          "2008-12-05T00:00:00",
          "2008-12-08T00:00:00",
          "2008-12-09T00:00:00",
          "2008-12-10T00:00:00",
          "2008-12-11T00:00:00",
          "2008-12-12T00:00:00",
          "2008-12-15T00:00:00",
          "2008-12-16T00:00:00",
          "2008-12-17T00:00:00",
          "2008-12-18T00:00:00",
          "2008-12-19T00:00:00",
          "2008-12-22T00:00:00",
          "2008-12-23T00:00:00",
          "2008-12-24T00:00:00",
          "2008-12-26T00:00:00",
          "2008-12-29T00:00:00",
          "2008-12-30T00:00:00",
          "2008-12-31T00:00:00",
          "2009-01-02T00:00:00",
          "2009-01-05T00:00:00",
          "2009-01-06T00:00:00",
          "2009-01-07T00:00:00",
          "2009-01-08T00:00:00",
          "2009-01-09T00:00:00",
          "2009-01-12T00:00:00",
          "2009-01-13T00:00:00",
          "2009-01-14T00:00:00",
          "2009-01-15T00:00:00",
          "2009-01-16T00:00:00",
          "2009-01-20T00:00:00",
          "2009-01-21T00:00:00",
          "2009-01-22T00:00:00",
          "2009-01-23T00:00:00",
          "2009-01-26T00:00:00",
          "2009-01-27T00:00:00",
          "2009-01-28T00:00:00",
          "2009-01-29T00:00:00",
          "2009-01-30T00:00:00",
          "2009-02-02T00:00:00",
          "2009-02-03T00:00:00",
          "2009-02-04T00:00:00",
          "2009-02-05T00:00:00",
          "2009-02-06T00:00:00",
          "2009-02-09T00:00:00",
          "2009-02-10T00:00:00",
          "2009-02-11T00:00:00",
          "2009-02-12T00:00:00",
          "2009-02-13T00:00:00",
          "2009-02-17T00:00:00",
          "2009-02-18T00:00:00",
          "2009-02-19T00:00:00",
          "2009-02-20T00:00:00",
          "2009-02-23T00:00:00",
          "2009-02-24T00:00:00",
          "2009-02-25T00:00:00",
          "2009-02-26T00:00:00",
          "2009-02-27T00:00:00",
          "2009-03-02T00:00:00",
          "2009-03-03T00:00:00",
          "2009-03-04T00:00:00",
          "2009-03-05T00:00:00",
          "2009-03-06T00:00:00",
          "2009-03-09T00:00:00",
          "2009-03-10T00:00:00",
          "2009-03-11T00:00:00",
          "2009-03-12T00:00:00",
          "2009-03-13T00:00:00",
          "2009-03-16T00:00:00",
          "2009-03-17T00:00:00",
          "2009-03-18T00:00:00",
          "2009-03-19T00:00:00",
          "2009-03-20T00:00:00",
          "2009-03-23T00:00:00",
          "2009-03-24T00:00:00",
          "2009-03-25T00:00:00",
          "2009-03-26T00:00:00",
          "2009-03-27T00:00:00",
          "2009-03-30T00:00:00",
          "2009-03-31T00:00:00",
          "2009-04-01T00:00:00",
          "2009-04-02T00:00:00",
          "2009-04-03T00:00:00",
          "2009-04-06T00:00:00",
          "2009-04-07T00:00:00",
          "2009-04-08T00:00:00",
          "2009-04-09T00:00:00",
          "2009-04-13T00:00:00",
          "2009-04-14T00:00:00",
          "2009-04-15T00:00:00",
          "2009-04-16T00:00:00",
          "2009-04-17T00:00:00",
          "2009-04-20T00:00:00",
          "2009-04-21T00:00:00",
          "2009-04-22T00:00:00",
          "2009-04-23T00:00:00",
          "2009-04-24T00:00:00",
          "2009-04-27T00:00:00",
          "2009-04-28T00:00:00",
          "2009-04-29T00:00:00",
          "2009-04-30T00:00:00",
          "2009-05-01T00:00:00",
          "2009-05-04T00:00:00",
          "2009-05-05T00:00:00",
          "2009-05-06T00:00:00",
          "2009-05-07T00:00:00",
          "2009-05-08T00:00:00",
          "2009-05-11T00:00:00",
          "2009-05-12T00:00:00",
          "2009-05-13T00:00:00",
          "2009-05-14T00:00:00",
          "2009-05-15T00:00:00",
          "2009-05-18T00:00:00",
          "2009-05-19T00:00:00",
          "2009-05-20T00:00:00",
          "2009-05-21T00:00:00",
          "2009-05-22T00:00:00",
          "2009-05-26T00:00:00",
          "2009-05-27T00:00:00",
          "2009-05-28T00:00:00",
          "2009-05-29T00:00:00",
          "2009-06-01T00:00:00",
          "2009-06-02T00:00:00",
          "2009-06-03T00:00:00",
          "2009-06-04T00:00:00",
          "2009-06-05T00:00:00",
          "2009-06-08T00:00:00",
          "2009-06-09T00:00:00",
          "2009-06-10T00:00:00",
          "2009-06-11T00:00:00",
          "2009-06-12T00:00:00",
          "2009-06-15T00:00:00",
          "2009-06-16T00:00:00",
          "2009-06-17T00:00:00",
          "2009-06-18T00:00:00",
          "2009-06-19T00:00:00",
          "2009-06-22T00:00:00",
          "2009-06-23T00:00:00",
          "2009-06-24T00:00:00",
          "2009-06-25T00:00:00",
          "2009-06-26T00:00:00",
          "2009-06-29T00:00:00",
          "2009-06-30T00:00:00",
          "2009-07-01T00:00:00",
          "2009-07-02T00:00:00",
          "2009-07-06T00:00:00",
          "2009-07-07T00:00:00",
          "2009-07-08T00:00:00",
          "2009-07-09T00:00:00",
          "2009-07-10T00:00:00",
          "2009-07-13T00:00:00",
          "2009-07-14T00:00:00",
          "2009-07-15T00:00:00",
          "2009-07-16T00:00:00",
          "2009-07-17T00:00:00",
          "2009-07-20T00:00:00",
          "2009-07-21T00:00:00",
          "2009-07-22T00:00:00",
          "2009-07-23T00:00:00",
          "2009-07-24T00:00:00",
          "2009-07-27T00:00:00",
          "2009-07-28T00:00:00",
          "2009-07-29T00:00:00",
          "2009-07-30T00:00:00",
          "2009-07-31T00:00:00",
          "2009-08-03T00:00:00",
          "2009-08-04T00:00:00",
          "2009-08-05T00:00:00",
          "2009-08-06T00:00:00",
          "2009-08-07T00:00:00",
          "2009-08-10T00:00:00",
          "2009-08-11T00:00:00",
          "2009-08-12T00:00:00",
          "2009-08-13T00:00:00",
          "2009-08-14T00:00:00",
          "2009-08-17T00:00:00",
          "2009-08-18T00:00:00",
          "2009-08-19T00:00:00",
          "2009-08-20T00:00:00",
          "2009-08-21T00:00:00",
          "2009-08-24T00:00:00",
          "2009-08-25T00:00:00",
          "2009-08-26T00:00:00",
          "2009-08-27T00:00:00",
          "2009-08-28T00:00:00",
          "2009-08-31T00:00:00",
          "2009-09-01T00:00:00",
          "2009-09-02T00:00:00",
          "2009-09-03T00:00:00",
          "2009-09-04T00:00:00",
          "2009-09-08T00:00:00",
          "2009-09-09T00:00:00",
          "2009-09-10T00:00:00",
          "2009-09-11T00:00:00",
          "2009-09-14T00:00:00",
          "2009-09-15T00:00:00",
          "2009-09-16T00:00:00",
          "2009-09-17T00:00:00",
          "2009-09-18T00:00:00",
          "2009-09-21T00:00:00",
          "2009-09-22T00:00:00",
          "2009-09-23T00:00:00",
          "2009-09-24T00:00:00",
          "2009-09-25T00:00:00",
          "2009-09-28T00:00:00",
          "2009-09-29T00:00:00",
          "2009-09-30T00:00:00",
          "2009-10-01T00:00:00",
          "2009-10-02T00:00:00",
          "2009-10-05T00:00:00",
          "2009-10-06T00:00:00",
          "2009-10-07T00:00:00",
          "2009-10-08T00:00:00",
          "2009-10-09T00:00:00",
          "2009-10-12T00:00:00",
          "2009-10-13T00:00:00",
          "2009-10-14T00:00:00",
          "2009-10-15T00:00:00",
          "2009-10-16T00:00:00",
          "2009-10-19T00:00:00",
          "2009-10-20T00:00:00",
          "2009-10-21T00:00:00",
          "2009-10-22T00:00:00",
          "2009-10-23T00:00:00",
          "2009-10-26T00:00:00",
          "2009-10-27T00:00:00",
          "2009-10-28T00:00:00",
          "2009-10-29T00:00:00",
          "2009-10-30T00:00:00",
          "2009-11-02T00:00:00",
          "2009-11-03T00:00:00",
          "2009-11-04T00:00:00",
          "2009-11-05T00:00:00",
          "2009-11-06T00:00:00",
          "2009-11-09T00:00:00",
          "2009-11-10T00:00:00",
          "2009-11-11T00:00:00",
          "2009-11-12T00:00:00",
          "2009-11-13T00:00:00",
          "2009-11-16T00:00:00",
          "2009-11-17T00:00:00",
          "2009-11-18T00:00:00",
          "2009-11-19T00:00:00",
          "2009-11-20T00:00:00",
          "2009-11-23T00:00:00",
          "2009-11-24T00:00:00",
          "2009-11-25T00:00:00",
          "2009-11-27T00:00:00",
          "2009-11-30T00:00:00",
          "2009-12-01T00:00:00",
          "2009-12-02T00:00:00",
          "2009-12-03T00:00:00",
          "2009-12-04T00:00:00",
          "2009-12-07T00:00:00",
          "2009-12-08T00:00:00",
          "2009-12-09T00:00:00",
          "2009-12-10T00:00:00",
          "2009-12-11T00:00:00",
          "2009-12-14T00:00:00",
          "2009-12-15T00:00:00",
          "2009-12-16T00:00:00",
          "2009-12-17T00:00:00",
          "2009-12-18T00:00:00",
          "2009-12-21T00:00:00",
          "2009-12-22T00:00:00",
          "2009-12-23T00:00:00",
          "2009-12-24T00:00:00",
          "2009-12-28T00:00:00",
          "2009-12-29T00:00:00",
          "2009-12-30T00:00:00",
          "2009-12-31T00:00:00",
          "2010-01-04T00:00:00",
          "2010-01-05T00:00:00",
          "2010-01-06T00:00:00",
          "2010-01-07T00:00:00",
          "2010-01-08T00:00:00",
          "2010-01-11T00:00:00",
          "2010-01-12T00:00:00",
          "2010-01-13T00:00:00",
          "2010-01-14T00:00:00",
          "2010-01-15T00:00:00",
          "2010-01-19T00:00:00",
          "2010-01-20T00:00:00",
          "2010-01-21T00:00:00",
          "2010-01-22T00:00:00",
          "2010-01-25T00:00:00",
          "2010-01-26T00:00:00",
          "2010-01-27T00:00:00",
          "2010-01-28T00:00:00",
          "2010-01-29T00:00:00",
          "2010-02-01T00:00:00",
          "2010-02-02T00:00:00",
          "2010-02-03T00:00:00",
          "2010-02-04T00:00:00",
          "2010-02-05T00:00:00",
          "2010-02-08T00:00:00",
          "2010-02-09T00:00:00",
          "2010-02-10T00:00:00",
          "2010-02-11T00:00:00",
          "2010-02-12T00:00:00",
          "2010-02-16T00:00:00",
          "2010-02-17T00:00:00",
          "2010-02-18T00:00:00",
          "2010-02-19T00:00:00",
          "2010-02-22T00:00:00",
          "2010-02-23T00:00:00",
          "2010-02-24T00:00:00",
          "2010-02-25T00:00:00",
          "2010-02-26T00:00:00",
          "2010-03-01T00:00:00",
          "2010-03-02T00:00:00",
          "2010-03-03T00:00:00",
          "2010-03-04T00:00:00",
          "2010-03-05T00:00:00",
          "2010-03-08T00:00:00",
          "2010-03-09T00:00:00",
          "2010-03-10T00:00:00",
          "2010-03-11T00:00:00",
          "2010-03-12T00:00:00",
          "2010-03-15T00:00:00",
          "2010-03-16T00:00:00",
          "2010-03-17T00:00:00",
          "2010-03-18T00:00:00",
          "2010-03-19T00:00:00",
          "2010-03-22T00:00:00",
          "2010-03-23T00:00:00",
          "2010-03-24T00:00:00",
          "2010-03-25T00:00:00",
          "2010-03-26T00:00:00",
          "2010-03-29T00:00:00",
          "2010-03-30T00:00:00",
          "2010-03-31T00:00:00",
          "2010-04-01T00:00:00",
          "2010-04-05T00:00:00",
          "2010-04-06T00:00:00",
          "2010-04-07T00:00:00",
          "2010-04-08T00:00:00",
          "2010-04-09T00:00:00",
          "2010-04-12T00:00:00",
          "2010-04-13T00:00:00",
          "2010-04-14T00:00:00",
          "2010-04-15T00:00:00",
          "2010-04-16T00:00:00",
          "2010-04-19T00:00:00",
          "2010-04-20T00:00:00",
          "2010-04-21T00:00:00",
          "2010-04-22T00:00:00",
          "2010-04-23T00:00:00",
          "2010-04-26T00:00:00",
          "2010-04-27T00:00:00",
          "2010-04-28T00:00:00",
          "2010-04-29T00:00:00",
          "2010-04-30T00:00:00",
          "2010-05-03T00:00:00",
          "2010-05-04T00:00:00",
          "2010-05-05T00:00:00",
          "2010-05-06T00:00:00",
          "2010-05-07T00:00:00",
          "2010-05-10T00:00:00",
          "2010-05-11T00:00:00",
          "2010-05-12T00:00:00",
          "2010-05-13T00:00:00",
          "2010-05-14T00:00:00",
          "2010-05-17T00:00:00",
          "2010-05-18T00:00:00",
          "2010-05-19T00:00:00",
          "2010-05-20T00:00:00",
          "2010-05-21T00:00:00",
          "2010-05-24T00:00:00",
          "2010-05-25T00:00:00",
          "2010-05-26T00:00:00",
          "2010-05-27T00:00:00",
          "2010-05-28T00:00:00",
          "2010-06-01T00:00:00",
          "2010-06-02T00:00:00",
          "2010-06-03T00:00:00",
          "2010-06-04T00:00:00",
          "2010-06-07T00:00:00",
          "2010-06-08T00:00:00",
          "2010-06-09T00:00:00",
          "2010-06-10T00:00:00",
          "2010-06-11T00:00:00",
          "2010-06-14T00:00:00",
          "2010-06-15T00:00:00",
          "2010-06-16T00:00:00",
          "2010-06-17T00:00:00",
          "2010-06-18T00:00:00",
          "2010-06-21T00:00:00",
          "2010-06-22T00:00:00",
          "2010-06-23T00:00:00",
          "2010-06-24T00:00:00",
          "2010-06-25T00:00:00",
          "2010-06-28T00:00:00",
          "2010-06-29T00:00:00",
          "2010-06-30T00:00:00",
          "2010-07-01T00:00:00",
          "2010-07-02T00:00:00",
          "2010-07-06T00:00:00",
          "2010-07-07T00:00:00",
          "2010-07-08T00:00:00",
          "2010-07-09T00:00:00",
          "2010-07-12T00:00:00",
          "2010-07-13T00:00:00",
          "2010-07-14T00:00:00",
          "2010-07-15T00:00:00",
          "2010-07-16T00:00:00",
          "2010-07-19T00:00:00",
          "2010-07-20T00:00:00",
          "2010-07-21T00:00:00",
          "2010-07-22T00:00:00",
          "2010-07-23T00:00:00",
          "2010-07-26T00:00:00",
          "2010-07-27T00:00:00",
          "2010-07-28T00:00:00",
          "2010-07-29T00:00:00",
          "2010-07-30T00:00:00",
          "2010-08-02T00:00:00",
          "2010-08-03T00:00:00",
          "2010-08-04T00:00:00",
          "2010-08-05T00:00:00",
          "2010-08-06T00:00:00",
          "2010-08-09T00:00:00",
          "2010-08-10T00:00:00",
          "2010-08-11T00:00:00",
          "2010-08-12T00:00:00",
          "2010-08-13T00:00:00",
          "2010-08-16T00:00:00",
          "2010-08-17T00:00:00",
          "2010-08-18T00:00:00",
          "2010-08-19T00:00:00",
          "2010-08-20T00:00:00",
          "2010-08-23T00:00:00",
          "2010-08-24T00:00:00",
          "2010-08-25T00:00:00",
          "2010-08-26T00:00:00",
          "2010-08-27T00:00:00",
          "2010-08-30T00:00:00",
          "2010-08-31T00:00:00",
          "2010-09-01T00:00:00",
          "2010-09-02T00:00:00",
          "2010-09-03T00:00:00",
          "2010-09-07T00:00:00",
          "2010-09-08T00:00:00",
          "2010-09-09T00:00:00",
          "2010-09-10T00:00:00",
          "2010-09-13T00:00:00",
          "2010-09-14T00:00:00",
          "2010-09-15T00:00:00",
          "2010-09-16T00:00:00",
          "2010-09-17T00:00:00",
          "2010-09-20T00:00:00",
          "2010-09-21T00:00:00",
          "2010-09-22T00:00:00",
          "2010-09-23T00:00:00",
          "2010-09-24T00:00:00",
          "2010-09-27T00:00:00",
          "2010-09-28T00:00:00",
          "2010-09-29T00:00:00",
          "2010-09-30T00:00:00",
          "2010-10-01T00:00:00",
          "2010-10-04T00:00:00",
          "2010-10-05T00:00:00",
          "2010-10-06T00:00:00",
          "2010-10-07T00:00:00",
          "2010-10-08T00:00:00",
          "2010-10-11T00:00:00",
          "2010-10-12T00:00:00",
          "2010-10-13T00:00:00",
          "2010-10-14T00:00:00",
          "2010-10-15T00:00:00",
          "2010-10-18T00:00:00",
          "2010-10-19T00:00:00",
          "2010-10-20T00:00:00",
          "2010-10-21T00:00:00",
          "2010-10-22T00:00:00",
          "2010-10-25T00:00:00",
          "2010-10-26T00:00:00",
          "2010-10-27T00:00:00",
          "2010-10-28T00:00:00",
          "2010-10-29T00:00:00",
          "2010-11-01T00:00:00",
          "2010-11-02T00:00:00",
          "2010-11-03T00:00:00",
          "2010-11-04T00:00:00",
          "2010-11-05T00:00:00",
          "2010-11-08T00:00:00",
          "2010-11-09T00:00:00",
          "2010-11-10T00:00:00",
          "2010-11-11T00:00:00",
          "2010-11-12T00:00:00",
          "2010-11-15T00:00:00",
          "2010-11-16T00:00:00",
          "2010-11-17T00:00:00",
          "2010-11-18T00:00:00",
          "2010-11-19T00:00:00",
          "2010-11-22T00:00:00",
          "2010-11-23T00:00:00",
          "2010-11-24T00:00:00",
          "2010-11-26T00:00:00",
          "2010-11-29T00:00:00",
          "2010-11-30T00:00:00",
          "2010-12-01T00:00:00",
          "2010-12-02T00:00:00",
          "2010-12-03T00:00:00",
          "2010-12-06T00:00:00",
          "2010-12-07T00:00:00",
          "2010-12-08T00:00:00",
          "2010-12-09T00:00:00",
          "2010-12-10T00:00:00",
          "2010-12-13T00:00:00",
          "2010-12-14T00:00:00",
          "2010-12-15T00:00:00",
          "2010-12-16T00:00:00",
          "2010-12-17T00:00:00",
          "2010-12-20T00:00:00",
          "2010-12-21T00:00:00",
          "2010-12-22T00:00:00",
          "2010-12-23T00:00:00",
          "2010-12-27T00:00:00",
          "2010-12-28T00:00:00",
          "2010-12-29T00:00:00",
          "2010-12-30T00:00:00",
          "2010-12-31T00:00:00"
         ],
         "xaxis": "x",
         "y": [
          86.516,
          86.287,
          85.985,
          85.874,
          85.943,
          86.189,
          86.211,
          86.026,
          85.501,
          85.399,
          85.47,
          85.435,
          85.451,
          85.511,
          85.493,
          85.435,
          85.435,
          84.968,
          85.079,
          85.13,
          84.961,
          84.907,
          85.164,
          85.207,
          85.416,
          85.315,
          85.146,
          85.363,
          85.265,
          85.265,
          85.426,
          85.661,
          85.779,
          85.856,
          86.163,
          86.06,
          86.171,
          86.23,
          86.016,
          86.197,
          86.163,
          85.951,
          86.303,
          86.526,
          86.383,
          86.103,
          86.042,
          86.138,
          86.197,
          85.874,
          85.805,
          85.9,
          86.042,
          86.246,
          86.33,
          86.204,
          86.303,
          86.534,
          86.321,
          86.22,
          86.508,
          86.661,
          86.644,
          86.635,
          86.576,
          86.814,
          87.16,
          87.1,
          86.882,
          86.9,
          87.127,
          86.966,
          86.957,
          86.618,
          86.543,
          86.434,
          86.383,
          86.644,
          86.644,
          86.452,
          86.806,
          87.177,
          87.092,
          87.227,
          87.298,
          87.042,
          87.001,
          87.28,
          86.687,
          86.365,
          86.5,
          86.611,
          86.468,
          86.477,
          86.434,
          86.313,
          86.313,
          86.356,
          86.204,
          86.246,
          86.393,
          85.943,
          86.069,
          86.069,
          86.163,
          86.112,
          86.365,
          86.095,
          85.765,
          85.577,
          85.856,
          85.771,
          85.349,
          85.332,
          85.485,
          85.493,
          85.724,
          85.968,
          85.891,
          86.095,
          85.917,
          86.155,
          86.069,
          86.146,
          86.204,
          86.313,
          86.313,
          86.246,
          86.279,
          86.493,
          86.829,
          86.661,
          86.618,
          86.452,
          86.303,
          86.295,
          86.271,
          86.155,
          86.365,
          86.271,
          86.06,
          85.865,
          85.943,
          85.883,
          86.077,
          86.155,
          86.001,
          85.787,
          85.732,
          85.968,
          85.771,
          85.732,
          85.155,
          85.274,
          85.407,
          85.349,
          85.265,
          85.372,
          85.121,
          85.087,
          84.865,
          84.841,
          84.977,
          84.943,
          85.097,
          85.112,
          85.306,
          85.138,
          84.881,
          84.552,
          84.749,
          84.614,
          84.605,
          84.328,
          84.249,
          83.961,
          84.045,
          84.054,
          84.345,
          84.121,
          84.416,
          84.505,
          84.215,
          84.337,
          84.53,
          84.552,
          84.522,
          84.791,
          85.005,
          84.943,
          85.02,
          84.898,
          84.791,
          84.614,
          84.173,
          84.173,
          84.215,
          84.362,
          84.249,
          84.683,
          84.39,
          84.215,
          84.536,
          84.766,
          84.683,
          84.674,
          84.741,
          84.766,
          84.766,
          84.943,
          85.164,
          85.382,
          84.766,
          84.816,
          84.917,
          84.961,
          85.164,
          85.164,
          84.968,
          85.061,
          84.89,
          84.833,
          85.052,
          85.291,
          85.332,
          85.435,
          85.306,
          85.349,
          85.349,
          85.207,
          84.995,
          84.741,
          84.841,
          84.85,
          84.865,
          84.328,
          84.384,
          84.622,
          84.605,
          84.545,
          84.505,
          84.552,
          84.377,
          84.433,
          84.303,
          84.39,
          84.311,
          84.656,
          84.345,
          84.683,
          84.631,
          84.698,
          84.522,
          84.698,
          84.384,
          84.173,
          84.005,
          83.538,
          83.749,
          83.794,
          83.68,
          83.714,
          83.87,
          84.148,
          83.918,
          84.275,
          84.088,
          84.054,
          83.838,
          83.988,
          83.918,
          84.063,
          84.13,
          83.918,
          83.749,
          83.372,
          83.645,
          83.243,
          83.356,
          83.412,
          83.347,
          83.065,
          82.987,
          83.154,
          83.079,
          82.912,
          83.049,
          82.987,
          83.065,
          82.937,
          82.928,
          83.243,
          82.964,
          82.822,
          83.014,
          83.198,
          82.555,
          82.638,
          82.579,
          82.538,
          82.689,
          82.753,
          82.707,
          82.611,
          82.564,
          82.389,
          82.439,
          82.849,
          82.603,
          82.954,
          82.937,
          82.954,
          82.725,
          82.744,
          82.735,
          83.087,
          82.905,
          82.717,
          82.33,
          82.964,
          82.689,
          82.912,
          82.647,
          82.928,
          83.049,
          82.797,
          83.031,
          82.717,
          82.579,
          82.531,
          82.314,
          82.365,
          82.389,
          82.028,
          82.072,
          81.841,
          82.063,
          81.981,
          82.271,
          82.264,
          82.054,
          81.814,
          81.889,
          82.191,
          82.271,
          82.406,
          82.453,
          82.522,
          82.628,
          82.453,
          82.398,
          82.717,
          82.806,
          82.753,
          82.881,
          82.815,
          82.864,
          82.996,
          83.171,
          83.073,
          82.928,
          82.964,
          82.978,
          83.243,
          83.252,
          83.252,
          83.322,
          83.276,
          83.128,
          83.04,
          83.243,
          83.513,
          83.53,
          83.588,
          83.794,
          83.749,
          83.775,
          83.766,
          83.855,
          83.775,
          83.812,
          83.935,
          84.045,
          83.723,
          83.62,
          83.636,
          83.612,
          83.723,
          83.663,
          83.87,
          83.935,
          83.821,
          83.794,
          83.775,
          83.97,
          84.063,
          84.425,
          84.478,
          84.648,
          84.639,
          84.605,
          84.522,
          84.561,
          84.294,
          84.275,
          84.605,
          84.345,
          84.028,
          84.206,
          83.879,
          83.785,
          83.87,
          83.654,
          83.794,
          83.918,
          84.021,
          83.978,
          83.953,
          83.706,
          83.803,
          84.005,
          84.294,
          84.46,
          84.478,
          84.791,
          84.578,
          84.486,
          84.045,
          84.045,
          84.257,
          84.486,
          84.514,
          84.698,
          84.596,
          84.716,
          84.552,
          84.478,
          84.698,
          84.749,
          84.857,
          84.961,
          85.005,
          84.961,
          85.189,
          85.061,
          85.323,
          85.146,
          85.232,
          85.181,
          85.112,
          85.037,
          84.857,
          84.907,
          85.079,
          84.816,
          84.706,
          84.69,
          84.741,
          84.791,
          84.766,
          84.925,
          84.85,
          84.823,
          84.294,
          84.182,
          84.173,
          84.353,
          84.53,
          84.469,
          84.522,
          84.522,
          84.425,
          84.266,
          84.148,
          84.275,
          84.206,
          84.328,
          84.294,
          84.337,
          84.173,
          84.148,
          84.037,
          84.028,
          83.918,
          84.045,
          84.113,
          83.83,
          83.944,
          84.079,
          84.24,
          84.345,
          84.39,
          84.197,
          84.113,
          84.104,
          84.425,
          84.545,
          84.605,
          84.648,
          84.639,
          84.469,
          84.674,
          84.85,
          85.198,
          85.146,
          84.791,
          84.968,
          84.917,
          84.857,
          84.925,
          84.85,
          84.622,
          84.873,
          85.097,
          84.995,
          84.898,
          84.907,
          84.85,
          84.934,
          85.045,
          84.881,
          84.775,
          84.724,
          84.741,
          84.782,
          84.724,
          84.648,
          84.425,
          84.345,
          84.433,
          84.362,
          84.037,
          84.165,
          84.113,
          84.215,
          84.079,
          84.249,
          84.496,
          84.622,
          84.587,
          84.545,
          84.631,
          84.674,
          84.706,
          84.545,
          84.53,
          84.816,
          84.443,
          84.469,
          84.377,
          84.486,
          84.569,
          84.478,
          84.377,
          84.522,
          84.353,
          84.371,
          84.337,
          84.353,
          84.206,
          83.961,
          84.13,
          83.961,
          83.894,
          83.927,
          83.887,
          83.803,
          83.902,
          83.714,
          83.271,
          83.372,
          83.128,
          83.162,
          82.587,
          82.49,
          82.546,
          82.054,
          82.182,
          82.348,
          82.638,
          82.698,
          82.964,
          82.707,
          82.603,
          82.806,
          82.881,
          82.78,
          82.937,
          82.881,
          83.04,
          82.905,
          82.815,
          82.463,
          82.322,
          82.463,
          82.822,
          82.628,
          82.546,
          82.647,
          82.822,
          82.664,
          82.881,
          82.881,
          83.073,
          83.022,
          83.19,
          83.137,
          83.436,
          83.356,
          83.313,
          83.572,
          83.014,
          82.97,
          83.34,
          83.198,
          83.137,
          83.04,
          83.137,
          82.864,
          83.014,
          83.243,
          83.356,
          83.303,
          83.489,
          83.412,
          83.803,
          83.733,
          83.838,
          83.62,
          83.879,
          84.215,
          84.045,
          84.222,
          84.275,
          83.821,
          84.088,
          84.07,
          84.596,
          84.791,
          84.648,
          84.53,
          84.285,
          84.345,
          84.377,
          84.552,
          84.536,
          83.935,
          84.182,
          84.19,
          84.257,
          84.173,
          84.319,
          84.443,
          83.812,
          84.13,
          84.173,
          84.139,
          83.471,
          84.13,
          83.953,
          84.063,
          84.121,
          83.961,
          83.988,
          84.121,
          84.407,
          84.656,
          85.037,
          85.013,
          84.986,
          85.357,
          85.138,
          85.061,
          85.061,
          85.171,
          84.934,
          84.791,
          84.881,
          84.816,
          84.706,
          84.724,
          84.801,
          85.097,
          84.977,
          84.986,
          84.952,
          85.315,
          85.256,
          85.443,
          85.265,
          85.917,
          85.477,
          86.255,
          85.9,
          85.688,
          85.934,
          86.103,
          86.22,
          85.891,
          85.732,
          85.639,
          85.146,
          84.977,
          85.39,
          85.306,
          84.977,
          84.749,
          84.865,
          85.315,
          85.493,
          85.416,
          85.045,
          85.07,
          84.816,
          84.925,
          85.382,
          85.407,
          85.814,
          86.042,
          86.22,
          86.12,
          86.551,
          86.346,
          86.171,
          86.543,
          86.611,
          86.924,
          86.661,
          87.186,
          87.168,
          87.304,
          87.042,
          86.821,
          86.974,
          87.144,
          86.874,
          87.01,
          87.388,
          86.949,
          86.9,
          87.168,
          87.1,
          86.33,
          86.745,
          86.932,
          86.9,
          86.383,
          86.112,
          86.069,
          85.653,
          85.518,
          86.22,
          85.765,
          85.46,
          85.874,
          86.05,
          86.568,
          86.9,
          86.559,
          86.189,
          85.639,
          85.511,
          85.771,
          86.23,
          85.706,
          86.584,
          86.211,
          86.576,
          86.949,
          86.745,
          87.01,
          87.313,
          86.67,
          86.829,
          86.576,
          86.611,
          86.821,
          86.687,
          85.75,
          85.787,
          85.771,
          86.5,
          86.493,
          86.485,
          86.865,
          86.593,
          86.779,
          86.678,
          86.211,
          85.9,
          85.883,
          86.112,
          86.12,
          86.246,
          86.163,
          85.839,
          85.756,
          85.968,
          86.095,
          86.618,
          86.197,
          86.05,
          86.087,
          85.805,
          86.05,
          86.271,
          86.303,
          86.155,
          85.661,
          85.787,
          86.246,
          86.033,
          86.179,
          86.365,
          86.246,
          85.732,
          86.06,
          85.577,
          85.181,
          84.943,
          85.247,
          85.232,
          85.39,
          85.087,
          84.775,
          85.247,
          84.816,
          84.377,
          84.486,
          83.961,
          83.749,
          83.847,
          84.13,
          84.486,
          84.054,
          84.311,
          84.197,
          84.371,
          84.407,
          84.522,
          84.724,
          84.766,
          84.148,
          84.045,
          84.07,
          84.362,
          84.69,
          85.02,
          85.097,
          84.622,
          84.749,
          85.07,
          84.425,
          84.054,
          83.565,
          83.902,
          83.714,
          83.821,
          84.399,
          83.97,
          84.353,
          84.249,
          84.345,
          84.775,
          84.337,
          84.088,
          83.944,
          83.855,
          84.294,
          84.165,
          83.953,
          84.311,
          84.165,
          84.371,
          84.614,
          84.759,
          84.69,
          84.816,
          84.833,
          84.749,
          85.005,
          84.898,
          85.005,
          85.079,
          85.052,
          85.005,
          84.986,
          85.3,
          85.045,
          85.577,
          85.96,
          85.9,
          85.787,
          85.443,
          85.779,
          84.907,
          85.121,
          84.881,
          85.265,
          83.935,
          83.812,
          83.91,
          83.757,
          83.34,
          82.954,
          83.234,
          82.314,
          82.628,
          83.261,
          83.285,
          81.555,
          79.928,
          80.111,
          74.626,
          77.522,
          79.145,
          80.416,
          79.154,
          79.436,
          80.858,
          81.555,
          82.506,
          81.057,
          80.373,
          79.568,
          79.85,
          81.366,
          81.271,
          81.014,
          79.391,
          80.667,
          81.889,
          81.547,
          81.964,
          81.441,
          82.054,
          81.349,
          81.624,
          81.873,
          82.09,
          81.972,
          82.21,
          82.227,
          81.564,
          81.555,
          83.596,
          83.276,
          83.111,
          83.944,
          84.028,
          84.037,
          84.319,
          83.855,
          83.741,
          84.53,
          84.377,
          84.816,
          84.833,
          85.037,
          85.372,
          85.832,
          86.374,
          86.095,
          86.559,
          87.405,
          87.82,
          87.528,
          87.878,
          87.905,
          87.973,
          87.421,
          88.81,
          88.312,
          87.51,
          86.837,
          86.543,
          87.001,
          87.144,
          87.026,
          87.018,
          87.465,
          87.01,
          86.551,
          86.179,
          86.042,
          85.96,
          86.4,
          86.452,
          85.679,
          86.22,
          85.765,
          85.382,
          85.265,
          84.995,
          85.224,
          85.232,
          85.756,
          85.741,
          86.197,
          85.934,
          86.001,
          85.823,
          85.688,
          85.247,
          85.688,
          85.518,
          85.443,
          84.995,
          85.005,
          85.013,
          84.898,
          84.514,
          84.791,
          85.013,
          84.433,
          84.631,
          84.823,
          84.898,
          84.986,
          84.732,
          84.478,
          85.814,
          86.026,
          85.543,
          85.543,
          84.961,
          84.596,
          84.766,
          84.823,
          85.224,
          85.661,
          85.332,
          85.052,
          84.782,
          84.766,
          84.631,
          84.898,
          84.782,
          85.39,
          85.372,
          85.614,
          85.46,
          84.986,
          85.477,
          85.207,
          85.435,
          85.543,
          85.639,
          85.771,
          85.75,
          85.39,
          85.805,
          85.198,
          85.265,
          85.443,
          85.639,
          85.256,
          85.416,
          85.477,
          85.951,
          86.026,
          86.077,
          86.271,
          86.016,
          86.095,
          86.356,
          86.087,
          85.856,
          85.661,
          85.189,
          85.224,
          86.138,
          84.816,
          85.39,
          85.632,
          84.917,
          84.486,
          84.257,
          84.639,
          84.399,
          84.698,
          85.105,
          85.426,
          85.543,
          85.714,
          85.155,
          85.47,
          85.596,
          85.874,
          85.645,
          86.042,
          86.295,
          86.22,
          86.238,
          85.917,
          86.12,
          86.05,
          86.33,
          86.806,
          86.559,
          86.855,
          86.814,
          86.551,
          85.985,
          86.255,
          86.255,
          86.356,
          86.957,
          86.661,
          86.444,
          86.444,
          86.179,
          86.337,
          86.493,
          86.602,
          87.042,
          86.576,
          86.313,
          86.238,
          86.279,
          85.765,
          86.434,
          86.738,
          86.696,
          86.916,
          87.067,
          87.43,
          87.144,
          87.321,
          87.465,
          86.957,
          87.313,
          87.456,
          87.582,
          87.519,
          87.456,
          87.82,
          87.388,
          87.855,
          87.694,
          87.528,
          87.397,
          87.566,
          88.017,
          88.009,
          87.878,
          87.745,
          87.811,
          88.227,
          88.009,
          87.938,
          87.878,
          88.1,
          88.209,
          88.462,
          88.453,
          88.414,
          88.574,
          88.489,
          88.32,
          88.381,
          88.253,
          88.607,
          88.55,
          87.938,
          88.143,
          88.354,
          88.15,
          88.017,
          88.009,
          88.184,
          88.39,
          88.327,
          88.2,
          88.092,
          87.855,
          88.2,
          88.32,
          88.15,
          88.48,
          88.074,
          87.956,
          87.811,
          88.042,
          88.117,
          88.235,
          88.253,
          88.287,
          88.462,
          88.558,
          88.769,
          88.845,
          88.66,
          88.753,
          88.783,
          88.769,
          89.03,
          89.115,
          89.193,
          89.344,
          88.826,
          88.66,
          88.667,
          88.489,
          88.574,
          88.692,
          88.6,
          88.531,
          88.32,
          88.371,
          88.135,
          88.287,
          88.429,
          88.429,
          88.066,
          87.811,
          87.846,
          87.694,
          87.16,
          87.01,
          87.227,
          87.118,
          87.221,
          87.617,
          87.566,
          87.465,
          87.519,
          87.448,
          88.009,
          87.634,
          87.864,
          88.025,
          87.887,
          88.117,
          88.143,
          88.191,
          88.184,
          88.287,
          88.227,
          88.15,
          88.345,
          87.956,
          88.058,
          87.896,
          88.108,
          88.143,
          88.304,
          88.15,
          87.946,
          87.795,
          87.82,
          88.042,
          87.77,
          87.736,
          87.802,
          87.651,
          87.963,
          88.058,
          88.235,
          88.253,
          88.108,
          88.143,
          88.143,
          88.295,
          88.135,
          88.191,
          88.287,
          88.235,
          88.235,
          88.235,
          88.345,
          88.505,
          88.574,
          88.496,
          88.429,
          88.496,
          88.514,
          88.074,
          87.846,
          87.991,
          87.887,
          87.92,
          87.973,
          87.669,
          87.127,
          87.236,
          87.608,
          87.528,
          87.617,
          87.82,
          87.963,
          87.864,
          88.025,
          88.159,
          88.001,
          88.143,
          88.287,
          88.117,
          88.01,
          88.001,
          88.279,
          88.143,
          88.176,
          88.55,
          88.126,
          88.471,
          88.405,
          88.531,
          88.15,
          88.143,
          88.462,
          88.371,
          88.496,
          88.818,
          88.753,
          89.054,
          89.097,
          89.021,
          89.405,
          89.353,
          89.461,
          89.362,
          89.149,
          89.244,
          89.115,
          89.021,
          88.98,
          89.21,
          89.47,
          89.371,
          89.423,
          89.149,
          89.201,
          89.327,
          89.327,
          89.461,
          89.675,
          89.529,
          89.726,
          89.819,
          90.048,
          89.967,
          90.098,
          90.264,
          90.538,
          90.549,
          90.232,
          90.106,
          90.385,
          90.264,
          90.249,
          90.115,
          90.218,
          89.986,
          90.292,
          90.418,
          90.7,
          90.614,
          90.547,
          90.943,
          90.859,
          90.7,
          90.683,
          90.648,
          90.816,
          90.9,
          91.055,
          90.683,
          90.738,
          90.582,
          90.692,
          90.867,
          90.867,
          91.018,
          91.105,
          90.958,
          91.171,
          91.477,
          91.366,
          91.266,
          91.565,
          91.434,
          91.747,
          92.106,
          91.896,
          92.018,
          91.512,
          92.125,
          92.201,
          91.747,
          91.629,
          91.416,
          91.683,
          91.609,
          91.171,
          90.976,
          91.181,
          91.512,
          91.34,
          91.189,
          91.31,
          91.34,
          91.729,
          91.756,
          91.859,
          91.519,
          91.831,
          92.054,
          91.99,
          91.951,
          91.619,
          91.775,
          91.775,
          91.866,
          91.905,
          92.097,
          92.045,
          91.951,
          91.945,
          91.601,
          91.416,
          91.738,
          91.813,
          91.925,
          91.785,
          91.821,
          91.831,
          91.619,
          91.443,
          91.676,
          91.866,
          91.593,
          91.756,
          91.738,
          92.182,
          91.925,
          91.887,
          91.434,
          91.357,
          91.349,
          90.985,
          90.485,
          90.707,
          90.73,
          90.707,
          90.809,
          91.027,
          91.122,
          90.683,
          90.867,
          90.927,
          90.865,
          89.928,
          89.75,
          89.928,
          90.255,
          89.555,
          89.124,
          89.283,
          89.115,
          89.175,
          88.677,
          88.522,
          88.691,
          89.175,
          89.237,
          89.405,
          89.299,
          89.132,
          89.388,
          88.574,
          89.205,
          89.135,
          89.498
         ],
         "yaxis": "y"
        }
       ],
       "layout": {
        "legend": {
         "tracegroupgap": 0
        },
        "template": {
         "data": {
          "bar": [
           {
            "error_x": {
             "color": "#2a3f5f"
            },
            "error_y": {
             "color": "#2a3f5f"
            },
            "marker": {
             "line": {
              "color": "#E5ECF6",
              "width": 0.5
             },
             "pattern": {
              "fillmode": "overlay",
              "size": 10,
              "solidity": 0.2
             }
            },
            "type": "bar"
           }
          ],
          "barpolar": [
           {
            "marker": {
             "line": {
              "color": "#E5ECF6",
              "width": 0.5
             },
             "pattern": {
              "fillmode": "overlay",
              "size": 10,
              "solidity": 0.2
             }
            },
            "type": "barpolar"
           }
          ],
          "carpet": [
           {
            "aaxis": {
             "endlinecolor": "#2a3f5f",
             "gridcolor": "white",
             "linecolor": "white",
             "minorgridcolor": "white",
             "startlinecolor": "#2a3f5f"
            },
            "baxis": {
             "endlinecolor": "#2a3f5f",
             "gridcolor": "white",
             "linecolor": "white",
             "minorgridcolor": "white",
             "startlinecolor": "#2a3f5f"
            },
            "type": "carpet"
           }
          ],
          "choropleth": [
           {
            "colorbar": {
             "outlinewidth": 0,
             "ticks": ""
            },
            "type": "choropleth"
           }
          ],
          "contour": [
           {
            "colorbar": {
             "outlinewidth": 0,
             "ticks": ""
            },
            "colorscale": [
             [
              0,
              "#0d0887"
             ],
             [
              0.1111111111111111,
              "#46039f"
             ],
             [
              0.2222222222222222,
              "#7201a8"
             ],
             [
              0.3333333333333333,
              "#9c179e"
             ],
             [
              0.4444444444444444,
              "#bd3786"
             ],
             [
              0.5555555555555556,
              "#d8576b"
             ],
             [
              0.6666666666666666,
              "#ed7953"
             ],
             [
              0.7777777777777778,
              "#fb9f3a"
             ],
             [
              0.8888888888888888,
              "#fdca26"
             ],
             [
              1,
              "#f0f921"
             ]
            ],
            "type": "contour"
           }
          ],
          "contourcarpet": [
           {
            "colorbar": {
             "outlinewidth": 0,
             "ticks": ""
            },
            "type": "contourcarpet"
           }
          ],
          "heatmap": [
           {
            "colorbar": {
             "outlinewidth": 0,
             "ticks": ""
            },
            "colorscale": [
             [
              0,
              "#0d0887"
             ],
             [
              0.1111111111111111,
              "#46039f"
             ],
             [
              0.2222222222222222,
              "#7201a8"
             ],
             [
              0.3333333333333333,
              "#9c179e"
             ],
             [
              0.4444444444444444,
              "#bd3786"
             ],
             [
              0.5555555555555556,
              "#d8576b"
             ],
             [
              0.6666666666666666,
              "#ed7953"
             ],
             [
              0.7777777777777778,
              "#fb9f3a"
             ],
             [
              0.8888888888888888,
              "#fdca26"
             ],
             [
              1,
              "#f0f921"
             ]
            ],
            "type": "heatmap"
           }
          ],
          "heatmapgl": [
           {
            "colorbar": {
             "outlinewidth": 0,
             "ticks": ""
            },
            "colorscale": [
             [
              0,
              "#0d0887"
             ],
             [
              0.1111111111111111,
              "#46039f"
             ],
             [
              0.2222222222222222,
              "#7201a8"
             ],
             [
              0.3333333333333333,
              "#9c179e"
             ],
             [
              0.4444444444444444,
              "#bd3786"
             ],
             [
              0.5555555555555556,
              "#d8576b"
             ],
             [
              0.6666666666666666,
              "#ed7953"
             ],
             [
              0.7777777777777778,
              "#fb9f3a"
             ],
             [
              0.8888888888888888,
              "#fdca26"
             ],
             [
              1,
              "#f0f921"
             ]
            ],
            "type": "heatmapgl"
           }
          ],
          "histogram": [
           {
            "marker": {
             "pattern": {
              "fillmode": "overlay",
              "size": 10,
              "solidity": 0.2
             }
            },
            "type": "histogram"
           }
          ],
          "histogram2d": [
           {
            "colorbar": {
             "outlinewidth": 0,
             "ticks": ""
            },
            "colorscale": [
             [
              0,
              "#0d0887"
             ],
             [
              0.1111111111111111,
              "#46039f"
             ],
             [
              0.2222222222222222,
              "#7201a8"
             ],
             [
              0.3333333333333333,
              "#9c179e"
             ],
             [
              0.4444444444444444,
              "#bd3786"
             ],
             [
              0.5555555555555556,
              "#d8576b"
             ],
             [
              0.6666666666666666,
              "#ed7953"
             ],
             [
              0.7777777777777778,
              "#fb9f3a"
             ],
             [
              0.8888888888888888,
              "#fdca26"
             ],
             [
              1,
              "#f0f921"
             ]
            ],
            "type": "histogram2d"
           }
          ],
          "histogram2dcontour": [
           {
            "colorbar": {
             "outlinewidth": 0,
             "ticks": ""
            },
            "colorscale": [
             [
              0,
              "#0d0887"
             ],
             [
              0.1111111111111111,
              "#46039f"
             ],
             [
              0.2222222222222222,
              "#7201a8"
             ],
             [
              0.3333333333333333,
              "#9c179e"
             ],
             [
              0.4444444444444444,
              "#bd3786"
             ],
             [
              0.5555555555555556,
              "#d8576b"
             ],
             [
              0.6666666666666666,
              "#ed7953"
             ],
             [
              0.7777777777777778,
              "#fb9f3a"
             ],
             [
              0.8888888888888888,
              "#fdca26"
             ],
             [
              1,
              "#f0f921"
             ]
            ],
            "type": "histogram2dcontour"
           }
          ],
          "mesh3d": [
           {
            "colorbar": {
             "outlinewidth": 0,
             "ticks": ""
            },
            "type": "mesh3d"
           }
          ],
          "parcoords": [
           {
            "line": {
             "colorbar": {
              "outlinewidth": 0,
              "ticks": ""
             }
            },
            "type": "parcoords"
           }
          ],
          "pie": [
           {
            "automargin": true,
            "type": "pie"
           }
          ],
          "scatter": [
           {
            "fillpattern": {
             "fillmode": "overlay",
             "size": 10,
             "solidity": 0.2
            },
            "type": "scatter"
           }
          ],
          "scatter3d": [
           {
            "line": {
             "colorbar": {
              "outlinewidth": 0,
              "ticks": ""
             }
            },
            "marker": {
             "colorbar": {
              "outlinewidth": 0,
              "ticks": ""
             }
            },
            "type": "scatter3d"
           }
          ],
          "scattercarpet": [
           {
            "marker": {
             "colorbar": {
              "outlinewidth": 0,
              "ticks": ""
             }
            },
            "type": "scattercarpet"
           }
          ],
          "scattergeo": [
           {
            "marker": {
             "colorbar": {
              "outlinewidth": 0,
              "ticks": ""
             }
            },
            "type": "scattergeo"
           }
          ],
          "scattergl": [
           {
            "marker": {
             "colorbar": {
              "outlinewidth": 0,
              "ticks": ""
             }
            },
            "type": "scattergl"
           }
          ],
          "scattermapbox": [
           {
            "marker": {
             "colorbar": {
              "outlinewidth": 0,
              "ticks": ""
             }
            },
            "type": "scattermapbox"
           }
          ],
          "scatterpolar": [
           {
            "marker": {
             "colorbar": {
              "outlinewidth": 0,
              "ticks": ""
             }
            },
            "type": "scatterpolar"
           }
          ],
          "scatterpolargl": [
           {
            "marker": {
             "colorbar": {
              "outlinewidth": 0,
              "ticks": ""
             }
            },
            "type": "scatterpolargl"
           }
          ],
          "scatterternary": [
           {
            "marker": {
             "colorbar": {
              "outlinewidth": 0,
              "ticks": ""
             }
            },
            "type": "scatterternary"
           }
          ],
          "surface": [
           {
            "colorbar": {
             "outlinewidth": 0,
             "ticks": ""
            },
            "colorscale": [
             [
              0,
              "#0d0887"
             ],
             [
              0.1111111111111111,
              "#46039f"
             ],
             [
              0.2222222222222222,
              "#7201a8"
             ],
             [
              0.3333333333333333,
              "#9c179e"
             ],
             [
              0.4444444444444444,
              "#bd3786"
             ],
             [
              0.5555555555555556,
              "#d8576b"
             ],
             [
              0.6666666666666666,
              "#ed7953"
             ],
             [
              0.7777777777777778,
              "#fb9f3a"
             ],
             [
              0.8888888888888888,
              "#fdca26"
             ],
             [
              1,
              "#f0f921"
             ]
            ],
            "type": "surface"
           }
          ],
          "table": [
           {
            "cells": {
             "fill": {
              "color": "#EBF0F8"
             },
             "line": {
              "color": "white"
             }
            },
            "header": {
             "fill": {
              "color": "#C8D4E3"
             },
             "line": {
              "color": "white"
             }
            },
            "type": "table"
           }
          ]
         },
         "layout": {
          "annotationdefaults": {
           "arrowcolor": "#2a3f5f",
           "arrowhead": 0,
           "arrowwidth": 1
          },
          "autotypenumbers": "strict",
          "coloraxis": {
           "colorbar": {
            "outlinewidth": 0,
            "ticks": ""
           }
          },
          "colorscale": {
           "diverging": [
            [
             0,
             "#8e0152"
            ],
            [
             0.1,
             "#c51b7d"
            ],
            [
             0.2,
             "#de77ae"
            ],
            [
             0.3,
             "#f1b6da"
            ],
            [
             0.4,
             "#fde0ef"
            ],
            [
             0.5,
             "#f7f7f7"
            ],
            [
             0.6,
             "#e6f5d0"
            ],
            [
             0.7,
             "#b8e186"
            ],
            [
             0.8,
             "#7fbc41"
            ],
            [
             0.9,
             "#4d9221"
            ],
            [
             1,
             "#276419"
            ]
           ],
           "sequential": [
            [
             0,
             "#0d0887"
            ],
            [
             0.1111111111111111,
             "#46039f"
            ],
            [
             0.2222222222222222,
             "#7201a8"
            ],
            [
             0.3333333333333333,
             "#9c179e"
            ],
            [
             0.4444444444444444,
             "#bd3786"
            ],
            [
             0.5555555555555556,
             "#d8576b"
            ],
            [
             0.6666666666666666,
             "#ed7953"
            ],
            [
             0.7777777777777778,
             "#fb9f3a"
            ],
            [
             0.8888888888888888,
             "#fdca26"
            ],
            [
             1,
             "#f0f921"
            ]
           ],
           "sequentialminus": [
            [
             0,
             "#0d0887"
            ],
            [
             0.1111111111111111,
             "#46039f"
            ],
            [
             0.2222222222222222,
             "#7201a8"
            ],
            [
             0.3333333333333333,
             "#9c179e"
            ],
            [
             0.4444444444444444,
             "#bd3786"
            ],
            [
             0.5555555555555556,
             "#d8576b"
            ],
            [
             0.6666666666666666,
             "#ed7953"
            ],
            [
             0.7777777777777778,
             "#fb9f3a"
            ],
            [
             0.8888888888888888,
             "#fdca26"
            ],
            [
             1,
             "#f0f921"
            ]
           ]
          },
          "colorway": [
           "#636efa",
           "#EF553B",
           "#00cc96",
           "#ab63fa",
           "#FFA15A",
           "#19d3f3",
           "#FF6692",
           "#B6E880",
           "#FF97FF",
           "#FECB52"
          ],
          "font": {
           "color": "#2a3f5f"
          },
          "geo": {
           "bgcolor": "white",
           "lakecolor": "white",
           "landcolor": "#E5ECF6",
           "showlakes": true,
           "showland": true,
           "subunitcolor": "white"
          },
          "hoverlabel": {
           "align": "left"
          },
          "hovermode": "closest",
          "mapbox": {
           "style": "light"
          },
          "paper_bgcolor": "white",
          "plot_bgcolor": "#E5ECF6",
          "polar": {
           "angularaxis": {
            "gridcolor": "white",
            "linecolor": "white",
            "ticks": ""
           },
           "bgcolor": "#E5ECF6",
           "radialaxis": {
            "gridcolor": "white",
            "linecolor": "white",
            "ticks": ""
           }
          },
          "scene": {
           "xaxis": {
            "backgroundcolor": "#E5ECF6",
            "gridcolor": "white",
            "gridwidth": 2,
            "linecolor": "white",
            "showbackground": true,
            "ticks": "",
            "zerolinecolor": "white"
           },
           "yaxis": {
            "backgroundcolor": "#E5ECF6",
            "gridcolor": "white",
            "gridwidth": 2,
            "linecolor": "white",
            "showbackground": true,
            "ticks": "",
            "zerolinecolor": "white"
           },
           "zaxis": {
            "backgroundcolor": "#E5ECF6",
            "gridcolor": "white",
            "gridwidth": 2,
            "linecolor": "white",
            "showbackground": true,
            "ticks": "",
            "zerolinecolor": "white"
           }
          },
          "shapedefaults": {
           "line": {
            "color": "#2a3f5f"
           }
          },
          "ternary": {
           "aaxis": {
            "gridcolor": "white",
            "linecolor": "white",
            "ticks": ""
           },
           "baxis": {
            "gridcolor": "white",
            "linecolor": "white",
            "ticks": ""
           },
           "bgcolor": "#E5ECF6",
           "caxis": {
            "gridcolor": "white",
            "linecolor": "white",
            "ticks": ""
           }
          },
          "title": {
           "x": 0.05
          },
          "xaxis": {
           "automargin": true,
           "gridcolor": "white",
           "linecolor": "white",
           "ticks": "",
           "title": {
            "standoff": 15
           },
           "zerolinecolor": "white",
           "zerolinewidth": 2
          },
          "yaxis": {
           "automargin": true,
           "gridcolor": "white",
           "linecolor": "white",
           "ticks": "",
           "title": {
            "standoff": 15
           },
           "zerolinecolor": "white",
           "zerolinewidth": 2
          }
         }
        },
        "title": {
         "text": "Closing Price"
        },
        "xaxis": {
         "anchor": "y",
         "domain": [
          0,
          1
         ],
         "title": {
          "text": "Date"
         }
        },
        "yaxis": {
         "anchor": "x",
         "domain": [
          0,
          1
         ],
         "title": {
          "text": "Close"
         }
        }
       }
      }
     },
     "metadata": {},
     "output_type": "display_data"
    }
   ],
   "source": [
    "import plotly.express as px\n",
    "fig = px.line(population, x=\"Date\", y=\"Close\",  \n",
    "              title='Closing Price')\n",
    "fig.show()"
   ]
  },
  {
   "cell_type": "markdown",
   "metadata": {},
   "source": [
    "As we can see, there is a huge dip in closing price between in the year of 2008. This is during the financial crisis"
   ]
  },
  {
   "cell_type": "markdown",
   "metadata": {},
   "source": [
    "We are going to do the same for the volume, describe the statistics and graph the data (but we are using bar right now). "
   ]
  },
  {
   "cell_type": "code",
   "execution_count": 246,
   "metadata": {},
   "outputs": [
    {
     "name": "stdout",
     "output_type": "stream",
     "text": [
      "count    1.474000e+03\n",
      "mean     5.745331e+05\n",
      "std      4.419628e+05\n",
      "min      3.686600e+04\n",
      "25%      2.623758e+05\n",
      "50%      5.143810e+05\n",
      "75%      7.447785e+05\n",
      "max      4.181144e+06\n",
      "Name: Volume, dtype: float64\n",
      "Skewness: 2.690750558696263\n",
      "Kurtosis: 13.560712759002502\n"
     ]
    }
   ],
   "source": [
    "print(population['Volume'].describe())\n",
    "print(\"Skewness:\", population['Volume'].skew())\n",
    "print(\"Kurtosis:\", population['Volume'].kurtosis())"
   ]
  },
  {
   "cell_type": "markdown",
   "metadata": {},
   "source": [
    "Distribution-wise, the data is also rightly skewed so it is not normally distributed"
   ]
  },
  {
   "cell_type": "code",
   "execution_count": 247,
   "metadata": {},
   "outputs": [
    {
     "data": {
      "text/plain": [
       "<Axes: xlabel='year', ylabel='Volume'>"
      ]
     },
     "execution_count": 247,
     "metadata": {},
     "output_type": "execute_result"
    },
    {
     "data": {
      "image/png": "[encoded data removed]",
      "text/plain": [
       "<Figure size 640x480 with 1 Axes>"
      ]
     },
     "metadata": {},
     "output_type": "display_data"
    }
   ],
   "source": [
    "sns.barplot(data=population,x='year', y='Volume')"
   ]
  },
  {
   "cell_type": "markdown",
   "metadata": {},
   "source": [
    "From the bar, we can see an increasing trend of trading volume for this company stock."
   ]
  },
  {
   "cell_type": "markdown",
   "metadata": {},
   "source": [
    "The reason I use bar for the volume is to have better visualization since unlike stock price, trading volume has higher volatility and will vary between each day"
   ]
  },
  {
   "cell_type": "markdown",
   "metadata": {},
   "source": [
    "### 2. Prices before crisis"
   ]
  },
  {
   "cell_type": "markdown",
   "metadata": {},
   "source": [
    "Now I am going to see how the company is doing financially 2 years pre-crisis, by seeing only its closing price. "
   ]
  },
  {
   "cell_type": "code",
   "execution_count": 248,
   "metadata": {},
   "outputs": [
    {
     "name": "stdout",
     "output_type": "stream",
     "text": [
      "count    466.000000\n",
      "mean      84.670315\n",
      "std        1.300922\n",
      "min       81.814000\n",
      "25%       83.777500\n",
      "50%       84.698000\n",
      "75%       85.777000\n",
      "max       87.298000\n",
      "Name: Close, dtype: float64\n",
      "Skewness: -0.11962275340992895\n",
      "Kurtosis: -0.8391049049100054\n"
     ]
    },
    {
     "data": {
      "text/plain": [
       "<Axes: >"
      ]
     },
     "execution_count": 248,
     "metadata": {},
     "output_type": "execute_result"
    },
    {
     "data": {
      "image/png": "[encoded data removed]",
      "text/plain": [
       "<Figure size 1000x400 with 2 Axes>"
      ]
     },
     "metadata": {},
     "output_type": "display_data"
    }
   ],
   "source": [
    "print(before['Close'].describe())\n",
    "print(\"Skewness:\", before['Close'].skew())\n",
    "print(\"Kurtosis:\", before['Close'].kurtosis())\n",
    "\n",
    "fig, ax = plt.subplots(ncols=2,figsize=(10,4))\n",
    "\n",
    "before['Close'].plot(kind='hist',bins=20,ax=ax[0])\n",
    "before['Close'].plot(kind='box',ax=ax[1])\n"
   ]
  },
  {
   "cell_type": "markdown",
   "metadata": {},
   "source": [
    "The sample data as we see is not as skewed as the whole population and rather have considerably normal distribution"
   ]
  },
  {
   "cell_type": "code",
   "execution_count": 278,
   "metadata": {},
   "outputs": [
    {
     "data": {
      "application/vnd.plotly.v1+json": {
       "config": {
        "plotlyServerURL": "https://plot.ly"
       },
       "data": [
        {
         "hovertemplate": "Date=%{x}<br>Close=%{y}<extra></extra>",
         "legendgroup": "",
         "line": {
          "color": "#636efa",
          "dash": "solid"
         },
         "marker": {
          "symbol": "circle"
         },
         "mode": "lines",
         "name": "",
         "orientation": "v",
         "showlegend": false,
         "type": "scatter",
         "x": [
          "2005-02-25T00:00:00",
          "2005-02-28T00:00:00",
          "2005-03-01T00:00:00",
          "2005-03-02T00:00:00",
          "2005-03-03T00:00:00",
          "2005-03-04T00:00:00",
          "2005-03-07T00:00:00",
          "2005-03-08T00:00:00",
          "2005-03-09T00:00:00",
          "2005-03-10T00:00:00",
          "2005-03-11T00:00:00",
          "2005-03-14T00:00:00",
          "2005-03-15T00:00:00",
          "2005-03-16T00:00:00",
          "2005-03-17T00:00:00",
          "2005-03-18T00:00:00",
          "2005-03-21T00:00:00",
          "2005-03-22T00:00:00",
          "2005-03-23T00:00:00",
          "2005-03-24T00:00:00",
          "2005-03-28T00:00:00",
          "2005-03-29T00:00:00",
          "2005-03-30T00:00:00",
          "2005-03-31T00:00:00",
          "2005-04-01T00:00:00",
          "2005-04-04T00:00:00",
          "2005-04-05T00:00:00",
          "2005-04-06T00:00:00",
          "2005-04-07T00:00:00",
          "2005-04-08T00:00:00",
          "2005-04-11T00:00:00",
          "2005-04-12T00:00:00",
          "2005-04-13T00:00:00",
          "2005-04-14T00:00:00",
          "2005-04-15T00:00:00",
          "2005-04-18T00:00:00",
          "2005-04-19T00:00:00",
          "2005-04-20T00:00:00",
          "2005-04-21T00:00:00",
          "2005-04-22T00:00:00",
          "2005-04-25T00:00:00",
          "2005-04-26T00:00:00",
          "2005-04-27T00:00:00",
          "2005-04-28T00:00:00",
          "2005-04-29T00:00:00",
          "2005-05-02T00:00:00",
          "2005-05-03T00:00:00",
          "2005-05-04T00:00:00",
          "2005-05-05T00:00:00",
          "2005-05-06T00:00:00",
          "2005-05-09T00:00:00",
          "2005-05-10T00:00:00",
          "2005-05-11T00:00:00",
          "2005-05-12T00:00:00",
          "2005-05-13T00:00:00",
          "2005-05-16T00:00:00",
          "2005-05-17T00:00:00",
          "2005-05-18T00:00:00",
          "2005-05-19T00:00:00",
          "2005-05-20T00:00:00",
          "2005-05-23T00:00:00",
          "2005-05-24T00:00:00",
          "2005-05-25T00:00:00",
          "2005-05-26T00:00:00",
          "2005-05-27T00:00:00",
          "2005-05-31T00:00:00",
          "2005-06-01T00:00:00",
          "2005-06-02T00:00:00",
          "2005-06-03T00:00:00",
          "2005-06-06T00:00:00",
          "2005-06-07T00:00:00",
          "2005-06-08T00:00:00",
          "2005-06-09T00:00:00",
          "2005-06-10T00:00:00",
          "2005-06-13T00:00:00",
          "2005-06-14T00:00:00",
          "2005-06-15T00:00:00",
          "2005-06-16T00:00:00",
          "2005-06-17T00:00:00",
          "2005-06-20T00:00:00",
          "2005-06-21T00:00:00",
          "2005-06-22T00:00:00",
          "2005-06-23T00:00:00",
          "2005-06-24T00:00:00",
          "2005-06-27T00:00:00",
          "2005-06-28T00:00:00",
          "2005-06-29T00:00:00",
          "2005-06-30T00:00:00",
          "2005-07-01T00:00:00",
          "2005-07-05T00:00:00",
          "2005-07-06T00:00:00",
          "2005-07-07T00:00:00",
          "2005-07-08T00:00:00",
          "2005-07-11T00:00:00",
          "2005-07-12T00:00:00",
          "2005-07-13T00:00:00",
          "2005-07-14T00:00:00",
          "2005-07-15T00:00:00",
          "2005-07-18T00:00:00",
          "2005-07-19T00:00:00",
          "2005-07-20T00:00:00",
          "2005-07-21T00:00:00",
          "2005-07-22T00:00:00",
          "2005-07-25T00:00:00",
          "2005-07-26T00:00:00",
          "2005-07-27T00:00:00",
          "2005-07-28T00:00:00",
          "2005-07-29T00:00:00",
          "2005-08-01T00:00:00",
          "2005-08-02T00:00:00",
          "2005-08-03T00:00:00",
          "2005-08-04T00:00:00",
          "2005-08-05T00:00:00",
          "2005-08-08T00:00:00",
          "2005-08-09T00:00:00",
          "2005-08-10T00:00:00",
          "2005-08-11T00:00:00",
          "2005-08-12T00:00:00",
          "2005-08-15T00:00:00",
          "2005-08-16T00:00:00",
          "2005-08-17T00:00:00",
          "2005-08-18T00:00:00",
          "2005-08-19T00:00:00",
          "2005-08-22T00:00:00",
          "2005-08-23T00:00:00",
          "2005-08-24T00:00:00",
          "2005-08-25T00:00:00",
          "2005-08-26T00:00:00",
          "2005-08-29T00:00:00",
          "2005-08-30T00:00:00",
          "2005-08-31T00:00:00",
          "2005-09-01T00:00:00",
          "2005-09-02T00:00:00",
          "2005-09-06T00:00:00",
          "2005-09-07T00:00:00",
          "2005-09-08T00:00:00",
          "2005-09-09T00:00:00",
          "2005-09-12T00:00:00",
          "2005-09-13T00:00:00",
          "2005-09-14T00:00:00",
          "2005-09-15T00:00:00",
          "2005-09-16T00:00:00",
          "2005-09-19T00:00:00",
          "2005-09-20T00:00:00",
          "2005-09-21T00:00:00",
          "2005-09-22T00:00:00",
          "2005-09-23T00:00:00",
          "2005-09-26T00:00:00",
          "2005-09-27T00:00:00",
          "2005-09-28T00:00:00",
          "2005-09-29T00:00:00",
          "2005-09-30T00:00:00",
          "2005-10-03T00:00:00",
          "2005-10-04T00:00:00",
          "2005-10-05T00:00:00",
          "2005-10-06T00:00:00",
          "2005-10-07T00:00:00",
          "2005-10-10T00:00:00",
          "2005-10-11T00:00:00",
          "2005-10-12T00:00:00",
          "2005-10-13T00:00:00",
          "2005-10-14T00:00:00",
          "2005-10-17T00:00:00",
          "2005-10-18T00:00:00",
          "2005-10-19T00:00:00",
          "2005-10-20T00:00:00",
          "2005-10-21T00:00:00",
          "2005-10-24T00:00:00",
          "2005-10-25T00:00:00",
          "2005-10-26T00:00:00",
          "2005-10-27T00:00:00",
          "2005-10-28T00:00:00",
          "2005-10-31T00:00:00",
          "2005-11-01T00:00:00",
          "2005-11-02T00:00:00",
          "2005-11-03T00:00:00",
          "2005-11-04T00:00:00",
          "2005-11-07T00:00:00",
          "2005-11-08T00:00:00",
          "2005-11-09T00:00:00",
          "2005-11-10T00:00:00",
          "2005-11-11T00:00:00",
          "2005-11-14T00:00:00",
          "2005-11-15T00:00:00",
          "2005-11-16T00:00:00",
          "2005-11-17T00:00:00",
          "2005-11-18T00:00:00",
          "2005-11-21T00:00:00",
          "2005-11-22T00:00:00",
          "2005-11-23T00:00:00",
          "2005-11-25T00:00:00",
          "2005-11-28T00:00:00",
          "2005-11-29T00:00:00",
          "2005-11-30T00:00:00",
          "2005-12-01T00:00:00",
          "2005-12-02T00:00:00",
          "2005-12-05T00:00:00",
          "2005-12-06T00:00:00",
          "2005-12-07T00:00:00",
          "2005-12-08T00:00:00",
          "2005-12-09T00:00:00",
          "2005-12-12T00:00:00",
          "2005-12-13T00:00:00",
          "2005-12-14T00:00:00",
          "2005-12-15T00:00:00",
          "2005-12-16T00:00:00",
          "2005-12-19T00:00:00",
          "2005-12-20T00:00:00",
          "2005-12-21T00:00:00",
          "2005-12-22T00:00:00",
          "2005-12-23T00:00:00",
          "2005-12-27T00:00:00",
          "2005-12-28T00:00:00",
          "2005-12-29T00:00:00",
          "2005-12-30T00:00:00",
          "2006-01-03T00:00:00",
          "2006-01-04T00:00:00",
          "2006-01-05T00:00:00",
          "2006-01-06T00:00:00",
          "2006-01-09T00:00:00",
          "2006-01-10T00:00:00",
          "2006-01-11T00:00:00",
          "2006-01-12T00:00:00",
          "2006-01-13T00:00:00",
          "2006-01-17T00:00:00",
          "2006-01-18T00:00:00",
          "2006-01-19T00:00:00",
          "2006-01-20T00:00:00",
          "2006-01-23T00:00:00",
          "2006-01-24T00:00:00",
          "2006-01-25T00:00:00",
          "2006-01-26T00:00:00",
          "2006-01-27T00:00:00",
          "2006-01-30T00:00:00",
          "2006-01-31T00:00:00",
          "2006-02-01T00:00:00",
          "2006-02-02T00:00:00",
          "2006-02-03T00:00:00",
          "2006-02-06T00:00:00",
          "2006-02-07T00:00:00",
          "2006-02-08T00:00:00",
          "2006-02-09T00:00:00",
          "2006-02-10T00:00:00",
          "2006-02-13T00:00:00",
          "2006-02-14T00:00:00",
          "2006-02-15T00:00:00",
          "2006-02-16T00:00:00",
          "2006-02-17T00:00:00",
          "2006-02-21T00:00:00",
          "2006-02-22T00:00:00",
          "2006-02-23T00:00:00",
          "2006-02-24T00:00:00",
          "2006-02-27T00:00:00",
          "2006-02-28T00:00:00",
          "2006-03-01T00:00:00",
          "2006-03-02T00:00:00",
          "2006-03-03T00:00:00",
          "2006-03-06T00:00:00",
          "2006-03-07T00:00:00",
          "2006-03-08T00:00:00",
          "2006-03-09T00:00:00",
          "2006-03-10T00:00:00",
          "2006-03-13T00:00:00",
          "2006-03-14T00:00:00",
          "2006-03-15T00:00:00",
          "2006-03-16T00:00:00",
          "2006-03-17T00:00:00",
          "2006-03-20T00:00:00",
          "2006-03-21T00:00:00",
          "2006-03-22T00:00:00",
          "2006-03-23T00:00:00",
          "2006-03-24T00:00:00",
          "2006-03-27T00:00:00",
          "2006-03-28T00:00:00",
          "2006-03-29T00:00:00",
          "2006-03-30T00:00:00",
          "2006-03-31T00:00:00",
          "2006-04-03T00:00:00",
          "2006-04-04T00:00:00",
          "2006-04-05T00:00:00",
          "2006-04-06T00:00:00",
          "2006-04-07T00:00:00",
          "2006-04-10T00:00:00",
          "2006-04-11T00:00:00",
          "2006-04-12T00:00:00",
          "2006-04-13T00:00:00",
          "2006-04-17T00:00:00",
          "2006-04-18T00:00:00",
          "2006-04-19T00:00:00",
          "2006-04-20T00:00:00",
          "2006-04-21T00:00:00",
          "2006-04-24T00:00:00",
          "2006-04-25T00:00:00",
          "2006-04-26T00:00:00",
          "2006-04-27T00:00:00",
          "2006-04-28T00:00:00",
          "2006-05-01T00:00:00",
          "2006-05-02T00:00:00",
          "2006-05-03T00:00:00",
          "2006-05-04T00:00:00",
          "2006-05-05T00:00:00",
          "2006-05-08T00:00:00",
          "2006-05-09T00:00:00",
          "2006-05-10T00:00:00",
          "2006-05-11T00:00:00",
          "2006-05-12T00:00:00",
          "2006-05-15T00:00:00",
          "2006-05-16T00:00:00",
          "2006-05-17T00:00:00",
          "2006-05-18T00:00:00",
          "2006-05-19T00:00:00",
          "2006-05-22T00:00:00",
          "2006-05-23T00:00:00",
          "2006-05-24T00:00:00",
          "2006-05-25T00:00:00",
          "2006-05-26T00:00:00",
          "2006-05-30T00:00:00",
          "2006-05-31T00:00:00",
          "2006-06-01T00:00:00",
          "2006-06-02T00:00:00",
          "2006-06-05T00:00:00",
          "2006-06-06T00:00:00",
          "2006-06-07T00:00:00",
          "2006-06-08T00:00:00",
          "2006-06-09T00:00:00",
          "2006-06-12T00:00:00",
          "2006-06-13T00:00:00",
          "2006-06-14T00:00:00",
          "2006-06-15T00:00:00",
          "2006-06-16T00:00:00",
          "2006-06-19T00:00:00",
          "2006-06-20T00:00:00",
          "2006-06-21T00:00:00",
          "2006-06-22T00:00:00",
          "2006-06-23T00:00:00",
          "2006-06-26T00:00:00",
          "2006-06-27T00:00:00",
          "2006-06-28T00:00:00",
          "2006-06-29T00:00:00",
          "2006-06-30T00:00:00",
          "2006-07-03T00:00:00",
          "2006-07-05T00:00:00",
          "2006-07-06T00:00:00",
          "2006-07-07T00:00:00",
          "2006-07-10T00:00:00",
          "2006-07-11T00:00:00",
          "2006-07-12T00:00:00",
          "2006-07-13T00:00:00",
          "2006-07-14T00:00:00",
          "2006-07-17T00:00:00",
          "2006-07-18T00:00:00",
          "2006-07-19T00:00:00",
          "2006-07-20T00:00:00",
          "2006-07-21T00:00:00",
          "2006-07-24T00:00:00",
          "2006-07-25T00:00:00",
          "2006-07-26T00:00:00",
          "2006-07-27T00:00:00",
          "2006-07-28T00:00:00",
          "2006-07-31T00:00:00",
          "2006-08-01T00:00:00",
          "2006-08-02T00:00:00",
          "2006-08-03T00:00:00",
          "2006-08-04T00:00:00",
          "2006-08-07T00:00:00",
          "2006-08-08T00:00:00",
          "2006-08-09T00:00:00",
          "2006-08-10T00:00:00",
          "2006-08-11T00:00:00",
          "2006-08-14T00:00:00",
          "2006-08-15T00:00:00",
          "2006-08-16T00:00:00",
          "2006-08-17T00:00:00",
          "2006-08-18T00:00:00",
          "2006-08-21T00:00:00",
          "2006-08-22T00:00:00",
          "2006-08-23T00:00:00",
          "2006-08-24T00:00:00",
          "2006-08-25T00:00:00",
          "2006-08-28T00:00:00",
          "2006-08-29T00:00:00",
          "2006-08-30T00:00:00",
          "2006-08-31T00:00:00",
          "2006-09-01T00:00:00",
          "2006-09-05T00:00:00",
          "2006-09-06T00:00:00",
          "2006-09-07T00:00:00",
          "2006-09-08T00:00:00",
          "2006-09-11T00:00:00",
          "2006-09-12T00:00:00",
          "2006-09-13T00:00:00",
          "2006-09-14T00:00:00",
          "2006-09-15T00:00:00",
          "2006-09-18T00:00:00",
          "2006-09-19T00:00:00",
          "2006-09-20T00:00:00",
          "2006-09-21T00:00:00",
          "2006-09-22T00:00:00",
          "2006-09-25T00:00:00",
          "2006-09-26T00:00:00",
          "2006-09-27T00:00:00",
          "2006-09-28T00:00:00",
          "2006-09-29T00:00:00",
          "2006-10-02T00:00:00",
          "2006-10-03T00:00:00",
          "2006-10-04T00:00:00",
          "2006-10-05T00:00:00",
          "2006-10-06T00:00:00",
          "2006-10-09T00:00:00",
          "2006-10-10T00:00:00",
          "2006-10-11T00:00:00",
          "2006-10-12T00:00:00",
          "2006-10-13T00:00:00",
          "2006-10-16T00:00:00",
          "2006-10-17T00:00:00",
          "2006-10-18T00:00:00",
          "2006-10-19T00:00:00",
          "2006-10-20T00:00:00",
          "2006-10-23T00:00:00",
          "2006-10-24T00:00:00",
          "2006-10-25T00:00:00",
          "2006-10-26T00:00:00",
          "2006-10-27T00:00:00",
          "2006-10-30T00:00:00",
          "2006-10-31T00:00:00",
          "2006-11-01T00:00:00",
          "2006-11-02T00:00:00",
          "2006-11-03T00:00:00",
          "2006-11-06T00:00:00",
          "2006-11-07T00:00:00",
          "2006-11-08T00:00:00",
          "2006-11-09T00:00:00",
          "2006-11-10T00:00:00",
          "2006-11-13T00:00:00",
          "2006-11-14T00:00:00",
          "2006-11-15T00:00:00",
          "2006-11-16T00:00:00",
          "2006-11-17T00:00:00",
          "2006-11-20T00:00:00",
          "2006-11-21T00:00:00",
          "2006-11-22T00:00:00",
          "2006-11-24T00:00:00",
          "2006-11-27T00:00:00",
          "2006-11-28T00:00:00",
          "2006-11-29T00:00:00",
          "2006-11-30T00:00:00",
          "2006-12-01T00:00:00",
          "2006-12-04T00:00:00",
          "2006-12-05T00:00:00",
          "2006-12-06T00:00:00",
          "2006-12-07T00:00:00",
          "2006-12-08T00:00:00",
          "2006-12-11T00:00:00",
          "2006-12-12T00:00:00",
          "2006-12-13T00:00:00",
          "2006-12-14T00:00:00",
          "2006-12-15T00:00:00",
          "2006-12-18T00:00:00",
          "2006-12-19T00:00:00",
          "2006-12-20T00:00:00",
          "2006-12-21T00:00:00",
          "2006-12-22T00:00:00",
          "2006-12-26T00:00:00",
          "2006-12-27T00:00:00",
          "2006-12-28T00:00:00",
          "2006-12-29T00:00:00"
         ],
         "xaxis": "x",
         "y": [
          86.516,
          86.287,
          85.985,
          85.874,
          85.943,
          86.189,
          86.211,
          86.026,
          85.501,
          85.399,
          85.47,
          85.435,
          85.451,
          85.511,
          85.493,
          85.435,
          85.435,
          84.968,
          85.079,
          85.13,
          84.961,
          84.907,
          85.164,
          85.207,
          85.416,
          85.315,
          85.146,
          85.363,
          85.265,
          85.265,
          85.426,
          85.661,
          85.779,
          85.856,
          86.163,
          86.06,
          86.171,
          86.23,
          86.016,
          86.197,
          86.163,
          85.951,
          86.303,
          86.526,
          86.383,
          86.103,
          86.042,
          86.138,
          86.197,
          85.874,
          85.805,
          85.9,
          86.042,
          86.246,
          86.33,
          86.204,
          86.303,
          86.534,
          86.321,
          86.22,
          86.508,
          86.661,
          86.644,
          86.635,
          86.576,
          86.814,
          87.16,
          87.1,
          86.882,
          86.9,
          87.127,
          86.966,
          86.957,
          86.618,
          86.543,
          86.434,
          86.383,
          86.644,
          86.644,
          86.452,
          86.806,
          87.177,
          87.092,
          87.227,
          87.298,
          87.042,
          87.001,
          87.28,
          86.687,
          86.365,
          86.5,
          86.611,
          86.468,
          86.477,
          86.434,
          86.313,
          86.313,
          86.356,
          86.204,
          86.246,
          86.393,
          85.943,
          86.069,
          86.069,
          86.163,
          86.112,
          86.365,
          86.095,
          85.765,
          85.577,
          85.856,
          85.771,
          85.349,
          85.332,
          85.485,
          85.493,
          85.724,
          85.968,
          85.891,
          86.095,
          85.917,
          86.155,
          86.069,
          86.146,
          86.204,
          86.313,
          86.313,
          86.246,
          86.279,
          86.493,
          86.829,
          86.661,
          86.618,
          86.452,
          86.303,
          86.295,
          86.271,
          86.155,
          86.365,
          86.271,
          86.06,
          85.865,
          85.943,
          85.883,
          86.077,
          86.155,
          86.001,
          85.787,
          85.732,
          85.968,
          85.771,
          85.732,
          85.155,
          85.274,
          85.407,
          85.349,
          85.265,
          85.372,
          85.121,
          85.087,
          84.865,
          84.841,
          84.977,
          84.943,
          85.097,
          85.112,
          85.306,
          85.138,
          84.881,
          84.552,
          84.749,
          84.614,
          84.605,
          84.328,
          84.249,
          83.961,
          84.045,
          84.054,
          84.345,
          84.121,
          84.416,
          84.505,
          84.215,
          84.337,
          84.53,
          84.552,
          84.522,
          84.791,
          85.005,
          84.943,
          85.02,
          84.898,
          84.791,
          84.614,
          84.173,
          84.173,
          84.215,
          84.362,
          84.249,
          84.683,
          84.39,
          84.215,
          84.536,
          84.766,
          84.683,
          84.674,
          84.741,
          84.766,
          84.766,
          84.943,
          85.164,
          85.382,
          84.766,
          84.816,
          84.917,
          84.961,
          85.164,
          85.164,
          84.968,
          85.061,
          84.89,
          84.833,
          85.052,
          85.291,
          85.332,
          85.435,
          85.306,
          85.349,
          85.349,
          85.207,
          84.995,
          84.741,
          84.841,
          84.85,
          84.865,
          84.328,
          84.384,
          84.622,
          84.605,
          84.545,
          84.505,
          84.552,
          84.377,
          84.433,
          84.303,
          84.39,
          84.311,
          84.656,
          84.345,
          84.683,
          84.631,
          84.698,
          84.522,
          84.698,
          84.384,
          84.173,
          84.005,
          83.538,
          83.749,
          83.794,
          83.68,
          83.714,
          83.87,
          84.148,
          83.918,
          84.275,
          84.088,
          84.054,
          83.838,
          83.988,
          83.918,
          84.063,
          84.13,
          83.918,
          83.749,
          83.372,
          83.645,
          83.243,
          83.356,
          83.412,
          83.347,
          83.065,
          82.987,
          83.154,
          83.079,
          82.912,
          83.049,
          82.987,
          83.065,
          82.937,
          82.928,
          83.243,
          82.964,
          82.822,
          83.014,
          83.198,
          82.555,
          82.638,
          82.579,
          82.538,
          82.689,
          82.753,
          82.707,
          82.611,
          82.564,
          82.389,
          82.439,
          82.849,
          82.603,
          82.954,
          82.937,
          82.954,
          82.725,
          82.744,
          82.735,
          83.087,
          82.905,
          82.717,
          82.33,
          82.964,
          82.689,
          82.912,
          82.647,
          82.928,
          83.049,
          82.797,
          83.031,
          82.717,
          82.579,
          82.531,
          82.314,
          82.365,
          82.389,
          82.028,
          82.072,
          81.841,
          82.063,
          81.981,
          82.271,
          82.264,
          82.054,
          81.814,
          81.889,
          82.191,
          82.271,
          82.406,
          82.453,
          82.522,
          82.628,
          82.453,
          82.398,
          82.717,
          82.806,
          82.753,
          82.881,
          82.815,
          82.864,
          82.996,
          83.171,
          83.073,
          82.928,
          82.964,
          82.978,
          83.243,
          83.252,
          83.252,
          83.322,
          83.276,
          83.128,
          83.04,
          83.243,
          83.513,
          83.53,
          83.588,
          83.794,
          83.749,
          83.775,
          83.766,
          83.855,
          83.775,
          83.812,
          83.935,
          84.045,
          83.723,
          83.62,
          83.636,
          83.612,
          83.723,
          83.663,
          83.87,
          83.935,
          83.821,
          83.794,
          83.775,
          83.97,
          84.063,
          84.425,
          84.478,
          84.648,
          84.639,
          84.605,
          84.522,
          84.561,
          84.294,
          84.275,
          84.605,
          84.345,
          84.028,
          84.206,
          83.879,
          83.785,
          83.87,
          83.654,
          83.794,
          83.918,
          84.021,
          83.978,
          83.953,
          83.706,
          83.803,
          84.005,
          84.294,
          84.46,
          84.478,
          84.791,
          84.578,
          84.486,
          84.045,
          84.045,
          84.257,
          84.486,
          84.514,
          84.698,
          84.596,
          84.716,
          84.552,
          84.478,
          84.698,
          84.749,
          84.857,
          84.961,
          85.005,
          84.961,
          85.189,
          85.061,
          85.323,
          85.146,
          85.232,
          85.181,
          85.112,
          85.037,
          84.857,
          84.907,
          85.079,
          84.816,
          84.706,
          84.69,
          84.741,
          84.791,
          84.766,
          84.925,
          84.85,
          84.823,
          84.294,
          84.182,
          84.173
         ],
         "yaxis": "y"
        }
       ],
       "layout": {
        "legend": {
         "tracegroupgap": 0
        },
        "template": {
         "data": {
          "bar": [
           {
            "error_x": {
             "color": "#2a3f5f"
            },
            "error_y": {
             "color": "#2a3f5f"
            },
            "marker": {
             "line": {
              "color": "#E5ECF6",
              "width": 0.5
             },
             "pattern": {
              "fillmode": "overlay",
              "size": 10,
              "solidity": 0.2
             }
            },
            "type": "bar"
           }
          ],
          "barpolar": [
           {
            "marker": {
             "line": {
              "color": "#E5ECF6",
              "width": 0.5
             },
             "pattern": {
              "fillmode": "overlay",
              "size": 10,
              "solidity": 0.2
             }
            },
            "type": "barpolar"
           }
          ],
          "carpet": [
           {
            "aaxis": {
             "endlinecolor": "#2a3f5f",
             "gridcolor": "white",
             "linecolor": "white",
             "minorgridcolor": "white",
             "startlinecolor": "#2a3f5f"
            },
            "baxis": {
             "endlinecolor": "#2a3f5f",
             "gridcolor": "white",
             "linecolor": "white",
             "minorgridcolor": "white",
             "startlinecolor": "#2a3f5f"
            },
            "type": "carpet"
           }
          ],
          "choropleth": [
           {
            "colorbar": {
             "outlinewidth": 0,
             "ticks": ""
            },
            "type": "choropleth"
           }
          ],
          "contour": [
           {
            "colorbar": {
             "outlinewidth": 0,
             "ticks": ""
            },
            "colorscale": [
             [
              0,
              "#0d0887"
             ],
             [
              0.1111111111111111,
              "#46039f"
             ],
             [
              0.2222222222222222,
              "#7201a8"
             ],
             [
              0.3333333333333333,
              "#9c179e"
             ],
             [
              0.4444444444444444,
              "#bd3786"
             ],
             [
              0.5555555555555556,
              "#d8576b"
             ],
             [
              0.6666666666666666,
              "#ed7953"
             ],
             [
              0.7777777777777778,
              "#fb9f3a"
             ],
             [
              0.8888888888888888,
              "#fdca26"
             ],
             [
              1,
              "#f0f921"
             ]
            ],
            "type": "contour"
           }
          ],
          "contourcarpet": [
           {
            "colorbar": {
             "outlinewidth": 0,
             "ticks": ""
            },
            "type": "contourcarpet"
           }
          ],
          "heatmap": [
           {
            "colorbar": {
             "outlinewidth": 0,
             "ticks": ""
            },
            "colorscale": [
             [
              0,
              "#0d0887"
             ],
             [
              0.1111111111111111,
              "#46039f"
             ],
             [
              0.2222222222222222,
              "#7201a8"
             ],
             [
              0.3333333333333333,
              "#9c179e"
             ],
             [
              0.4444444444444444,
              "#bd3786"
             ],
             [
              0.5555555555555556,
              "#d8576b"
             ],
             [
              0.6666666666666666,
              "#ed7953"
             ],
             [
              0.7777777777777778,
              "#fb9f3a"
             ],
             [
              0.8888888888888888,
              "#fdca26"
             ],
             [
              1,
              "#f0f921"
             ]
            ],
            "type": "heatmap"
           }
          ],
          "heatmapgl": [
           {
            "colorbar": {
             "outlinewidth": 0,
             "ticks": ""
            },
            "colorscale": [
             [
              0,
              "#0d0887"
             ],
             [
              0.1111111111111111,
              "#46039f"
             ],
             [
              0.2222222222222222,
              "#7201a8"
             ],
             [
              0.3333333333333333,
              "#9c179e"
             ],
             [
              0.4444444444444444,
              "#bd3786"
             ],
             [
              0.5555555555555556,
              "#d8576b"
             ],
             [
              0.6666666666666666,
              "#ed7953"
             ],
             [
              0.7777777777777778,
              "#fb9f3a"
             ],
             [
              0.8888888888888888,
              "#fdca26"
             ],
             [
              1,
              "#f0f921"
             ]
            ],
            "type": "heatmapgl"
           }
          ],
          "histogram": [
           {
            "marker": {
             "pattern": {
              "fillmode": "overlay",
              "size": 10,
              "solidity": 0.2
             }
            },
            "type": "histogram"
           }
          ],
          "histogram2d": [
           {
            "colorbar": {
             "outlinewidth": 0,
             "ticks": ""
            },
            "colorscale": [
             [
              0,
              "#0d0887"
             ],
             [
              0.1111111111111111,
              "#46039f"
             ],
             [
              0.2222222222222222,
              "#7201a8"
             ],
             [
              0.3333333333333333,
              "#9c179e"
             ],
             [
              0.4444444444444444,
              "#bd3786"
             ],
             [
              0.5555555555555556,
              "#d8576b"
             ],
             [
              0.6666666666666666,
              "#ed7953"
             ],
             [
              0.7777777777777778,
              "#fb9f3a"
             ],
             [
              0.8888888888888888,
              "#fdca26"
             ],
             [
              1,
              "#f0f921"
             ]
            ],
            "type": "histogram2d"
           }
          ],
          "histogram2dcontour": [
           {
            "colorbar": {
             "outlinewidth": 0,
             "ticks": ""
            },
            "colorscale": [
             [
              0,
              "#0d0887"
             ],
             [
              0.1111111111111111,
              "#46039f"
             ],
             [
              0.2222222222222222,
              "#7201a8"
             ],
             [
              0.3333333333333333,
              "#9c179e"
             ],
             [
              0.4444444444444444,
              "#bd3786"
             ],
             [
              0.5555555555555556,
              "#d8576b"
             ],
             [
              0.6666666666666666,
              "#ed7953"
             ],
             [
              0.7777777777777778,
              "#fb9f3a"
             ],
             [
              0.8888888888888888,
              "#fdca26"
             ],
             [
              1,
              "#f0f921"
             ]
            ],
            "type": "histogram2dcontour"
           }
          ],
          "mesh3d": [
           {
            "colorbar": {
             "outlinewidth": 0,
             "ticks": ""
            },
            "type": "mesh3d"
           }
          ],
          "parcoords": [
           {
            "line": {
             "colorbar": {
              "outlinewidth": 0,
              "ticks": ""
             }
            },
            "type": "parcoords"
           }
          ],
          "pie": [
           {
            "automargin": true,
            "type": "pie"
           }
          ],
          "scatter": [
           {
            "fillpattern": {
             "fillmode": "overlay",
             "size": 10,
             "solidity": 0.2
            },
            "type": "scatter"
           }
          ],
          "scatter3d": [
           {
            "line": {
             "colorbar": {
              "outlinewidth": 0,
              "ticks": ""
             }
            },
            "marker": {
             "colorbar": {
              "outlinewidth": 0,
              "ticks": ""
             }
            },
            "type": "scatter3d"
           }
          ],
          "scattercarpet": [
           {
            "marker": {
             "colorbar": {
              "outlinewidth": 0,
              "ticks": ""
             }
            },
            "type": "scattercarpet"
           }
          ],
          "scattergeo": [
           {
            "marker": {
             "colorbar": {
              "outlinewidth": 0,
              "ticks": ""
             }
            },
            "type": "scattergeo"
           }
          ],
          "scattergl": [
           {
            "marker": {
             "colorbar": {
              "outlinewidth": 0,
              "ticks": ""
             }
            },
            "type": "scattergl"
           }
          ],
          "scattermapbox": [
           {
            "marker": {
             "colorbar": {
              "outlinewidth": 0,
              "ticks": ""
             }
            },
            "type": "scattermapbox"
           }
          ],
          "scatterpolar": [
           {
            "marker": {
             "colorbar": {
              "outlinewidth": 0,
              "ticks": ""
             }
            },
            "type": "scatterpolar"
           }
          ],
          "scatterpolargl": [
           {
            "marker": {
             "colorbar": {
              "outlinewidth": 0,
              "ticks": ""
             }
            },
            "type": "scatterpolargl"
           }
          ],
          "scatterternary": [
           {
            "marker": {
             "colorbar": {
              "outlinewidth": 0,
              "ticks": ""
             }
            },
            "type": "scatterternary"
           }
          ],
          "surface": [
           {
            "colorbar": {
             "outlinewidth": 0,
             "ticks": ""
            },
            "colorscale": [
             [
              0,
              "#0d0887"
             ],
             [
              0.1111111111111111,
              "#46039f"
             ],
             [
              0.2222222222222222,
              "#7201a8"
             ],
             [
              0.3333333333333333,
              "#9c179e"
             ],
             [
              0.4444444444444444,
              "#bd3786"
             ],
             [
              0.5555555555555556,
              "#d8576b"
             ],
             [
              0.6666666666666666,
              "#ed7953"
             ],
             [
              0.7777777777777778,
              "#fb9f3a"
             ],
             [
              0.8888888888888888,
              "#fdca26"
             ],
             [
              1,
              "#f0f921"
             ]
            ],
            "type": "surface"
           }
          ],
          "table": [
           {
            "cells": {
             "fill": {
              "color": "#EBF0F8"
             },
             "line": {
              "color": "white"
             }
            },
            "header": {
             "fill": {
              "color": "#C8D4E3"
             },
             "line": {
              "color": "white"
             }
            },
            "type": "table"
           }
          ]
         },
         "layout": {
          "annotationdefaults": {
           "arrowcolor": "#2a3f5f",
           "arrowhead": 0,
           "arrowwidth": 1
          },
          "autotypenumbers": "strict",
          "coloraxis": {
           "colorbar": {
            "outlinewidth": 0,
            "ticks": ""
           }
          },
          "colorscale": {
           "diverging": [
            [
             0,
             "#8e0152"
            ],
            [
             0.1,
             "#c51b7d"
            ],
            [
             0.2,
             "#de77ae"
            ],
            [
             0.3,
             "#f1b6da"
            ],
            [
             0.4,
             "#fde0ef"
            ],
            [
             0.5,
             "#f7f7f7"
            ],
            [
             0.6,
             "#e6f5d0"
            ],
            [
             0.7,
             "#b8e186"
            ],
            [
             0.8,
             "#7fbc41"
            ],
            [
             0.9,
             "#4d9221"
            ],
            [
             1,
             "#276419"
            ]
           ],
           "sequential": [
            [
             0,
             "#0d0887"
            ],
            [
             0.1111111111111111,
             "#46039f"
            ],
            [
             0.2222222222222222,
             "#7201a8"
            ],
            [
             0.3333333333333333,
             "#9c179e"
            ],
            [
             0.4444444444444444,
             "#bd3786"
            ],
            [
             0.5555555555555556,
             "#d8576b"
            ],
            [
             0.6666666666666666,
             "#ed7953"
            ],
            [
             0.7777777777777778,
             "#fb9f3a"
            ],
            [
             0.8888888888888888,
             "#fdca26"
            ],
            [
             1,
             "#f0f921"
            ]
           ],
           "sequentialminus": [
            [
             0,
             "#0d0887"
            ],
            [
             0.1111111111111111,
             "#46039f"
            ],
            [
             0.2222222222222222,
             "#7201a8"
            ],
            [
             0.3333333333333333,
             "#9c179e"
            ],
            [
             0.4444444444444444,
             "#bd3786"
            ],
            [
             0.5555555555555556,
             "#d8576b"
            ],
            [
             0.6666666666666666,
             "#ed7953"
            ],
            [
             0.7777777777777778,
             "#fb9f3a"
            ],
            [
             0.8888888888888888,
             "#fdca26"
            ],
            [
             1,
             "#f0f921"
            ]
           ]
          },
          "colorway": [
           "#636efa",
           "#EF553B",
           "#00cc96",
           "#ab63fa",
           "#FFA15A",
           "#19d3f3",
           "#FF6692",
           "#B6E880",
           "#FF97FF",
           "#FECB52"
          ],
          "font": {
           "color": "#2a3f5f"
          },
          "geo": {
           "bgcolor": "white",
           "lakecolor": "white",
           "landcolor": "#E5ECF6",
           "showlakes": true,
           "showland": true,
           "subunitcolor": "white"
          },
          "hoverlabel": {
           "align": "left"
          },
          "hovermode": "closest",
          "mapbox": {
           "style": "light"
          },
          "paper_bgcolor": "white",
          "plot_bgcolor": "#E5ECF6",
          "polar": {
           "angularaxis": {
            "gridcolor": "white",
            "linecolor": "white",
            "ticks": ""
           },
           "bgcolor": "#E5ECF6",
           "radialaxis": {
            "gridcolor": "white",
            "linecolor": "white",
            "ticks": ""
           }
          },
          "scene": {
           "xaxis": {
            "backgroundcolor": "#E5ECF6",
            "gridcolor": "white",
            "gridwidth": 2,
            "linecolor": "white",
            "showbackground": true,
            "ticks": "",
            "zerolinecolor": "white"
           },
           "yaxis": {
            "backgroundcolor": "#E5ECF6",
            "gridcolor": "white",
            "gridwidth": 2,
            "linecolor": "white",
            "showbackground": true,
            "ticks": "",
            "zerolinecolor": "white"
           },
           "zaxis": {
            "backgroundcolor": "#E5ECF6",
            "gridcolor": "white",
            "gridwidth": 2,
            "linecolor": "white",
            "showbackground": true,
            "ticks": "",
            "zerolinecolor": "white"
           }
          },
          "shapedefaults": {
           "line": {
            "color": "#2a3f5f"
           }
          },
          "ternary": {
           "aaxis": {
            "gridcolor": "white",
            "linecolor": "white",
            "ticks": ""
           },
           "baxis": {
            "gridcolor": "white",
            "linecolor": "white",
            "ticks": ""
           },
           "bgcolor": "#E5ECF6",
           "caxis": {
            "gridcolor": "white",
            "linecolor": "white",
            "ticks": ""
           }
          },
          "title": {
           "x": 0.05
          },
          "xaxis": {
           "automargin": true,
           "gridcolor": "white",
           "linecolor": "white",
           "ticks": "",
           "title": {
            "standoff": 15
           },
           "zerolinecolor": "white",
           "zerolinewidth": 2
          },
          "yaxis": {
           "automargin": true,
           "gridcolor": "white",
           "linecolor": "white",
           "ticks": "",
           "title": {
            "standoff": 15
           },
           "zerolinecolor": "white",
           "zerolinewidth": 2
          }
         }
        },
        "title": {
         "text": "Closing Price"
        },
        "xaxis": {
         "anchor": "y",
         "domain": [
          0,
          1
         ],
         "title": {
          "text": "Date"
         }
        },
        "yaxis": {
         "anchor": "x",
         "domain": [
          0,
          1
         ],
         "title": {
          "text": "Close"
         }
        }
       }
      }
     },
     "metadata": {},
     "output_type": "display_data"
    }
   ],
   "source": [
    "import plotly.express as px\n",
    "fig = px.line(before, x=\"Date\", y=\"Close\",  \n",
    "              title='Closing Price')\n",
    "fig.show()"
   ]
  },
  {
   "cell_type": "markdown",
   "metadata": {},
   "source": [
    "The trend seems to be going down from 2005 to the middle of 2006. After that, the price seems to have gone back up since then."
   ]
  },
  {
   "cell_type": "markdown",
   "metadata": {},
   "source": [
    "### 3. Prices during crisis"
   ]
  },
  {
   "cell_type": "markdown",
   "metadata": {},
   "source": [
    "And now, I am going to see their prices during crisis"
   ]
  },
  {
   "cell_type": "code",
   "execution_count": 251,
   "metadata": {},
   "outputs": [
    {
     "name": "stdout",
     "output_type": "stream",
     "text": [
      "count    504.000000\n",
      "mean      84.513740\n",
      "std        1.592928\n",
      "min       74.626000\n",
      "25%       83.908000\n",
      "50%       84.540500\n",
      "75%       85.481000\n",
      "max       87.973000\n",
      "Name: Close, dtype: float64\n",
      "Skewness: -1.1226503228505587\n",
      "Kurtosis: 3.9523561132935265\n"
     ]
    },
    {
     "data": {
      "text/plain": [
       "<Axes: >"
      ]
     },
     "execution_count": 251,
     "metadata": {},
     "output_type": "execute_result"
    },
    {
     "data": {
      "image/png": "[encoded data removed]",
      "text/plain": [
       "<Figure size 1000x400 with 2 Axes>"
      ]
     },
     "metadata": {},
     "output_type": "display_data"
    }
   ],
   "source": [
    "print(during['Close'].describe())\n",
    "print(\"Skewness:\", during['Close'].skew())\n",
    "print(\"Kurtosis:\", during['Close'].kurtosis())\n",
    "\n",
    "fig, ax = plt.subplots(ncols=2,figsize=(10,4))\n",
    "\n",
    "during['Close'].plot(kind='hist',bins=20,ax=ax[0])\n",
    "during['Close'].plot(kind='box',ax=ax[1])"
   ]
  },
  {
   "cell_type": "markdown",
   "metadata": {},
   "source": [
    "It has a huge number of outlier as we can see from the skewness, so it is not normally distributed"
   ]
  },
  {
   "cell_type": "code",
   "execution_count": 250,
   "metadata": {},
   "outputs": [
    {
     "data": {
      "application/vnd.plotly.v1+json": {
       "config": {
        "plotlyServerURL": "https://plot.ly"
       },
       "data": [
        {
         "hovertemplate": "Date=%{x}<br>Close=%{y}<extra></extra>",
         "legendgroup": "",
         "line": {
          "color": "#636efa",
          "dash": "solid"
         },
         "marker": {
          "symbol": "circle"
         },
         "mode": "lines",
         "name": "",
         "orientation": "v",
         "showlegend": false,
         "type": "scatter",
         "x": [
          "2007-01-03T00:00:00",
          "2007-01-04T00:00:00",
          "2007-01-05T00:00:00",
          "2007-01-08T00:00:00",
          "2007-01-09T00:00:00",
          "2007-01-10T00:00:00",
          "2007-01-11T00:00:00",
          "2007-01-12T00:00:00",
          "2007-01-16T00:00:00",
          "2007-01-17T00:00:00",
          "2007-01-18T00:00:00",
          "2007-01-19T00:00:00",
          "2007-01-22T00:00:00",
          "2007-01-23T00:00:00",
          "2007-01-24T00:00:00",
          "2007-01-25T00:00:00",
          "2007-01-26T00:00:00",
          "2007-01-29T00:00:00",
          "2007-01-30T00:00:00",
          "2007-01-31T00:00:00",
          "2007-02-01T00:00:00",
          "2007-02-02T00:00:00",
          "2007-02-05T00:00:00",
          "2007-02-06T00:00:00",
          "2007-02-07T00:00:00",
          "2007-02-08T00:00:00",
          "2007-02-09T00:00:00",
          "2007-02-12T00:00:00",
          "2007-02-13T00:00:00",
          "2007-02-14T00:00:00",
          "2007-02-15T00:00:00",
          "2007-02-16T00:00:00",
          "2007-02-20T00:00:00",
          "2007-02-21T00:00:00",
          "2007-02-22T00:00:00",
          "2007-02-23T00:00:00",
          "2007-02-26T00:00:00",
          "2007-02-27T00:00:00",
          "2007-02-28T00:00:00",
          "2007-03-01T00:00:00",
          "2007-03-02T00:00:00",
          "2007-03-05T00:00:00",
          "2007-03-06T00:00:00",
          "2007-03-07T00:00:00",
          "2007-03-08T00:00:00",
          "2007-03-09T00:00:00",
          "2007-03-12T00:00:00",
          "2007-03-13T00:00:00",
          "2007-03-14T00:00:00",
          "2007-03-15T00:00:00",
          "2007-03-16T00:00:00",
          "2007-03-19T00:00:00",
          "2007-03-20T00:00:00",
          "2007-03-21T00:00:00",
          "2007-03-22T00:00:00",
          "2007-03-23T00:00:00",
          "2007-03-26T00:00:00",
          "2007-03-27T00:00:00",
          "2007-03-28T00:00:00",
          "2007-03-29T00:00:00",
          "2007-03-30T00:00:00",
          "2007-04-02T00:00:00",
          "2007-04-03T00:00:00",
          "2007-04-04T00:00:00",
          "2007-04-05T00:00:00",
          "2007-04-09T00:00:00",
          "2007-04-10T00:00:00",
          "2007-04-11T00:00:00",
          "2007-04-12T00:00:00",
          "2007-04-13T00:00:00",
          "2007-04-16T00:00:00",
          "2007-04-17T00:00:00",
          "2007-04-18T00:00:00",
          "2007-04-19T00:00:00",
          "2007-04-20T00:00:00",
          "2007-04-23T00:00:00",
          "2007-04-24T00:00:00",
          "2007-04-25T00:00:00",
          "2007-04-26T00:00:00",
          "2007-04-27T00:00:00",
          "2007-04-30T00:00:00",
          "2007-05-01T00:00:00",
          "2007-05-02T00:00:00",
          "2007-05-03T00:00:00",
          "2007-05-04T00:00:00",
          "2007-05-07T00:00:00",
          "2007-05-08T00:00:00",
          "2007-05-09T00:00:00",
          "2007-05-10T00:00:00",
          "2007-05-11T00:00:00",
          "2007-05-14T00:00:00",
          "2007-05-15T00:00:00",
          "2007-05-16T00:00:00",
          "2007-05-17T00:00:00",
          "2007-05-18T00:00:00",
          "2007-05-21T00:00:00",
          "2007-05-22T00:00:00",
          "2007-05-23T00:00:00",
          "2007-05-24T00:00:00",
          "2007-05-25T00:00:00",
          "2007-05-29T00:00:00",
          "2007-05-30T00:00:00",
          "2007-05-31T00:00:00",
          "2007-06-01T00:00:00",
          "2007-06-04T00:00:00",
          "2007-06-05T00:00:00",
          "2007-06-06T00:00:00",
          "2007-06-07T00:00:00",
          "2007-06-08T00:00:00",
          "2007-06-11T00:00:00",
          "2007-06-12T00:00:00",
          "2007-06-13T00:00:00",
          "2007-06-14T00:00:00",
          "2007-06-15T00:00:00",
          "2007-06-18T00:00:00",
          "2007-06-19T00:00:00",
          "2007-06-20T00:00:00",
          "2007-06-21T00:00:00",
          "2007-06-22T00:00:00",
          "2007-06-25T00:00:00",
          "2007-06-26T00:00:00",
          "2007-06-27T00:00:00",
          "2007-06-28T00:00:00",
          "2007-06-29T00:00:00",
          "2007-07-02T00:00:00",
          "2007-07-03T00:00:00",
          "2007-07-05T00:00:00",
          "2007-07-06T00:00:00",
          "2007-07-09T00:00:00",
          "2007-07-10T00:00:00",
          "2007-07-11T00:00:00",
          "2007-07-12T00:00:00",
          "2007-07-13T00:00:00",
          "2007-07-16T00:00:00",
          "2007-07-17T00:00:00",
          "2007-07-18T00:00:00",
          "2007-07-19T00:00:00",
          "2007-07-20T00:00:00",
          "2007-07-23T00:00:00",
          "2007-07-24T00:00:00",
          "2007-07-25T00:00:00",
          "2007-07-26T00:00:00",
          "2007-07-27T00:00:00",
          "2007-07-30T00:00:00",
          "2007-07-31T00:00:00",
          "2007-08-01T00:00:00",
          "2007-08-02T00:00:00",
          "2007-08-03T00:00:00",
          "2007-08-06T00:00:00",
          "2007-08-07T00:00:00",
          "2007-08-08T00:00:00",
          "2007-08-09T00:00:00",
          "2007-08-10T00:00:00",
          "2007-08-13T00:00:00",
          "2007-08-14T00:00:00",
          "2007-08-15T00:00:00",
          "2007-08-16T00:00:00",
          "2007-08-17T00:00:00",
          "2007-08-20T00:00:00",
          "2007-08-21T00:00:00",
          "2007-08-22T00:00:00",
          "2007-08-23T00:00:00",
          "2007-08-24T00:00:00",
          "2007-08-27T00:00:00",
          "2007-08-28T00:00:00",
          "2007-08-29T00:00:00",
          "2007-08-30T00:00:00",
          "2007-08-31T00:00:00",
          "2007-09-04T00:00:00",
          "2007-09-05T00:00:00",
          "2007-09-06T00:00:00",
          "2007-09-07T00:00:00",
          "2007-09-10T00:00:00",
          "2007-09-11T00:00:00",
          "2007-09-12T00:00:00",
          "2007-09-13T00:00:00",
          "2007-09-14T00:00:00",
          "2007-09-17T00:00:00",
          "2007-09-18T00:00:00",
          "2007-09-19T00:00:00",
          "2007-09-20T00:00:00",
          "2007-09-21T00:00:00",
          "2007-09-24T00:00:00",
          "2007-09-25T00:00:00",
          "2007-09-26T00:00:00",
          "2007-09-27T00:00:00",
          "2007-09-28T00:00:00",
          "2007-10-01T00:00:00",
          "2007-10-02T00:00:00",
          "2007-10-03T00:00:00",
          "2007-10-04T00:00:00",
          "2007-10-05T00:00:00",
          "2007-10-08T00:00:00",
          "2007-10-09T00:00:00",
          "2007-10-10T00:00:00",
          "2007-10-11T00:00:00",
          "2007-10-12T00:00:00",
          "2007-10-15T00:00:00",
          "2007-10-16T00:00:00",
          "2007-10-17T00:00:00",
          "2007-10-18T00:00:00",
          "2007-10-19T00:00:00",
          "2007-10-22T00:00:00",
          "2007-10-23T00:00:00",
          "2007-10-24T00:00:00",
          "2007-10-25T00:00:00",
          "2007-10-26T00:00:00",
          "2007-10-29T00:00:00",
          "2007-10-30T00:00:00",
          "2007-10-31T00:00:00",
          "2007-11-01T00:00:00",
          "2007-11-02T00:00:00",
          "2007-11-05T00:00:00",
          "2007-11-06T00:00:00",
          "2007-11-07T00:00:00",
          "2007-11-08T00:00:00",
          "2007-11-09T00:00:00",
          "2007-11-12T00:00:00",
          "2007-11-13T00:00:00",
          "2007-11-14T00:00:00",
          "2007-11-15T00:00:00",
          "2007-11-16T00:00:00",
          "2007-11-19T00:00:00",
          "2007-11-20T00:00:00",
          "2007-11-21T00:00:00",
          "2007-11-23T00:00:00",
          "2007-11-26T00:00:00",
          "2007-11-27T00:00:00",
          "2007-11-28T00:00:00",
          "2007-11-29T00:00:00",
          "2007-11-30T00:00:00",
          "2007-12-03T00:00:00",
          "2007-12-04T00:00:00",
          "2007-12-05T00:00:00",
          "2007-12-06T00:00:00",
          "2007-12-07T00:00:00",
          "2007-12-10T00:00:00",
          "2007-12-11T00:00:00",
          "2007-12-12T00:00:00",
          "2007-12-13T00:00:00",
          "2007-12-14T00:00:00",
          "2007-12-17T00:00:00",
          "2007-12-18T00:00:00",
          "2007-12-19T00:00:00",
          "2007-12-20T00:00:00",
          "2007-12-21T00:00:00",
          "2007-12-24T00:00:00",
          "2007-12-26T00:00:00",
          "2007-12-27T00:00:00",
          "2007-12-28T00:00:00",
          "2007-12-31T00:00:00",
          "2008-01-02T00:00:00",
          "2008-01-03T00:00:00",
          "2008-01-04T00:00:00",
          "2008-01-07T00:00:00",
          "2008-01-08T00:00:00",
          "2008-01-09T00:00:00",
          "2008-01-10T00:00:00",
          "2008-01-11T00:00:00",
          "2008-01-14T00:00:00",
          "2008-01-15T00:00:00",
          "2008-01-16T00:00:00",
          "2008-01-17T00:00:00",
          "2008-01-18T00:00:00",
          "2008-01-22T00:00:00",
          "2008-01-23T00:00:00",
          "2008-01-24T00:00:00",
          "2008-01-25T00:00:00",
          "2008-01-28T00:00:00",
          "2008-01-29T00:00:00",
          "2008-01-30T00:00:00",
          "2008-01-31T00:00:00",
          "2008-02-01T00:00:00",
          "2008-02-04T00:00:00",
          "2008-02-05T00:00:00",
          "2008-02-06T00:00:00",
          "2008-02-07T00:00:00",
          "2008-02-08T00:00:00",
          "2008-02-11T00:00:00",
          "2008-02-12T00:00:00",
          "2008-02-13T00:00:00",
          "2008-02-14T00:00:00",
          "2008-02-15T00:00:00",
          "2008-02-19T00:00:00",
          "2008-02-20T00:00:00",
          "2008-02-21T00:00:00",
          "2008-02-22T00:00:00",
          "2008-02-25T00:00:00",
          "2008-02-26T00:00:00",
          "2008-02-27T00:00:00",
          "2008-02-28T00:00:00",
          "2008-02-29T00:00:00",
          "2008-03-03T00:00:00",
          "2008-03-04T00:00:00",
          "2008-03-05T00:00:00",
          "2008-03-06T00:00:00",
          "2008-03-07T00:00:00",
          "2008-03-10T00:00:00",
          "2008-03-11T00:00:00",
          "2008-03-12T00:00:00",
          "2008-03-13T00:00:00",
          "2008-03-14T00:00:00",
          "2008-03-17T00:00:00",
          "2008-03-18T00:00:00",
          "2008-03-19T00:00:00",
          "2008-03-20T00:00:00",
          "2008-03-24T00:00:00",
          "2008-03-25T00:00:00",
          "2008-03-26T00:00:00",
          "2008-03-27T00:00:00",
          "2008-03-28T00:00:00",
          "2008-03-31T00:00:00",
          "2008-04-01T00:00:00",
          "2008-04-02T00:00:00",
          "2008-04-03T00:00:00",
          "2008-04-04T00:00:00",
          "2008-04-07T00:00:00",
          "2008-04-08T00:00:00",
          "2008-04-09T00:00:00",
          "2008-04-10T00:00:00",
          "2008-04-11T00:00:00",
          "2008-04-14T00:00:00",
          "2008-04-15T00:00:00",
          "2008-04-16T00:00:00",
          "2008-04-17T00:00:00",
          "2008-04-18T00:00:00",
          "2008-04-21T00:00:00",
          "2008-04-22T00:00:00",
          "2008-04-23T00:00:00",
          "2008-04-24T00:00:00",
          "2008-04-25T00:00:00",
          "2008-04-28T00:00:00",
          "2008-04-29T00:00:00",
          "2008-04-30T00:00:00",
          "2008-05-01T00:00:00",
          "2008-05-02T00:00:00",
          "2008-05-05T00:00:00",
          "2008-05-06T00:00:00",
          "2008-05-07T00:00:00",
          "2008-05-08T00:00:00",
          "2008-05-09T00:00:00",
          "2008-05-12T00:00:00",
          "2008-05-13T00:00:00",
          "2008-05-14T00:00:00",
          "2008-05-15T00:00:00",
          "2008-05-16T00:00:00",
          "2008-05-19T00:00:00",
          "2008-05-20T00:00:00",
          "2008-05-21T00:00:00",
          "2008-05-22T00:00:00",
          "2008-05-23T00:00:00",
          "2008-05-27T00:00:00",
          "2008-05-28T00:00:00",
          "2008-05-29T00:00:00",
          "2008-05-30T00:00:00",
          "2008-06-02T00:00:00",
          "2008-06-03T00:00:00",
          "2008-06-04T00:00:00",
          "2008-06-05T00:00:00",
          "2008-06-06T00:00:00",
          "2008-06-09T00:00:00",
          "2008-06-10T00:00:00",
          "2008-06-11T00:00:00",
          "2008-06-12T00:00:00",
          "2008-06-13T00:00:00",
          "2008-06-16T00:00:00",
          "2008-06-17T00:00:00",
          "2008-06-18T00:00:00",
          "2008-06-19T00:00:00",
          "2008-06-20T00:00:00",
          "2008-06-23T00:00:00",
          "2008-06-24T00:00:00",
          "2008-06-25T00:00:00",
          "2008-06-26T00:00:00",
          "2008-06-27T00:00:00",
          "2008-06-30T00:00:00",
          "2008-07-01T00:00:00",
          "2008-07-02T00:00:00",
          "2008-07-03T00:00:00",
          "2008-07-07T00:00:00",
          "2008-07-08T00:00:00",
          "2008-07-09T00:00:00",
          "2008-07-10T00:00:00",
          "2008-07-11T00:00:00",
          "2008-07-14T00:00:00",
          "2008-07-15T00:00:00",
          "2008-07-16T00:00:00",
          "2008-07-17T00:00:00",
          "2008-07-18T00:00:00",
          "2008-07-21T00:00:00",
          "2008-07-22T00:00:00",
          "2008-07-23T00:00:00",
          "2008-07-24T00:00:00",
          "2008-07-25T00:00:00",
          "2008-07-28T00:00:00",
          "2008-07-29T00:00:00",
          "2008-07-30T00:00:00",
          "2008-07-31T00:00:00",
          "2008-08-01T00:00:00",
          "2008-08-04T00:00:00",
          "2008-08-05T00:00:00",
          "2008-08-06T00:00:00",
          "2008-08-07T00:00:00",
          "2008-08-08T00:00:00",
          "2008-08-11T00:00:00",
          "2008-08-12T00:00:00",
          "2008-08-13T00:00:00",
          "2008-08-14T00:00:00",
          "2008-08-15T00:00:00",
          "2008-08-18T00:00:00",
          "2008-08-19T00:00:00",
          "2008-08-20T00:00:00",
          "2008-08-21T00:00:00",
          "2008-08-22T00:00:00",
          "2008-08-25T00:00:00",
          "2008-08-26T00:00:00",
          "2008-08-27T00:00:00",
          "2008-08-28T00:00:00",
          "2008-08-29T00:00:00",
          "2008-09-02T00:00:00",
          "2008-09-03T00:00:00",
          "2008-09-04T00:00:00",
          "2008-09-05T00:00:00",
          "2008-09-08T00:00:00",
          "2008-09-09T00:00:00",
          "2008-09-10T00:00:00",
          "2008-09-11T00:00:00",
          "2008-09-12T00:00:00",
          "2008-09-15T00:00:00",
          "2008-09-16T00:00:00",
          "2008-09-17T00:00:00",
          "2008-09-18T00:00:00",
          "2008-09-19T00:00:00",
          "2008-09-22T00:00:00",
          "2008-09-23T00:00:00",
          "2008-09-24T00:00:00",
          "2008-09-25T00:00:00",
          "2008-09-26T00:00:00",
          "2008-09-29T00:00:00",
          "2008-09-30T00:00:00",
          "2008-10-01T00:00:00",
          "2008-10-02T00:00:00",
          "2008-10-03T00:00:00",
          "2008-10-06T00:00:00",
          "2008-10-07T00:00:00",
          "2008-10-08T00:00:00",
          "2008-10-09T00:00:00",
          "2008-10-10T00:00:00",
          "2008-10-13T00:00:00",
          "2008-10-14T00:00:00",
          "2008-10-15T00:00:00",
          "2008-10-16T00:00:00",
          "2008-10-17T00:00:00",
          "2008-10-20T00:00:00",
          "2008-10-21T00:00:00",
          "2008-10-22T00:00:00",
          "2008-10-23T00:00:00",
          "2008-10-24T00:00:00",
          "2008-10-27T00:00:00",
          "2008-10-28T00:00:00",
          "2008-10-29T00:00:00",
          "2008-10-30T00:00:00",
          "2008-10-31T00:00:00",
          "2008-11-03T00:00:00",
          "2008-11-04T00:00:00",
          "2008-11-05T00:00:00",
          "2008-11-06T00:00:00",
          "2008-11-07T00:00:00",
          "2008-11-10T00:00:00",
          "2008-11-11T00:00:00",
          "2008-11-12T00:00:00",
          "2008-11-13T00:00:00",
          "2008-11-14T00:00:00",
          "2008-11-17T00:00:00",
          "2008-11-18T00:00:00",
          "2008-11-19T00:00:00",
          "2008-11-20T00:00:00",
          "2008-11-21T00:00:00",
          "2008-11-24T00:00:00",
          "2008-11-25T00:00:00",
          "2008-11-26T00:00:00",
          "2008-11-28T00:00:00",
          "2008-12-01T00:00:00",
          "2008-12-02T00:00:00",
          "2008-12-03T00:00:00",
          "2008-12-04T00:00:00",
          "2008-12-05T00:00:00",
          "2008-12-08T00:00:00",
          "2008-12-09T00:00:00",
          "2008-12-10T00:00:00",
          "2008-12-11T00:00:00",
          "2008-12-12T00:00:00",
          "2008-12-15T00:00:00",
          "2008-12-16T00:00:00",
          "2008-12-17T00:00:00",
          "2008-12-18T00:00:00",
          "2008-12-19T00:00:00",
          "2008-12-22T00:00:00",
          "2008-12-23T00:00:00",
          "2008-12-24T00:00:00",
          "2008-12-26T00:00:00",
          "2008-12-29T00:00:00",
          "2008-12-30T00:00:00",
          "2008-12-31T00:00:00"
         ],
         "xaxis": "x",
         "y": [
          84.353,
          84.53,
          84.469,
          84.522,
          84.522,
          84.425,
          84.266,
          84.148,
          84.275,
          84.206,
          84.328,
          84.294,
          84.337,
          84.173,
          84.148,
          84.037,
          84.028,
          83.918,
          84.045,
          84.113,
          83.83,
          83.944,
          84.079,
          84.24,
          84.345,
          84.39,
          84.197,
          84.113,
          84.104,
          84.425,
          84.545,
          84.605,
          84.648,
          84.639,
          84.469,
          84.674,
          84.85,
          85.198,
          85.146,
          84.791,
          84.968,
          84.917,
          84.857,
          84.925,
          84.85,
          84.622,
          84.873,
          85.097,
          84.995,
          84.898,
          84.907,
          84.85,
          84.934,
          85.045,
          84.881,
          84.775,
          84.724,
          84.741,
          84.782,
          84.724,
          84.648,
          84.425,
          84.345,
          84.433,
          84.362,
          84.037,
          84.165,
          84.113,
          84.215,
          84.079,
          84.249,
          84.496,
          84.622,
          84.587,
          84.545,
          84.631,
          84.674,
          84.706,
          84.545,
          84.53,
          84.816,
          84.443,
          84.469,
          84.377,
          84.486,
          84.569,
          84.478,
          84.377,
          84.522,
          84.353,
          84.371,
          84.337,
          84.353,
          84.206,
          83.961,
          84.13,
          83.961,
          83.894,
          83.927,
          83.887,
          83.803,
          83.902,
          83.714,
          83.271,
          83.372,
          83.128,
          83.162,
          82.587,
          82.49,
          82.546,
          82.054,
          82.182,
          82.348,
          82.638,
          82.698,
          82.964,
          82.707,
          82.603,
          82.806,
          82.881,
          82.78,
          82.937,
          82.881,
          83.04,
          82.905,
          82.815,
          82.463,
          82.322,
          82.463,
          82.822,
          82.628,
          82.546,
          82.647,
          82.822,
          82.664,
          82.881,
          82.881,
          83.073,
          83.022,
          83.19,
          83.137,
          83.436,
          83.356,
          83.313,
          83.572,
          83.014,
          82.97,
          83.34,
          83.198,
          83.137,
          83.04,
          83.137,
          82.864,
          83.014,
          83.243,
          83.356,
          83.303,
          83.489,
          83.412,
          83.803,
          83.733,
          83.838,
          83.62,
          83.879,
          84.215,
          84.045,
          84.222,
          84.275,
          83.821,
          84.088,
          84.07,
          84.596,
          84.791,
          84.648,
          84.53,
          84.285,
          84.345,
          84.377,
          84.552,
          84.536,
          83.935,
          84.182,
          84.19,
          84.257,
          84.173,
          84.319,
          84.443,
          83.812,
          84.13,
          84.173,
          84.139,
          83.471,
          84.13,
          83.953,
          84.063,
          84.121,
          83.961,
          83.988,
          84.121,
          84.407,
          84.656,
          85.037,
          85.013,
          84.986,
          85.357,
          85.138,
          85.061,
          85.061,
          85.171,
          84.934,
          84.791,
          84.881,
          84.816,
          84.706,
          84.724,
          84.801,
          85.097,
          84.977,
          84.986,
          84.952,
          85.315,
          85.256,
          85.443,
          85.265,
          85.917,
          85.477,
          86.255,
          85.9,
          85.688,
          85.934,
          86.103,
          86.22,
          85.891,
          85.732,
          85.639,
          85.146,
          84.977,
          85.39,
          85.306,
          84.977,
          84.749,
          84.865,
          85.315,
          85.493,
          85.416,
          85.045,
          85.07,
          84.816,
          84.925,
          85.382,
          85.407,
          85.814,
          86.042,
          86.22,
          86.12,
          86.551,
          86.346,
          86.171,
          86.543,
          86.611,
          86.924,
          86.661,
          87.186,
          87.168,
          87.304,
          87.042,
          86.821,
          86.974,
          87.144,
          86.874,
          87.01,
          87.388,
          86.949,
          86.9,
          87.168,
          87.1,
          86.33,
          86.745,
          86.932,
          86.9,
          86.383,
          86.112,
          86.069,
          85.653,
          85.518,
          86.22,
          85.765,
          85.46,
          85.874,
          86.05,
          86.568,
          86.9,
          86.559,
          86.189,
          85.639,
          85.511,
          85.771,
          86.23,
          85.706,
          86.584,
          86.211,
          86.576,
          86.949,
          86.745,
          87.01,
          87.313,
          86.67,
          86.829,
          86.576,
          86.611,
          86.821,
          86.687,
          85.75,
          85.787,
          85.771,
          86.5,
          86.493,
          86.485,
          86.865,
          86.593,
          86.779,
          86.678,
          86.211,
          85.9,
          85.883,
          86.112,
          86.12,
          86.246,
          86.163,
          85.839,
          85.756,
          85.968,
          86.095,
          86.618,
          86.197,
          86.05,
          86.087,
          85.805,
          86.05,
          86.271,
          86.303,
          86.155,
          85.661,
          85.787,
          86.246,
          86.033,
          86.179,
          86.365,
          86.246,
          85.732,
          86.06,
          85.577,
          85.181,
          84.943,
          85.247,
          85.232,
          85.39,
          85.087,
          84.775,
          85.247,
          84.816,
          84.377,
          84.486,
          83.961,
          83.749,
          83.847,
          84.13,
          84.486,
          84.054,
          84.311,
          84.197,
          84.371,
          84.407,
          84.522,
          84.724,
          84.766,
          84.148,
          84.045,
          84.07,
          84.362,
          84.69,
          85.02,
          85.097,
          84.622,
          84.749,
          85.07,
          84.425,
          84.054,
          83.565,
          83.902,
          83.714,
          83.821,
          84.399,
          83.97,
          84.353,
          84.249,
          84.345,
          84.775,
          84.337,
          84.088,
          83.944,
          83.855,
          84.294,
          84.165,
          83.953,
          84.311,
          84.165,
          84.371,
          84.614,
          84.759,
          84.69,
          84.816,
          84.833,
          84.749,
          85.005,
          84.898,
          85.005,
          85.079,
          85.052,
          85.005,
          84.986,
          85.3,
          85.045,
          85.577,
          85.96,
          85.9,
          85.787,
          85.443,
          85.779,
          84.907,
          85.121,
          84.881,
          85.265,
          83.935,
          83.812,
          83.91,
          83.757,
          83.34,
          82.954,
          83.234,
          82.314,
          82.628,
          83.261,
          83.285,
          81.555,
          79.928,
          80.111,
          74.626,
          77.522,
          79.145,
          80.416,
          79.154,
          79.436,
          80.858,
          81.555,
          82.506,
          81.057,
          80.373,
          79.568,
          79.85,
          81.366,
          81.271,
          81.014,
          79.391,
          80.667,
          81.889,
          81.547,
          81.964,
          81.441,
          82.054,
          81.349,
          81.624,
          81.873,
          82.09,
          81.972,
          82.21,
          82.227,
          81.564,
          81.555,
          83.596,
          83.276,
          83.111,
          83.944,
          84.028,
          84.037,
          84.319,
          83.855,
          83.741,
          84.53,
          84.377,
          84.816,
          84.833,
          85.037,
          85.372,
          85.832,
          86.374,
          86.095,
          86.559,
          87.405,
          87.82,
          87.528,
          87.878,
          87.905,
          87.973
         ],
         "yaxis": "y"
        }
       ],
       "layout": {
        "legend": {
         "tracegroupgap": 0
        },
        "template": {
         "data": {
          "bar": [
           {
            "error_x": {
             "color": "#2a3f5f"
            },
            "error_y": {
             "color": "#2a3f5f"
            },
            "marker": {
             "line": {
              "color": "#E5ECF6",
              "width": 0.5
             },
             "pattern": {
              "fillmode": "overlay",
              "size": 10,
              "solidity": 0.2
             }
            },
            "type": "bar"
           }
          ],
          "barpolar": [
           {
            "marker": {
             "line": {
              "color": "#E5ECF6",
              "width": 0.5
             },
             "pattern": {
              "fillmode": "overlay",
              "size": 10,
              "solidity": 0.2
             }
            },
            "type": "barpolar"
           }
          ],
          "carpet": [
           {
            "aaxis": {
             "endlinecolor": "#2a3f5f",
             "gridcolor": "white",
             "linecolor": "white",
             "minorgridcolor": "white",
             "startlinecolor": "#2a3f5f"
            },
            "baxis": {
             "endlinecolor": "#2a3f5f",
             "gridcolor": "white",
             "linecolor": "white",
             "minorgridcolor": "white",
             "startlinecolor": "#2a3f5f"
            },
            "type": "carpet"
           }
          ],
          "choropleth": [
           {
            "colorbar": {
             "outlinewidth": 0,
             "ticks": ""
            },
            "type": "choropleth"
           }
          ],
          "contour": [
           {
            "colorbar": {
             "outlinewidth": 0,
             "ticks": ""
            },
            "colorscale": [
             [
              0,
              "#0d0887"
             ],
             [
              0.1111111111111111,
              "#46039f"
             ],
             [
              0.2222222222222222,
              "#7201a8"
             ],
             [
              0.3333333333333333,
              "#9c179e"
             ],
             [
              0.4444444444444444,
              "#bd3786"
             ],
             [
              0.5555555555555556,
              "#d8576b"
             ],
             [
              0.6666666666666666,
              "#ed7953"
             ],
             [
              0.7777777777777778,
              "#fb9f3a"
             ],
             [
              0.8888888888888888,
              "#fdca26"
             ],
             [
              1,
              "#f0f921"
             ]
            ],
            "type": "contour"
           }
          ],
          "contourcarpet": [
           {
            "colorbar": {
             "outlinewidth": 0,
             "ticks": ""
            },
            "type": "contourcarpet"
           }
          ],
          "heatmap": [
           {
            "colorbar": {
             "outlinewidth": 0,
             "ticks": ""
            },
            "colorscale": [
             [
              0,
              "#0d0887"
             ],
             [
              0.1111111111111111,
              "#46039f"
             ],
             [
              0.2222222222222222,
              "#7201a8"
             ],
             [
              0.3333333333333333,
              "#9c179e"
             ],
             [
              0.4444444444444444,
              "#bd3786"
             ],
             [
              0.5555555555555556,
              "#d8576b"
             ],
             [
              0.6666666666666666,
              "#ed7953"
             ],
             [
              0.7777777777777778,
              "#fb9f3a"
             ],
             [
              0.8888888888888888,
              "#fdca26"
             ],
             [
              1,
              "#f0f921"
             ]
            ],
            "type": "heatmap"
           }
          ],
          "heatmapgl": [
           {
            "colorbar": {
             "outlinewidth": 0,
             "ticks": ""
            },
            "colorscale": [
             [
              0,
              "#0d0887"
             ],
             [
              0.1111111111111111,
              "#46039f"
             ],
             [
              0.2222222222222222,
              "#7201a8"
             ],
             [
              0.3333333333333333,
              "#9c179e"
             ],
             [
              0.4444444444444444,
              "#bd3786"
             ],
             [
              0.5555555555555556,
              "#d8576b"
             ],
             [
              0.6666666666666666,
              "#ed7953"
             ],
             [
              0.7777777777777778,
              "#fb9f3a"
             ],
             [
              0.8888888888888888,
              "#fdca26"
             ],
             [
              1,
              "#f0f921"
             ]
            ],
            "type": "heatmapgl"
           }
          ],
          "histogram": [
           {
            "marker": {
             "pattern": {
              "fillmode": "overlay",
              "size": 10,
              "solidity": 0.2
             }
            },
            "type": "histogram"
           }
          ],
          "histogram2d": [
           {
            "colorbar": {
             "outlinewidth": 0,
             "ticks": ""
            },
            "colorscale": [
             [
              0,
              "#0d0887"
             ],
             [
              0.1111111111111111,
              "#46039f"
             ],
             [
              0.2222222222222222,
              "#7201a8"
             ],
             [
              0.3333333333333333,
              "#9c179e"
             ],
             [
              0.4444444444444444,
              "#bd3786"
             ],
             [
              0.5555555555555556,
              "#d8576b"
             ],
             [
              0.6666666666666666,
              "#ed7953"
             ],
             [
              0.7777777777777778,
              "#fb9f3a"
             ],
             [
              0.8888888888888888,
              "#fdca26"
             ],
             [
              1,
              "#f0f921"
             ]
            ],
            "type": "histogram2d"
           }
          ],
          "histogram2dcontour": [
           {
            "colorbar": {
             "outlinewidth": 0,
             "ticks": ""
            },
            "colorscale": [
             [
              0,
              "#0d0887"
             ],
             [
              0.1111111111111111,
              "#46039f"
             ],
             [
              0.2222222222222222,
              "#7201a8"
             ],
             [
              0.3333333333333333,
              "#9c179e"
             ],
             [
              0.4444444444444444,
              "#bd3786"
             ],
             [
              0.5555555555555556,
              "#d8576b"
             ],
             [
              0.6666666666666666,
              "#ed7953"
             ],
             [
              0.7777777777777778,
              "#fb9f3a"
             ],
             [
              0.8888888888888888,
              "#fdca26"
             ],
             [
              1,
              "#f0f921"
             ]
            ],
            "type": "histogram2dcontour"
           }
          ],
          "mesh3d": [
           {
            "colorbar": {
             "outlinewidth": 0,
             "ticks": ""
            },
            "type": "mesh3d"
           }
          ],
          "parcoords": [
           {
            "line": {
             "colorbar": {
              "outlinewidth": 0,
              "ticks": ""
             }
            },
            "type": "parcoords"
           }
          ],
          "pie": [
           {
            "automargin": true,
            "type": "pie"
           }
          ],
          "scatter": [
           {
            "fillpattern": {
             "fillmode": "overlay",
             "size": 10,
             "solidity": 0.2
            },
            "type": "scatter"
           }
          ],
          "scatter3d": [
           {
            "line": {
             "colorbar": {
              "outlinewidth": 0,
              "ticks": ""
             }
            },
            "marker": {
             "colorbar": {
              "outlinewidth": 0,
              "ticks": ""
             }
            },
            "type": "scatter3d"
           }
          ],
          "scattercarpet": [
           {
            "marker": {
             "colorbar": {
              "outlinewidth": 0,
              "ticks": ""
             }
            },
            "type": "scattercarpet"
           }
          ],
          "scattergeo": [
           {
            "marker": {
             "colorbar": {
              "outlinewidth": 0,
              "ticks": ""
             }
            },
            "type": "scattergeo"
           }
          ],
          "scattergl": [
           {
            "marker": {
             "colorbar": {
              "outlinewidth": 0,
              "ticks": ""
             }
            },
            "type": "scattergl"
           }
          ],
          "scattermapbox": [
           {
            "marker": {
             "colorbar": {
              "outlinewidth": 0,
              "ticks": ""
             }
            },
            "type": "scattermapbox"
           }
          ],
          "scatterpolar": [
           {
            "marker": {
             "colorbar": {
              "outlinewidth": 0,
              "ticks": ""
             }
            },
            "type": "scatterpolar"
           }
          ],
          "scatterpolargl": [
           {
            "marker": {
             "colorbar": {
              "outlinewidth": 0,
              "ticks": ""
             }
            },
            "type": "scatterpolargl"
           }
          ],
          "scatterternary": [
           {
            "marker": {
             "colorbar": {
              "outlinewidth": 0,
              "ticks": ""
             }
            },
            "type": "scatterternary"
           }
          ],
          "surface": [
           {
            "colorbar": {
             "outlinewidth": 0,
             "ticks": ""
            },
            "colorscale": [
             [
              0,
              "#0d0887"
             ],
             [
              0.1111111111111111,
              "#46039f"
             ],
             [
              0.2222222222222222,
              "#7201a8"
             ],
             [
              0.3333333333333333,
              "#9c179e"
             ],
             [
              0.4444444444444444,
              "#bd3786"
             ],
             [
              0.5555555555555556,
              "#d8576b"
             ],
             [
              0.6666666666666666,
              "#ed7953"
             ],
             [
              0.7777777777777778,
              "#fb9f3a"
             ],
             [
              0.8888888888888888,
              "#fdca26"
             ],
             [
              1,
              "#f0f921"
             ]
            ],
            "type": "surface"
           }
          ],
          "table": [
           {
            "cells": {
             "fill": {
              "color": "#EBF0F8"
             },
             "line": {
              "color": "white"
             }
            },
            "header": {
             "fill": {
              "color": "#C8D4E3"
             },
             "line": {
              "color": "white"
             }
            },
            "type": "table"
           }
          ]
         },
         "layout": {
          "annotationdefaults": {
           "arrowcolor": "#2a3f5f",
           "arrowhead": 0,
           "arrowwidth": 1
          },
          "autotypenumbers": "strict",
          "coloraxis": {
           "colorbar": {
            "outlinewidth": 0,
            "ticks": ""
           }
          },
          "colorscale": {
           "diverging": [
            [
             0,
             "#8e0152"
            ],
            [
             0.1,
             "#c51b7d"
            ],
            [
             0.2,
             "#de77ae"
            ],
            [
             0.3,
             "#f1b6da"
            ],
            [
             0.4,
             "#fde0ef"
            ],
            [
             0.5,
             "#f7f7f7"
            ],
            [
             0.6,
             "#e6f5d0"
            ],
            [
             0.7,
             "#b8e186"
            ],
            [
             0.8,
             "#7fbc41"
            ],
            [
             0.9,
             "#4d9221"
            ],
            [
             1,
             "#276419"
            ]
           ],
           "sequential": [
            [
             0,
             "#0d0887"
            ],
            [
             0.1111111111111111,
             "#46039f"
            ],
            [
             0.2222222222222222,
             "#7201a8"
            ],
            [
             0.3333333333333333,
             "#9c179e"
            ],
            [
             0.4444444444444444,
             "#bd3786"
            ],
            [
             0.5555555555555556,
             "#d8576b"
            ],
            [
             0.6666666666666666,
             "#ed7953"
            ],
            [
             0.7777777777777778,
             "#fb9f3a"
            ],
            [
             0.8888888888888888,
             "#fdca26"
            ],
            [
             1,
             "#f0f921"
            ]
           ],
           "sequentialminus": [
            [
             0,
             "#0d0887"
            ],
            [
             0.1111111111111111,
             "#46039f"
            ],
            [
             0.2222222222222222,
             "#7201a8"
            ],
            [
             0.3333333333333333,
             "#9c179e"
            ],
            [
             0.4444444444444444,
             "#bd3786"
            ],
            [
             0.5555555555555556,
             "#d8576b"
            ],
            [
             0.6666666666666666,
             "#ed7953"
            ],
            [
             0.7777777777777778,
             "#fb9f3a"
            ],
            [
             0.8888888888888888,
             "#fdca26"
            ],
            [
             1,
             "#f0f921"
            ]
           ]
          },
          "colorway": [
           "#636efa",
           "#EF553B",
           "#00cc96",
           "#ab63fa",
           "#FFA15A",
           "#19d3f3",
           "#FF6692",
           "#B6E880",
           "#FF97FF",
           "#FECB52"
          ],
          "font": {
           "color": "#2a3f5f"
          },
          "geo": {
           "bgcolor": "white",
           "lakecolor": "white",
           "landcolor": "#E5ECF6",
           "showlakes": true,
           "showland": true,
           "subunitcolor": "white"
          },
          "hoverlabel": {
           "align": "left"
          },
          "hovermode": "closest",
          "mapbox": {
           "style": "light"
          },
          "paper_bgcolor": "white",
          "plot_bgcolor": "#E5ECF6",
          "polar": {
           "angularaxis": {
            "gridcolor": "white",
            "linecolor": "white",
            "ticks": ""
           },
           "bgcolor": "#E5ECF6",
           "radialaxis": {
            "gridcolor": "white",
            "linecolor": "white",
            "ticks": ""
           }
          },
          "scene": {
           "xaxis": {
            "backgroundcolor": "#E5ECF6",
            "gridcolor": "white",
            "gridwidth": 2,
            "linecolor": "white",
            "showbackground": true,
            "ticks": "",
            "zerolinecolor": "white"
           },
           "yaxis": {
            "backgroundcolor": "#E5ECF6",
            "gridcolor": "white",
            "gridwidth": 2,
            "linecolor": "white",
            "showbackground": true,
            "ticks": "",
            "zerolinecolor": "white"
           },
           "zaxis": {
            "backgroundcolor": "#E5ECF6",
            "gridcolor": "white",
            "gridwidth": 2,
            "linecolor": "white",
            "showbackground": true,
            "ticks": "",
            "zerolinecolor": "white"
           }
          },
          "shapedefaults": {
           "line": {
            "color": "#2a3f5f"
           }
          },
          "ternary": {
           "aaxis": {
            "gridcolor": "white",
            "linecolor": "white",
            "ticks": ""
           },
           "baxis": {
            "gridcolor": "white",
            "linecolor": "white",
            "ticks": ""
           },
           "bgcolor": "#E5ECF6",
           "caxis": {
            "gridcolor": "white",
            "linecolor": "white",
            "ticks": ""
           }
          },
          "title": {
           "x": 0.05
          },
          "xaxis": {
           "automargin": true,
           "gridcolor": "white",
           "linecolor": "white",
           "ticks": "",
           "title": {
            "standoff": 15
           },
           "zerolinecolor": "white",
           "zerolinewidth": 2
          },
          "yaxis": {
           "automargin": true,
           "gridcolor": "white",
           "linecolor": "white",
           "ticks": "",
           "title": {
            "standoff": 15
           },
           "zerolinecolor": "white",
           "zerolinewidth": 2
          }
         }
        },
        "title": {
         "text": "Closing Price"
        },
        "xaxis": {
         "anchor": "y",
         "domain": [
          0,
          1
         ],
         "title": {
          "text": "Date"
         }
        },
        "yaxis": {
         "anchor": "x",
         "domain": [
          0,
          1
         ],
         "title": {
          "text": "Close"
         }
        }
       }
      }
     },
     "metadata": {},
     "output_type": "display_data"
    }
   ],
   "source": [
    "import plotly.express as px\n",
    "fig = px.line(during, x=\"Date\", y=\"Close\",  \n",
    "              title='Closing Price')\n",
    "fig.show()"
   ]
  },
  {
   "cell_type": "markdown",
   "metadata": {},
   "source": [
    "There seems to be a huge dip in the year of 2008, but a significant increase after that dip."
   ]
  },
  {
   "cell_type": "markdown",
   "metadata": {},
   "source": [
    "### 4. The right time to buy or sell the stock"
   ]
  },
  {
   "cell_type": "markdown",
   "metadata": {},
   "source": [
    "Now I have found that the year of 2008 is the year where the stock is at its lowest closing price, while also having the highest price. So, we will filter the data for the year of 2008:"
   ]
  },
  {
   "cell_type": "code",
   "execution_count": 288,
   "metadata": {},
   "outputs": [],
   "source": [
    "filtered_data2008 = during[during['year']==2008]"
   ]
  },
  {
   "cell_type": "markdown",
   "metadata": {},
   "source": [
    "And filter the specific quarter in which it has both the lowest and highest. In this case it's the 4th quarter"
   ]
  },
  {
   "cell_type": "code",
   "execution_count": 295,
   "metadata": {},
   "outputs": [],
   "source": [
    "filtered_data2008_quart4 = filtered_data2008[filtered_data2008['quarter']==4]"
   ]
  },
  {
   "cell_type": "code",
   "execution_count": null,
   "metadata": {},
   "outputs": [
    {
     "data": {
      "application/vnd.plotly.v1+json": {
       "config": {
        "plotlyServerURL": "https://plot.ly"
       },
       "data": [
        {
         "close": [
          82.314,
          82.628,
          83.261,
          83.285,
          81.555,
          79.928,
          80.111,
          74.626,
          77.522,
          79.145,
          80.416,
          79.154,
          79.436,
          80.858,
          81.555,
          82.506,
          81.057,
          80.373,
          79.568,
          79.85,
          81.366,
          81.271,
          81.014,
          79.391,
          80.667,
          81.889,
          81.547,
          81.964,
          81.441,
          82.054,
          81.349,
          81.624,
          81.873,
          82.09,
          81.972,
          82.21,
          82.227,
          81.564,
          81.555,
          83.596,
          83.276,
          83.111,
          83.944,
          84.028,
          84.037,
          84.319,
          83.855,
          83.741,
          84.53,
          84.377,
          84.816,
          84.833,
          85.037,
          85.372,
          85.832,
          86.374,
          86.095,
          86.559,
          87.405,
          87.82,
          87.528,
          87.878,
          87.905,
          87.973
         ],
         "high": [
          83.395,
          83.087,
          83.261,
          83.961,
          83.243,
          81.857,
          80.516,
          77.664,
          78.984,
          80.416,
          80.884,
          80.875,
          81.014,
          81.184,
          82.072,
          82.735,
          82.707,
          81.342,
          80.924,
          80.408,
          81.463,
          81.342,
          81.306,
          81.04,
          80.867,
          81.889,
          82.306,
          82.006,
          82.236,
          82.21,
          82.406,
          82.021,
          81.889,
          82.09,
          82.227,
          82.638,
          82.683,
          82.611,
          82.531,
          83.68,
          84.23,
          83.803,
          83.988,
          84.156,
          84.088,
          84.319,
          84.399,
          84.275,
          84.53,
          84.552,
          84.816,
          84.968,
          85.037,
          85.372,
          86.189,
          86.5,
          86.374,
          86.568,
          87.413,
          87.963,
          87.991,
          87.963,
          88.1,
          88.083
         ],
         "low": [
          79.782,
          81.823,
          81.771,
          80.667,
          81.479,
          78.552,
          78.428,
          73.282,
          75.98,
          78.172,
          78.333,
          78.927,
          78.095,
          79.702,
          79.866,
          81.676,
          80.635,
          80.111,
          79.104,
          79.145,
          79.936,
          80.516,
          80.299,
          78.945,
          79.808,
          81.211,
          81.316,
          80.4,
          80.976,
          81.005,
          81.074,
          81.184,
          81.324,
          81.564,
          81.857,
          82.14,
          82.021,
          81.4,
          81.081,
          82.453,
          82.978,
          82.822,
          83.094,
          83.462,
          83.497,
          83.596,
          82.628,
          83.579,
          83.757,
          84.104,
          84.206,
          84.173,
          84.578,
          84.683,
          85.274,
          85.372,
          85.688,
          86.095,
          86.23,
          87.1,
          87.362,
          86.983,
          87.421,
          87.413
         ],
         "open": [
          82.647,
          82.271,
          82.92,
          83.261,
          83.079,
          81.193,
          79.799,
          77.078,
          76.312,
          78.199,
          79.712,
          80.416,
          78.833,
          80.111,
          81.391,
          82.114,
          82.707,
          81.175,
          79.951,
          79.951,
          80.382,
          81.342,
          80.658,
          81.04,
          80.342,
          81.747,
          82.306,
          81.78,
          82.131,
          81.005,
          82.38,
          81.616,
          81.889,
          81.814,
          81.946,
          82.28,
          82.647,
          82.227,
          81.981,
          82.514,
          83.749,
          83.523,
          83.565,
          83.588,
          84.088,
          84.104,
          84.011,
          84.275,
          84.215,
          84.13,
          84.596,
          84.925,
          84.791,
          84.706,
          85.908,
          86.033,
          86.05,
          86.365,
          86.356,
          87.194,
          87.887,
          86.983,
          87.519,
          88.009
         ],
         "type": "candlestick",
         "x": [
          "2008-10-01T00:00:00",
          "2008-10-02T00:00:00",
          "2008-10-03T00:00:00",
          "2008-10-06T00:00:00",
          "2008-10-07T00:00:00",
          "2008-10-08T00:00:00",
          "2008-10-09T00:00:00",
          "2008-10-10T00:00:00",
          "2008-10-13T00:00:00",
          "2008-10-14T00:00:00",
          "2008-10-15T00:00:00",
          "2008-10-16T00:00:00",
          "2008-10-17T00:00:00",
          "2008-10-20T00:00:00",
          "2008-10-21T00:00:00",
          "2008-10-22T00:00:00",
          "2008-10-23T00:00:00",
          "2008-10-24T00:00:00",
          "2008-10-27T00:00:00",
          "2008-10-28T00:00:00",
          "2008-10-29T00:00:00",
          "2008-10-30T00:00:00",
          "2008-10-31T00:00:00",
          "2008-11-03T00:00:00",
          "2008-11-04T00:00:00",
          "2008-11-05T00:00:00",
          "2008-11-06T00:00:00",
          "2008-11-07T00:00:00",
          "2008-11-10T00:00:00",
          "2008-11-11T00:00:00",
          "2008-11-12T00:00:00",
          "2008-11-13T00:00:00",
          "2008-11-14T00:00:00",
          "2008-11-17T00:00:00",
          "2008-11-18T00:00:00",
          "2008-11-19T00:00:00",
          "2008-11-20T00:00:00",
          "2008-11-21T00:00:00",
          "2008-11-24T00:00:00",
          "2008-11-25T00:00:00",
          "2008-11-26T00:00:00",
          "2008-11-28T00:00:00",
          "2008-12-01T00:00:00",
          "2008-12-02T00:00:00",
          "2008-12-03T00:00:00",
          "2008-12-04T00:00:00",
          "2008-12-05T00:00:00",
          "2008-12-08T00:00:00",
          "2008-12-09T00:00:00",
          "2008-12-10T00:00:00",
          "2008-12-11T00:00:00",
          "2008-12-12T00:00:00",
          "2008-12-15T00:00:00",
          "2008-12-16T00:00:00",
          "2008-12-17T00:00:00",
          "2008-12-18T00:00:00",
          "2008-12-19T00:00:00",
          "2008-12-22T00:00:00",
          "2008-12-23T00:00:00",
          "2008-12-24T00:00:00",
          "2008-12-26T00:00:00",
          "2008-12-29T00:00:00",
          "2008-12-30T00:00:00",
          "2008-12-31T00:00:00"
         ]
        }
       ],
       "layout": {
        "template": {
         "data": {
          "bar": [
           {
            "error_x": {
             "color": "#2a3f5f"
            },
            "error_y": {
             "color": "#2a3f5f"
            },
            "marker": {
             "line": {
              "color": "#E5ECF6",
              "width": 0.5
             },
             "pattern": {
              "fillmode": "overlay",
              "size": 10,
              "solidity": 0.2
             }
            },
            "type": "bar"
           }
          ],
          "barpolar": [
           {
            "marker": {
             "line": {
              "color": "#E5ECF6",
              "width": 0.5
             },
             "pattern": {
              "fillmode": "overlay",
              "size": 10,
              "solidity": 0.2
             }
            },
            "type": "barpolar"
           }
          ],
          "carpet": [
           {
            "aaxis": {
             "endlinecolor": "#2a3f5f",
             "gridcolor": "white",
             "linecolor": "white",
             "minorgridcolor": "white",
             "startlinecolor": "#2a3f5f"
            },
            "baxis": {
             "endlinecolor": "#2a3f5f",
             "gridcolor": "white",
             "linecolor": "white",
             "minorgridcolor": "white",
             "startlinecolor": "#2a3f5f"
            },
            "type": "carpet"
           }
          ],
          "choropleth": [
           {
            "colorbar": {
             "outlinewidth": 0,
             "ticks": ""
            },
            "type": "choropleth"
           }
          ],
          "contour": [
           {
            "colorbar": {
             "outlinewidth": 0,
             "ticks": ""
            },
            "colorscale": [
             [
              0,
              "#0d0887"
             ],
             [
              0.1111111111111111,
              "#46039f"
             ],
             [
              0.2222222222222222,
              "#7201a8"
             ],
             [
              0.3333333333333333,
              "#9c179e"
             ],
             [
              0.4444444444444444,
              "#bd3786"
             ],
             [
              0.5555555555555556,
              "#d8576b"
             ],
             [
              0.6666666666666666,
              "#ed7953"
             ],
             [
              0.7777777777777778,
              "#fb9f3a"
             ],
             [
              0.8888888888888888,
              "#fdca26"
             ],
             [
              1,
              "#f0f921"
             ]
            ],
            "type": "contour"
           }
          ],
          "contourcarpet": [
           {
            "colorbar": {
             "outlinewidth": 0,
             "ticks": ""
            },
            "type": "contourcarpet"
           }
          ],
          "heatmap": [
           {
            "colorbar": {
             "outlinewidth": 0,
             "ticks": ""
            },
            "colorscale": [
             [
              0,
              "#0d0887"
             ],
             [
              0.1111111111111111,
              "#46039f"
             ],
             [
              0.2222222222222222,
              "#7201a8"
             ],
             [
              0.3333333333333333,
              "#9c179e"
             ],
             [
              0.4444444444444444,
              "#bd3786"
             ],
             [
              0.5555555555555556,
              "#d8576b"
             ],
             [
              0.6666666666666666,
              "#ed7953"
             ],
             [
              0.7777777777777778,
              "#fb9f3a"
             ],
             [
              0.8888888888888888,
              "#fdca26"
             ],
             [
              1,
              "#f0f921"
             ]
            ],
            "type": "heatmap"
           }
          ],
          "heatmapgl": [
           {
            "colorbar": {
             "outlinewidth": 0,
             "ticks": ""
            },
            "colorscale": [
             [
              0,
              "#0d0887"
             ],
             [
              0.1111111111111111,
              "#46039f"
             ],
             [
              0.2222222222222222,
              "#7201a8"
             ],
             [
              0.3333333333333333,
              "#9c179e"
             ],
             [
              0.4444444444444444,
              "#bd3786"
             ],
             [
              0.5555555555555556,
              "#d8576b"
             ],
             [
              0.6666666666666666,
              "#ed7953"
             ],
             [
              0.7777777777777778,
              "#fb9f3a"
             ],
             [
              0.8888888888888888,
              "#fdca26"
             ],
             [
              1,
              "#f0f921"
             ]
            ],
            "type": "heatmapgl"
           }
          ],
          "histogram": [
           {
            "marker": {
             "pattern": {
              "fillmode": "overlay",
              "size": 10,
              "solidity": 0.2
             }
            },
            "type": "histogram"
           }
          ],
          "histogram2d": [
           {
            "colorbar": {
             "outlinewidth": 0,
             "ticks": ""
            },
            "colorscale": [
             [
              0,
              "#0d0887"
             ],
             [
              0.1111111111111111,
              "#46039f"
             ],
             [
              0.2222222222222222,
              "#7201a8"
             ],
             [
              0.3333333333333333,
              "#9c179e"
             ],
             [
              0.4444444444444444,
              "#bd3786"
             ],
             [
              0.5555555555555556,
              "#d8576b"
             ],
             [
              0.6666666666666666,
              "#ed7953"
             ],
             [
              0.7777777777777778,
              "#fb9f3a"
             ],
             [
              0.8888888888888888,
              "#fdca26"
             ],
             [
              1,
              "#f0f921"
             ]
            ],
            "type": "histogram2d"
           }
          ],
          "histogram2dcontour": [
           {
            "colorbar": {
             "outlinewidth": 0,
             "ticks": ""
            },
            "colorscale": [
             [
              0,
              "#0d0887"
             ],
             [
              0.1111111111111111,
              "#46039f"
             ],
             [
              0.2222222222222222,
              "#7201a8"
             ],
             [
              0.3333333333333333,
              "#9c179e"
             ],
             [
              0.4444444444444444,
              "#bd3786"
             ],
             [
              0.5555555555555556,
              "#d8576b"
             ],
             [
              0.6666666666666666,
              "#ed7953"
             ],
             [
              0.7777777777777778,
              "#fb9f3a"
             ],
             [
              0.8888888888888888,
              "#fdca26"
             ],
             [
              1,
              "#f0f921"
             ]
            ],
            "type": "histogram2dcontour"
           }
          ],
          "mesh3d": [
           {
            "colorbar": {
             "outlinewidth": 0,
             "ticks": ""
            },
            "type": "mesh3d"
           }
          ],
          "parcoords": [
           {
            "line": {
             "colorbar": {
              "outlinewidth": 0,
              "ticks": ""
             }
            },
            "type": "parcoords"
           }
          ],
          "pie": [
           {
            "automargin": true,
            "type": "pie"
           }
          ],
          "scatter": [
           {
            "fillpattern": {
             "fillmode": "overlay",
             "size": 10,
             "solidity": 0.2
            },
            "type": "scatter"
           }
          ],
          "scatter3d": [
           {
            "line": {
             "colorbar": {
              "outlinewidth": 0,
              "ticks": ""
             }
            },
            "marker": {
             "colorbar": {
              "outlinewidth": 0,
              "ticks": ""
             }
            },
            "type": "scatter3d"
           }
          ],
          "scattercarpet": [
           {
            "marker": {
             "colorbar": {
              "outlinewidth": 0,
              "ticks": ""
             }
            },
            "type": "scattercarpet"
           }
          ],
          "scattergeo": [
           {
            "marker": {
             "colorbar": {
              "outlinewidth": 0,
              "ticks": ""
             }
            },
            "type": "scattergeo"
           }
          ],
          "scattergl": [
           {
            "marker": {
             "colorbar": {
              "outlinewidth": 0,
              "ticks": ""
             }
            },
            "type": "scattergl"
           }
          ],
          "scattermapbox": [
           {
            "marker": {
             "colorbar": {
              "outlinewidth": 0,
              "ticks": ""
             }
            },
            "type": "scattermapbox"
           }
          ],
          "scatterpolar": [
           {
            "marker": {
             "colorbar": {
              "outlinewidth": 0,
              "ticks": ""
             }
            },
            "type": "scatterpolar"
           }
          ],
          "scatterpolargl": [
           {
            "marker": {
             "colorbar": {
              "outlinewidth": 0,
              "ticks": ""
             }
            },
            "type": "scatterpolargl"
           }
          ],
          "scatterternary": [
           {
            "marker": {
             "colorbar": {
              "outlinewidth": 0,
              "ticks": ""
             }
            },
            "type": "scatterternary"
           }
          ],
          "surface": [
           {
            "colorbar": {
             "outlinewidth": 0,
             "ticks": ""
            },
            "colorscale": [
             [
              0,
              "#0d0887"
             ],
             [
              0.1111111111111111,
              "#46039f"
             ],
             [
              0.2222222222222222,
              "#7201a8"
             ],
             [
              0.3333333333333333,
              "#9c179e"
             ],
             [
              0.4444444444444444,
              "#bd3786"
             ],
             [
              0.5555555555555556,
              "#d8576b"
             ],
             [
              0.6666666666666666,
              "#ed7953"
             ],
             [
              0.7777777777777778,
              "#fb9f3a"
             ],
             [
              0.8888888888888888,
              "#fdca26"
             ],
             [
              1,
              "#f0f921"
             ]
            ],
            "type": "surface"
           }
          ],
          "table": [
           {
            "cells": {
             "fill": {
              "color": "#EBF0F8"
             },
             "line": {
              "color": "white"
             }
            },
            "header": {
             "fill": {
              "color": "#C8D4E3"
             },
             "line": {
              "color": "white"
             }
            },
            "type": "table"
           }
          ]
         },
         "layout": {
          "annotationdefaults": {
           "arrowcolor": "#2a3f5f",
           "arrowhead": 0,
           "arrowwidth": 1
          },
          "autotypenumbers": "strict",
          "coloraxis": {
           "colorbar": {
            "outlinewidth": 0,
            "ticks": ""
           }
          },
          "colorscale": {
           "diverging": [
            [
             0,
             "#8e0152"
            ],
            [
             0.1,
             "#c51b7d"
            ],
            [
             0.2,
             "#de77ae"
            ],
            [
             0.3,
             "#f1b6da"
            ],
            [
             0.4,
             "#fde0ef"
            ],
            [
             0.5,
             "#f7f7f7"
            ],
            [
             0.6,
             "#e6f5d0"
            ],
            [
             0.7,
             "#b8e186"
            ],
            [
             0.8,
             "#7fbc41"
            ],
            [
             0.9,
             "#4d9221"
            ],
            [
             1,
             "#276419"
            ]
           ],
           "sequential": [
            [
             0,
             "#0d0887"
            ],
            [
             0.1111111111111111,
             "#46039f"
            ],
            [
             0.2222222222222222,
             "#7201a8"
            ],
            [
             0.3333333333333333,
             "#9c179e"
            ],
            [
             0.4444444444444444,
             "#bd3786"
            ],
            [
             0.5555555555555556,
             "#d8576b"
            ],
            [
             0.6666666666666666,
             "#ed7953"
            ],
            [
             0.7777777777777778,
             "#fb9f3a"
            ],
            [
             0.8888888888888888,
             "#fdca26"
            ],
            [
             1,
             "#f0f921"
            ]
           ],
           "sequentialminus": [
            [
             0,
             "#0d0887"
            ],
            [
             0.1111111111111111,
             "#46039f"
            ],
            [
             0.2222222222222222,
             "#7201a8"
            ],
            [
             0.3333333333333333,
             "#9c179e"
            ],
            [
             0.4444444444444444,
             "#bd3786"
            ],
            [
             0.5555555555555556,
             "#d8576b"
            ],
            [
             0.6666666666666666,
             "#ed7953"
            ],
            [
             0.7777777777777778,
             "#fb9f3a"
            ],
            [
             0.8888888888888888,
             "#fdca26"
            ],
            [
             1,
             "#f0f921"
            ]
           ]
          },
          "colorway": [
           "#636efa",
           "#EF553B",
           "#00cc96",
           "#ab63fa",
           "#FFA15A",
           "#19d3f3",
           "#FF6692",
           "#B6E880",
           "#FF97FF",
           "#FECB52"
          ],
          "font": {
           "color": "#2a3f5f"
          },
          "geo": {
           "bgcolor": "white",
           "lakecolor": "white",
           "landcolor": "#E5ECF6",
           "showlakes": true,
           "showland": true,
           "subunitcolor": "white"
          },
          "hoverlabel": {
           "align": "left"
          },
          "hovermode": "closest",
          "mapbox": {
           "style": "light"
          },
          "paper_bgcolor": "white",
          "plot_bgcolor": "#E5ECF6",
          "polar": {
           "angularaxis": {
            "gridcolor": "white",
            "linecolor": "white",
            "ticks": ""
           },
           "bgcolor": "#E5ECF6",
           "radialaxis": {
            "gridcolor": "white",
            "linecolor": "white",
            "ticks": ""
           }
          },
          "scene": {
           "xaxis": {
            "backgroundcolor": "#E5ECF6",
            "gridcolor": "white",
            "gridwidth": 2,
            "linecolor": "white",
            "showbackground": true,
            "ticks": "",
            "zerolinecolor": "white"
           },
           "yaxis": {
            "backgroundcolor": "#E5ECF6",
            "gridcolor": "white",
            "gridwidth": 2,
            "linecolor": "white",
            "showbackground": true,
            "ticks": "",
            "zerolinecolor": "white"
           },
           "zaxis": {
            "backgroundcolor": "#E5ECF6",
            "gridcolor": "white",
            "gridwidth": 2,
            "linecolor": "white",
            "showbackground": true,
            "ticks": "",
            "zerolinecolor": "white"
           }
          },
          "shapedefaults": {
           "line": {
            "color": "#2a3f5f"
           }
          },
          "ternary": {
           "aaxis": {
            "gridcolor": "white",
            "linecolor": "white",
            "ticks": ""
           },
           "baxis": {
            "gridcolor": "white",
            "linecolor": "white",
            "ticks": ""
           },
           "bgcolor": "#E5ECF6",
           "caxis": {
            "gridcolor": "white",
            "linecolor": "white",
            "ticks": ""
           }
          },
          "title": {
           "x": 0.05
          },
          "xaxis": {
           "automargin": true,
           "gridcolor": "white",
           "linecolor": "white",
           "ticks": "",
           "title": {
            "standoff": 15
           },
           "zerolinecolor": "white",
           "zerolinewidth": 2
          },
          "yaxis": {
           "automargin": true,
           "gridcolor": "white",
           "linecolor": "white",
           "ticks": "",
           "title": {
            "standoff": 15
           },
           "zerolinecolor": "white",
           "zerolinewidth": 2
          }
         }
        },
        "xaxis": {
         "rangeslider": {
          "visible": false
         }
        }
       }
      }
     },
     "metadata": {},
     "output_type": "display_data"
    }
   ],
   "source": [
    "import plotly.graph_objects as go\n",
    "\n",
    "fig = go.Figure(data=[go.Candlestick(x=filtered_data2008_quart4['Date'],\n",
    "                open=filtered_data2008_quart4['Open'],\n",
    "                high=filtered_data2008_quart4['High'],\n",
    "                low=filtered_data2008_quart4['Low'],\n",
    "                close=filtered_data2008_quart4['Close'])])\n",
    "\n",
    "fig.update_layout(xaxis_rangeslider_visible=False)\n",
    "fig.show()"
   ]
  },
  {
   "cell_type": "markdown",
   "metadata": {},
   "source": [
    "As we can see here, the best time to invest is specifically on 4th quartile of year 2008"
   ]
  },
  {
   "cell_type": "markdown",
   "metadata": {},
   "source": [
    "### 5. Prices 2 years after crisis"
   ]
  },
  {
   "cell_type": "markdown",
   "metadata": {},
   "source": [
    "Now, we want to graph out the prices 2 years after the crisis\n"
   ]
  },
  {
   "cell_type": "code",
   "execution_count": 262,
   "metadata": {},
   "outputs": [
    {
     "name": "stdout",
     "output_type": "stream",
     "text": [
      "count    504.000000\n",
      "mean      88.187899\n",
      "std        2.076451\n",
      "min       84.257000\n",
      "25%       86.444000\n",
      "50%       88.143000\n",
      "75%       89.409500\n",
      "max       92.201000\n",
      "Name: Close, dtype: float64\n",
      "Skewness: 0.16744906709890744\n",
      "Kurtosis: -0.8327217364485233\n"
     ]
    },
    {
     "data": {
      "text/plain": [
       "<Axes: >"
      ]
     },
     "execution_count": 262,
     "metadata": {},
     "output_type": "execute_result"
    },
    {
     "data": {
      "image/png": "[encoded data removed]",
      "text/plain": [
       "<Figure size 1000x400 with 2 Axes>"
      ]
     },
     "metadata": {},
     "output_type": "display_data"
    }
   ],
   "source": [
    "print(after['Close'].describe())\n",
    "print(\"Skewness:\", after['Close'].skew())\n",
    "print(\"Kurtosis:\", after['Close'].kurtosis())\n",
    "\n",
    "fig, ax = plt.subplots(ncols=2,figsize=(10,4))\n",
    "\n",
    "after['Close'].plot(kind='hist',bins=20,ax=ax[0])\n",
    "after['Close'].plot(kind='box',ax=ax[1])"
   ]
  },
  {
   "cell_type": "markdown",
   "metadata": {},
   "source": [
    "Distribution wise, the data is fairly distributed."
   ]
  },
  {
   "cell_type": "code",
   "execution_count": 263,
   "metadata": {},
   "outputs": [
    {
     "data": {
      "application/vnd.plotly.v1+json": {
       "config": {
        "plotlyServerURL": "https://plot.ly"
       },
       "data": [
        {
         "hovertemplate": "Date=%{x}<br>Close=%{y}<extra></extra>",
         "legendgroup": "",
         "line": {
          "color": "#636efa",
          "dash": "solid"
         },
         "marker": {
          "symbol": "circle"
         },
         "mode": "lines",
         "name": "",
         "orientation": "v",
         "showlegend": false,
         "type": "scatter",
         "x": [
          "2009-01-02T00:00:00",
          "2009-01-05T00:00:00",
          "2009-01-06T00:00:00",
          "2009-01-07T00:00:00",
          "2009-01-08T00:00:00",
          "2009-01-09T00:00:00",
          "2009-01-12T00:00:00",
          "2009-01-13T00:00:00",
          "2009-01-14T00:00:00",
          "2009-01-15T00:00:00",
          "2009-01-16T00:00:00",
          "2009-01-20T00:00:00",
          "2009-01-21T00:00:00",
          "2009-01-22T00:00:00",
          "2009-01-23T00:00:00",
          "2009-01-26T00:00:00",
          "2009-01-27T00:00:00",
          "2009-01-28T00:00:00",
          "2009-01-29T00:00:00",
          "2009-01-30T00:00:00",
          "2009-02-02T00:00:00",
          "2009-02-03T00:00:00",
          "2009-02-04T00:00:00",
          "2009-02-05T00:00:00",
          "2009-02-06T00:00:00",
          "2009-02-09T00:00:00",
          "2009-02-10T00:00:00",
          "2009-02-11T00:00:00",
          "2009-02-12T00:00:00",
          "2009-02-13T00:00:00",
          "2009-02-17T00:00:00",
          "2009-02-18T00:00:00",
          "2009-02-19T00:00:00",
          "2009-02-20T00:00:00",
          "2009-02-23T00:00:00",
          "2009-02-24T00:00:00",
          "2009-02-25T00:00:00",
          "2009-02-26T00:00:00",
          "2009-02-27T00:00:00",
          "2009-03-02T00:00:00",
          "2009-03-03T00:00:00",
          "2009-03-04T00:00:00",
          "2009-03-05T00:00:00",
          "2009-03-06T00:00:00",
          "2009-03-09T00:00:00",
          "2009-03-10T00:00:00",
          "2009-03-11T00:00:00",
          "2009-03-12T00:00:00",
          "2009-03-13T00:00:00",
          "2009-03-16T00:00:00",
          "2009-03-17T00:00:00",
          "2009-03-18T00:00:00",
          "2009-03-19T00:00:00",
          "2009-03-20T00:00:00",
          "2009-03-23T00:00:00",
          "2009-03-24T00:00:00",
          "2009-03-25T00:00:00",
          "2009-03-26T00:00:00",
          "2009-03-27T00:00:00",
          "2009-03-30T00:00:00",
          "2009-03-31T00:00:00",
          "2009-04-01T00:00:00",
          "2009-04-02T00:00:00",
          "2009-04-03T00:00:00",
          "2009-04-06T00:00:00",
          "2009-04-07T00:00:00",
          "2009-04-08T00:00:00",
          "2009-04-09T00:00:00",
          "2009-04-13T00:00:00",
          "2009-04-14T00:00:00",
          "2009-04-15T00:00:00",
          "2009-04-16T00:00:00",
          "2009-04-17T00:00:00",
          "2009-04-20T00:00:00",
          "2009-04-21T00:00:00",
          "2009-04-22T00:00:00",
          "2009-04-23T00:00:00",
          "2009-04-24T00:00:00",
          "2009-04-27T00:00:00",
          "2009-04-28T00:00:00",
          "2009-04-29T00:00:00",
          "2009-04-30T00:00:00",
          "2009-05-01T00:00:00",
          "2009-05-04T00:00:00",
          "2009-05-05T00:00:00",
          "2009-05-06T00:00:00",
          "2009-05-07T00:00:00",
          "2009-05-08T00:00:00",
          "2009-05-11T00:00:00",
          "2009-05-12T00:00:00",
          "2009-05-13T00:00:00",
          "2009-05-14T00:00:00",
          "2009-05-15T00:00:00",
          "2009-05-18T00:00:00",
          "2009-05-19T00:00:00",
          "2009-05-20T00:00:00",
          "2009-05-21T00:00:00",
          "2009-05-22T00:00:00",
          "2009-05-26T00:00:00",
          "2009-05-27T00:00:00",
          "2009-05-28T00:00:00",
          "2009-05-29T00:00:00",
          "2009-06-01T00:00:00",
          "2009-06-02T00:00:00",
          "2009-06-03T00:00:00",
          "2009-06-04T00:00:00",
          "2009-06-05T00:00:00",
          "2009-06-08T00:00:00",
          "2009-06-09T00:00:00",
          "2009-06-10T00:00:00",
          "2009-06-11T00:00:00",
          "2009-06-12T00:00:00",
          "2009-06-15T00:00:00",
          "2009-06-16T00:00:00",
          "2009-06-17T00:00:00",
          "2009-06-18T00:00:00",
          "2009-06-19T00:00:00",
          "2009-06-22T00:00:00",
          "2009-06-23T00:00:00",
          "2009-06-24T00:00:00",
          "2009-06-25T00:00:00",
          "2009-06-26T00:00:00",
          "2009-06-29T00:00:00",
          "2009-06-30T00:00:00",
          "2009-07-01T00:00:00",
          "2009-07-02T00:00:00",
          "2009-07-06T00:00:00",
          "2009-07-07T00:00:00",
          "2009-07-08T00:00:00",
          "2009-07-09T00:00:00",
          "2009-07-10T00:00:00",
          "2009-07-13T00:00:00",
          "2009-07-14T00:00:00",
          "2009-07-15T00:00:00",
          "2009-07-16T00:00:00",
          "2009-07-17T00:00:00",
          "2009-07-20T00:00:00",
          "2009-07-21T00:00:00",
          "2009-07-22T00:00:00",
          "2009-07-23T00:00:00",
          "2009-07-24T00:00:00",
          "2009-07-27T00:00:00",
          "2009-07-28T00:00:00",
          "2009-07-29T00:00:00",
          "2009-07-30T00:00:00",
          "2009-07-31T00:00:00",
          "2009-08-03T00:00:00",
          "2009-08-04T00:00:00",
          "2009-08-05T00:00:00",
          "2009-08-06T00:00:00",
          "2009-08-07T00:00:00",
          "2009-08-10T00:00:00",
          "2009-08-11T00:00:00",
          "2009-08-12T00:00:00",
          "2009-08-13T00:00:00",
          "2009-08-14T00:00:00",
          "2009-08-17T00:00:00",
          "2009-08-18T00:00:00",
          "2009-08-19T00:00:00",
          "2009-08-20T00:00:00",
          "2009-08-21T00:00:00",
          "2009-08-24T00:00:00",
          "2009-08-25T00:00:00",
          "2009-08-26T00:00:00",
          "2009-08-27T00:00:00",
          "2009-08-28T00:00:00",
          "2009-08-31T00:00:00",
          "2009-09-01T00:00:00",
          "2009-09-02T00:00:00",
          "2009-09-03T00:00:00",
          "2009-09-04T00:00:00",
          "2009-09-08T00:00:00",
          "2009-09-09T00:00:00",
          "2009-09-10T00:00:00",
          "2009-09-11T00:00:00",
          "2009-09-14T00:00:00",
          "2009-09-15T00:00:00",
          "2009-09-16T00:00:00",
          "2009-09-17T00:00:00",
          "2009-09-18T00:00:00",
          "2009-09-21T00:00:00",
          "2009-09-22T00:00:00",
          "2009-09-23T00:00:00",
          "2009-09-24T00:00:00",
          "2009-09-25T00:00:00",
          "2009-09-28T00:00:00",
          "2009-09-29T00:00:00",
          "2009-09-30T00:00:00",
          "2009-10-01T00:00:00",
          "2009-10-02T00:00:00",
          "2009-10-05T00:00:00",
          "2009-10-06T00:00:00",
          "2009-10-07T00:00:00",
          "2009-10-08T00:00:00",
          "2009-10-09T00:00:00",
          "2009-10-12T00:00:00",
          "2009-10-13T00:00:00",
          "2009-10-14T00:00:00",
          "2009-10-15T00:00:00",
          "2009-10-16T00:00:00",
          "2009-10-19T00:00:00",
          "2009-10-20T00:00:00",
          "2009-10-21T00:00:00",
          "2009-10-22T00:00:00",
          "2009-10-23T00:00:00",
          "2009-10-26T00:00:00",
          "2009-10-27T00:00:00",
          "2009-10-28T00:00:00",
          "2009-10-29T00:00:00",
          "2009-10-30T00:00:00",
          "2009-11-02T00:00:00",
          "2009-11-03T00:00:00",
          "2009-11-04T00:00:00",
          "2009-11-05T00:00:00",
          "2009-11-06T00:00:00",
          "2009-11-09T00:00:00",
          "2009-11-10T00:00:00",
          "2009-11-11T00:00:00",
          "2009-11-12T00:00:00",
          "2009-11-13T00:00:00",
          "2009-11-16T00:00:00",
          "2009-11-17T00:00:00",
          "2009-11-18T00:00:00",
          "2009-11-19T00:00:00",
          "2009-11-20T00:00:00",
          "2009-11-23T00:00:00",
          "2009-11-24T00:00:00",
          "2009-11-25T00:00:00",
          "2009-11-27T00:00:00",
          "2009-11-30T00:00:00",
          "2009-12-01T00:00:00",
          "2009-12-02T00:00:00",
          "2009-12-03T00:00:00",
          "2009-12-04T00:00:00",
          "2009-12-07T00:00:00",
          "2009-12-08T00:00:00",
          "2009-12-09T00:00:00",
          "2009-12-10T00:00:00",
          "2009-12-11T00:00:00",
          "2009-12-14T00:00:00",
          "2009-12-15T00:00:00",
          "2009-12-16T00:00:00",
          "2009-12-17T00:00:00",
          "2009-12-18T00:00:00",
          "2009-12-21T00:00:00",
          "2009-12-22T00:00:00",
          "2009-12-23T00:00:00",
          "2009-12-24T00:00:00",
          "2009-12-28T00:00:00",
          "2009-12-29T00:00:00",
          "2009-12-30T00:00:00",
          "2009-12-31T00:00:00",
          "2010-01-04T00:00:00",
          "2010-01-05T00:00:00",
          "2010-01-06T00:00:00",
          "2010-01-07T00:00:00",
          "2010-01-08T00:00:00",
          "2010-01-11T00:00:00",
          "2010-01-12T00:00:00",
          "2010-01-13T00:00:00",
          "2010-01-14T00:00:00",
          "2010-01-15T00:00:00",
          "2010-01-19T00:00:00",
          "2010-01-20T00:00:00",
          "2010-01-21T00:00:00",
          "2010-01-22T00:00:00",
          "2010-01-25T00:00:00",
          "2010-01-26T00:00:00",
          "2010-01-27T00:00:00",
          "2010-01-28T00:00:00",
          "2010-01-29T00:00:00",
          "2010-02-01T00:00:00",
          "2010-02-02T00:00:00",
          "2010-02-03T00:00:00",
          "2010-02-04T00:00:00",
          "2010-02-05T00:00:00",
          "2010-02-08T00:00:00",
          "2010-02-09T00:00:00",
          "2010-02-10T00:00:00",
          "2010-02-11T00:00:00",
          "2010-02-12T00:00:00",
          "2010-02-16T00:00:00",
          "2010-02-17T00:00:00",
          "2010-02-18T00:00:00",
          "2010-02-19T00:00:00",
          "2010-02-22T00:00:00",
          "2010-02-23T00:00:00",
          "2010-02-24T00:00:00",
          "2010-02-25T00:00:00",
          "2010-02-26T00:00:00",
          "2010-03-01T00:00:00",
          "2010-03-02T00:00:00",
          "2010-03-03T00:00:00",
          "2010-03-04T00:00:00",
          "2010-03-05T00:00:00",
          "2010-03-08T00:00:00",
          "2010-03-09T00:00:00",
          "2010-03-10T00:00:00",
          "2010-03-11T00:00:00",
          "2010-03-12T00:00:00",
          "2010-03-15T00:00:00",
          "2010-03-16T00:00:00",
          "2010-03-17T00:00:00",
          "2010-03-18T00:00:00",
          "2010-03-19T00:00:00",
          "2010-03-22T00:00:00",
          "2010-03-23T00:00:00",
          "2010-03-24T00:00:00",
          "2010-03-25T00:00:00",
          "2010-03-26T00:00:00",
          "2010-03-29T00:00:00",
          "2010-03-30T00:00:00",
          "2010-03-31T00:00:00",
          "2010-04-01T00:00:00",
          "2010-04-05T00:00:00",
          "2010-04-06T00:00:00",
          "2010-04-07T00:00:00",
          "2010-04-08T00:00:00",
          "2010-04-09T00:00:00",
          "2010-04-12T00:00:00",
          "2010-04-13T00:00:00",
          "2010-04-14T00:00:00",
          "2010-04-15T00:00:00",
          "2010-04-16T00:00:00",
          "2010-04-19T00:00:00",
          "2010-04-20T00:00:00",
          "2010-04-21T00:00:00",
          "2010-04-22T00:00:00",
          "2010-04-23T00:00:00",
          "2010-04-26T00:00:00",
          "2010-04-27T00:00:00",
          "2010-04-28T00:00:00",
          "2010-04-29T00:00:00",
          "2010-04-30T00:00:00",
          "2010-05-03T00:00:00",
          "2010-05-04T00:00:00",
          "2010-05-05T00:00:00",
          "2010-05-06T00:00:00",
          "2010-05-07T00:00:00",
          "2010-05-10T00:00:00",
          "2010-05-11T00:00:00",
          "2010-05-12T00:00:00",
          "2010-05-13T00:00:00",
          "2010-05-14T00:00:00",
          "2010-05-17T00:00:00",
          "2010-05-18T00:00:00",
          "2010-05-19T00:00:00",
          "2010-05-20T00:00:00",
          "2010-05-21T00:00:00",
          "2010-05-24T00:00:00",
          "2010-05-25T00:00:00",
          "2010-05-26T00:00:00",
          "2010-05-27T00:00:00",
          "2010-05-28T00:00:00",
          "2010-06-01T00:00:00",
          "2010-06-02T00:00:00",
          "2010-06-03T00:00:00",
          "2010-06-04T00:00:00",
          "2010-06-07T00:00:00",
          "2010-06-08T00:00:00",
          "2010-06-09T00:00:00",
          "2010-06-10T00:00:00",
          "2010-06-11T00:00:00",
          "2010-06-14T00:00:00",
          "2010-06-15T00:00:00",
          "2010-06-16T00:00:00",
          "2010-06-17T00:00:00",
          "2010-06-18T00:00:00",
          "2010-06-21T00:00:00",
          "2010-06-22T00:00:00",
          "2010-06-23T00:00:00",
          "2010-06-24T00:00:00",
          "2010-06-25T00:00:00",
          "2010-06-28T00:00:00",
          "2010-06-29T00:00:00",
          "2010-06-30T00:00:00",
          "2010-07-01T00:00:00",
          "2010-07-02T00:00:00",
          "2010-07-06T00:00:00",
          "2010-07-07T00:00:00",
          "2010-07-08T00:00:00",
          "2010-07-09T00:00:00",
          "2010-07-12T00:00:00",
          "2010-07-13T00:00:00",
          "2010-07-14T00:00:00",
          "2010-07-15T00:00:00",
          "2010-07-16T00:00:00",
          "2010-07-19T00:00:00",
          "2010-07-20T00:00:00",
          "2010-07-21T00:00:00",
          "2010-07-22T00:00:00",
          "2010-07-23T00:00:00",
          "2010-07-26T00:00:00",
          "2010-07-27T00:00:00",
          "2010-07-28T00:00:00",
          "2010-07-29T00:00:00",
          "2010-07-30T00:00:00",
          "2010-08-02T00:00:00",
          "2010-08-03T00:00:00",
          "2010-08-04T00:00:00",
          "2010-08-05T00:00:00",
          "2010-08-06T00:00:00",
          "2010-08-09T00:00:00",
          "2010-08-10T00:00:00",
          "2010-08-11T00:00:00",
          "2010-08-12T00:00:00",
          "2010-08-13T00:00:00",
          "2010-08-16T00:00:00",
          "2010-08-17T00:00:00",
          "2010-08-18T00:00:00",
          "2010-08-19T00:00:00",
          "2010-08-20T00:00:00",
          "2010-08-23T00:00:00",
          "2010-08-24T00:00:00",
          "2010-08-25T00:00:00",
          "2010-08-26T00:00:00",
          "2010-08-27T00:00:00",
          "2010-08-30T00:00:00",
          "2010-08-31T00:00:00",
          "2010-09-01T00:00:00",
          "2010-09-02T00:00:00",
          "2010-09-03T00:00:00",
          "2010-09-07T00:00:00",
          "2010-09-08T00:00:00",
          "2010-09-09T00:00:00",
          "2010-09-10T00:00:00",
          "2010-09-13T00:00:00",
          "2010-09-14T00:00:00",
          "2010-09-15T00:00:00",
          "2010-09-16T00:00:00",
          "2010-09-17T00:00:00",
          "2010-09-20T00:00:00",
          "2010-09-21T00:00:00",
          "2010-09-22T00:00:00",
          "2010-09-23T00:00:00",
          "2010-09-24T00:00:00",
          "2010-09-27T00:00:00",
          "2010-09-28T00:00:00",
          "2010-09-29T00:00:00",
          "2010-09-30T00:00:00",
          "2010-10-01T00:00:00",
          "2010-10-04T00:00:00",
          "2010-10-05T00:00:00",
          "2010-10-06T00:00:00",
          "2010-10-07T00:00:00",
          "2010-10-08T00:00:00",
          "2010-10-11T00:00:00",
          "2010-10-12T00:00:00",
          "2010-10-13T00:00:00",
          "2010-10-14T00:00:00",
          "2010-10-15T00:00:00",
          "2010-10-18T00:00:00",
          "2010-10-19T00:00:00",
          "2010-10-20T00:00:00",
          "2010-10-21T00:00:00",
          "2010-10-22T00:00:00",
          "2010-10-25T00:00:00",
          "2010-10-26T00:00:00",
          "2010-10-27T00:00:00",
          "2010-10-28T00:00:00",
          "2010-10-29T00:00:00",
          "2010-11-01T00:00:00",
          "2010-11-02T00:00:00",
          "2010-11-03T00:00:00",
          "2010-11-04T00:00:00",
          "2010-11-05T00:00:00",
          "2010-11-08T00:00:00",
          "2010-11-09T00:00:00",
          "2010-11-10T00:00:00",
          "2010-11-11T00:00:00",
          "2010-11-12T00:00:00",
          "2010-11-15T00:00:00",
          "2010-11-16T00:00:00",
          "2010-11-17T00:00:00",
          "2010-11-18T00:00:00",
          "2010-11-19T00:00:00",
          "2010-11-22T00:00:00",
          "2010-11-23T00:00:00",
          "2010-11-24T00:00:00",
          "2010-11-26T00:00:00",
          "2010-11-29T00:00:00",
          "2010-11-30T00:00:00",
          "2010-12-01T00:00:00",
          "2010-12-02T00:00:00",
          "2010-12-03T00:00:00",
          "2010-12-06T00:00:00",
          "2010-12-07T00:00:00",
          "2010-12-08T00:00:00",
          "2010-12-09T00:00:00",
          "2010-12-10T00:00:00",
          "2010-12-13T00:00:00",
          "2010-12-14T00:00:00",
          "2010-12-15T00:00:00",
          "2010-12-16T00:00:00",
          "2010-12-17T00:00:00",
          "2010-12-20T00:00:00",
          "2010-12-21T00:00:00",
          "2010-12-22T00:00:00",
          "2010-12-23T00:00:00",
          "2010-12-27T00:00:00",
          "2010-12-28T00:00:00",
          "2010-12-29T00:00:00",
          "2010-12-30T00:00:00",
          "2010-12-31T00:00:00"
         ],
         "xaxis": "x",
         "y": [
          87.421,
          88.81,
          88.312,
          87.51,
          86.837,
          86.543,
          87.001,
          87.144,
          87.026,
          87.018,
          87.465,
          87.01,
          86.551,
          86.179,
          86.042,
          85.96,
          86.4,
          86.452,
          85.679,
          86.22,
          85.765,
          85.382,
          85.265,
          84.995,
          85.224,
          85.232,
          85.756,
          85.741,
          86.197,
          85.934,
          86.001,
          85.823,
          85.688,
          85.247,
          85.688,
          85.518,
          85.443,
          84.995,
          85.005,
          85.013,
          84.898,
          84.514,
          84.791,
          85.013,
          84.433,
          84.631,
          84.823,
          84.898,
          84.986,
          84.732,
          84.478,
          85.814,
          86.026,
          85.543,
          85.543,
          84.961,
          84.596,
          84.766,
          84.823,
          85.224,
          85.661,
          85.332,
          85.052,
          84.782,
          84.766,
          84.631,
          84.898,
          84.782,
          85.39,
          85.372,
          85.614,
          85.46,
          84.986,
          85.477,
          85.207,
          85.435,
          85.543,
          85.639,
          85.771,
          85.75,
          85.39,
          85.805,
          85.198,
          85.265,
          85.443,
          85.639,
          85.256,
          85.416,
          85.477,
          85.951,
          86.026,
          86.077,
          86.271,
          86.016,
          86.095,
          86.356,
          86.087,
          85.856,
          85.661,
          85.189,
          85.224,
          86.138,
          84.816,
          85.39,
          85.632,
          84.917,
          84.486,
          84.257,
          84.639,
          84.399,
          84.698,
          85.105,
          85.426,
          85.543,
          85.714,
          85.155,
          85.47,
          85.596,
          85.874,
          85.645,
          86.042,
          86.295,
          86.22,
          86.238,
          85.917,
          86.12,
          86.05,
          86.33,
          86.806,
          86.559,
          86.855,
          86.814,
          86.551,
          85.985,
          86.255,
          86.255,
          86.356,
          86.957,
          86.661,
          86.444,
          86.444,
          86.179,
          86.337,
          86.493,
          86.602,
          87.042,
          86.576,
          86.313,
          86.238,
          86.279,
          85.765,
          86.434,
          86.738,
          86.696,
          86.916,
          87.067,
          87.43,
          87.144,
          87.321,
          87.465,
          86.957,
          87.313,
          87.456,
          87.582,
          87.519,
          87.456,
          87.82,
          87.388,
          87.855,
          87.694,
          87.528,
          87.397,
          87.566,
          88.017,
          88.009,
          87.878,
          87.745,
          87.811,
          88.227,
          88.009,
          87.938,
          87.878,
          88.1,
          88.209,
          88.462,
          88.453,
          88.414,
          88.574,
          88.489,
          88.32,
          88.381,
          88.253,
          88.607,
          88.55,
          87.938,
          88.143,
          88.354,
          88.15,
          88.017,
          88.009,
          88.184,
          88.39,
          88.327,
          88.2,
          88.092,
          87.855,
          88.2,
          88.32,
          88.15,
          88.48,
          88.074,
          87.956,
          87.811,
          88.042,
          88.117,
          88.235,
          88.253,
          88.287,
          88.462,
          88.558,
          88.769,
          88.845,
          88.66,
          88.753,
          88.783,
          88.769,
          89.03,
          89.115,
          89.193,
          89.344,
          88.826,
          88.66,
          88.667,
          88.489,
          88.574,
          88.692,
          88.6,
          88.531,
          88.32,
          88.371,
          88.135,
          88.287,
          88.429,
          88.429,
          88.066,
          87.811,
          87.846,
          87.694,
          87.16,
          87.01,
          87.227,
          87.118,
          87.221,
          87.617,
          87.566,
          87.465,
          87.519,
          87.448,
          88.009,
          87.634,
          87.864,
          88.025,
          87.887,
          88.117,
          88.143,
          88.191,
          88.184,
          88.287,
          88.227,
          88.15,
          88.345,
          87.956,
          88.058,
          87.896,
          88.108,
          88.143,
          88.304,
          88.15,
          87.946,
          87.795,
          87.82,
          88.042,
          87.77,
          87.736,
          87.802,
          87.651,
          87.963,
          88.058,
          88.235,
          88.253,
          88.108,
          88.143,
          88.143,
          88.295,
          88.135,
          88.191,
          88.287,
          88.235,
          88.235,
          88.235,
          88.345,
          88.505,
          88.574,
          88.496,
          88.429,
          88.496,
          88.514,
          88.074,
          87.846,
          87.991,
          87.887,
          87.92,
          87.973,
          87.669,
          87.127,
          87.236,
          87.608,
          87.528,
          87.617,
          87.82,
          87.963,
          87.864,
          88.025,
          88.159,
          88.001,
          88.143,
          88.287,
          88.117,
          88.01,
          88.001,
          88.279,
          88.143,
          88.176,
          88.55,
          88.126,
          88.471,
          88.405,
          88.531,
          88.15,
          88.143,
          88.462,
          88.371,
          88.496,
          88.818,
          88.753,
          89.054,
          89.097,
          89.021,
          89.405,
          89.353,
          89.461,
          89.362,
          89.149,
          89.244,
          89.115,
          89.021,
          88.98,
          89.21,
          89.47,
          89.371,
          89.423,
          89.149,
          89.201,
          89.327,
          89.327,
          89.461,
          89.675,
          89.529,
          89.726,
          89.819,
          90.048,
          89.967,
          90.098,
          90.264,
          90.538,
          90.549,
          90.232,
          90.106,
          90.385,
          90.264,
          90.249,
          90.115,
          90.218,
          89.986,
          90.292,
          90.418,
          90.7,
          90.614,
          90.547,
          90.943,
          90.859,
          90.7,
          90.683,
          90.648,
          90.816,
          90.9,
          91.055,
          90.683,
          90.738,
          90.582,
          90.692,
          90.867,
          90.867,
          91.018,
          91.105,
          90.958,
          91.171,
          91.477,
          91.366,
          91.266,
          91.565,
          91.434,
          91.747,
          92.106,
          91.896,
          92.018,
          91.512,
          92.125,
          92.201,
          91.747,
          91.629,
          91.416,
          91.683,
          91.609,
          91.171,
          90.976,
          91.181,
          91.512,
          91.34,
          91.189,
          91.31,
          91.34,
          91.729,
          91.756,
          91.859,
          91.519,
          91.831,
          92.054,
          91.99,
          91.951,
          91.619,
          91.775,
          91.775,
          91.866,
          91.905,
          92.097,
          92.045,
          91.951,
          91.945,
          91.601,
          91.416,
          91.738,
          91.813,
          91.925,
          91.785,
          91.821,
          91.831,
          91.619,
          91.443,
          91.676,
          91.866,
          91.593,
          91.756,
          91.738,
          92.182,
          91.925,
          91.887,
          91.434,
          91.357,
          91.349,
          90.985,
          90.485,
          90.707,
          90.73,
          90.707,
          90.809,
          91.027,
          91.122,
          90.683,
          90.867,
          90.927,
          90.865,
          89.928,
          89.75,
          89.928,
          90.255,
          89.555,
          89.124,
          89.283,
          89.115,
          89.175,
          88.677,
          88.522,
          88.691,
          89.175,
          89.237,
          89.405,
          89.299,
          89.132,
          89.388,
          88.574,
          89.205,
          89.135,
          89.498
         ],
         "yaxis": "y"
        }
       ],
       "layout": {
        "legend": {
         "tracegroupgap": 0
        },
        "template": {
         "data": {
          "bar": [
           {
            "error_x": {
             "color": "#2a3f5f"
            },
            "error_y": {
             "color": "#2a3f5f"
            },
            "marker": {
             "line": {
              "color": "#E5ECF6",
              "width": 0.5
             },
             "pattern": {
              "fillmode": "overlay",
              "size": 10,
              "solidity": 0.2
             }
            },
            "type": "bar"
           }
          ],
          "barpolar": [
           {
            "marker": {
             "line": {
              "color": "#E5ECF6",
              "width": 0.5
             },
             "pattern": {
              "fillmode": "overlay",
              "size": 10,
              "solidity": 0.2
             }
            },
            "type": "barpolar"
           }
          ],
          "carpet": [
           {
            "aaxis": {
             "endlinecolor": "#2a3f5f",
             "gridcolor": "white",
             "linecolor": "white",
             "minorgridcolor": "white",
             "startlinecolor": "#2a3f5f"
            },
            "baxis": {
             "endlinecolor": "#2a3f5f",
             "gridcolor": "white",
             "linecolor": "white",
             "minorgridcolor": "white",
             "startlinecolor": "#2a3f5f"
            },
            "type": "carpet"
           }
          ],
          "choropleth": [
           {
            "colorbar": {
             "outlinewidth": 0,
             "ticks": ""
            },
            "type": "choropleth"
           }
          ],
          "contour": [
           {
            "colorbar": {
             "outlinewidth": 0,
             "ticks": ""
            },
            "colorscale": [
             [
              0,
              "#0d0887"
             ],
             [
              0.1111111111111111,
              "#46039f"
             ],
             [
              0.2222222222222222,
              "#7201a8"
             ],
             [
              0.3333333333333333,
              "#9c179e"
             ],
             [
              0.4444444444444444,
              "#bd3786"
             ],
             [
              0.5555555555555556,
              "#d8576b"
             ],
             [
              0.6666666666666666,
              "#ed7953"
             ],
             [
              0.7777777777777778,
              "#fb9f3a"
             ],
             [
              0.8888888888888888,
              "#fdca26"
             ],
             [
              1,
              "#f0f921"
             ]
            ],
            "type": "contour"
           }
          ],
          "contourcarpet": [
           {
            "colorbar": {
             "outlinewidth": 0,
             "ticks": ""
            },
            "type": "contourcarpet"
           }
          ],
          "heatmap": [
           {
            "colorbar": {
             "outlinewidth": 0,
             "ticks": ""
            },
            "colorscale": [
             [
              0,
              "#0d0887"
             ],
             [
              0.1111111111111111,
              "#46039f"
             ],
             [
              0.2222222222222222,
              "#7201a8"
             ],
             [
              0.3333333333333333,
              "#9c179e"
             ],
             [
              0.4444444444444444,
              "#bd3786"
             ],
             [
              0.5555555555555556,
              "#d8576b"
             ],
             [
              0.6666666666666666,
              "#ed7953"
             ],
             [
              0.7777777777777778,
              "#fb9f3a"
             ],
             [
              0.8888888888888888,
              "#fdca26"
             ],
             [
              1,
              "#f0f921"
             ]
            ],
            "type": "heatmap"
           }
          ],
          "heatmapgl": [
           {
            "colorbar": {
             "outlinewidth": 0,
             "ticks": ""
            },
            "colorscale": [
             [
              0,
              "#0d0887"
             ],
             [
              0.1111111111111111,
              "#46039f"
             ],
             [
              0.2222222222222222,
              "#7201a8"
             ],
             [
              0.3333333333333333,
              "#9c179e"
             ],
             [
              0.4444444444444444,
              "#bd3786"
             ],
             [
              0.5555555555555556,
              "#d8576b"
             ],
             [
              0.6666666666666666,
              "#ed7953"
             ],
             [
              0.7777777777777778,
              "#fb9f3a"
             ],
             [
              0.8888888888888888,
              "#fdca26"
             ],
             [
              1,
              "#f0f921"
             ]
            ],
            "type": "heatmapgl"
           }
          ],
          "histogram": [
           {
            "marker": {
             "pattern": {
              "fillmode": "overlay",
              "size": 10,
              "solidity": 0.2
             }
            },
            "type": "histogram"
           }
          ],
          "histogram2d": [
           {
            "colorbar": {
             "outlinewidth": 0,
             "ticks": ""
            },
            "colorscale": [
             [
              0,
              "#0d0887"
             ],
             [
              0.1111111111111111,
              "#46039f"
             ],
             [
              0.2222222222222222,
              "#7201a8"
             ],
             [
              0.3333333333333333,
              "#9c179e"
             ],
             [
              0.4444444444444444,
              "#bd3786"
             ],
             [
              0.5555555555555556,
              "#d8576b"
             ],
             [
              0.6666666666666666,
              "#ed7953"
             ],
             [
              0.7777777777777778,
              "#fb9f3a"
             ],
             [
              0.8888888888888888,
              "#fdca26"
             ],
             [
              1,
              "#f0f921"
             ]
            ],
            "type": "histogram2d"
           }
          ],
          "histogram2dcontour": [
           {
            "colorbar": {
             "outlinewidth": 0,
             "ticks": ""
            },
            "colorscale": [
             [
              0,
              "#0d0887"
             ],
             [
              0.1111111111111111,
              "#46039f"
             ],
             [
              0.2222222222222222,
              "#7201a8"
             ],
             [
              0.3333333333333333,
              "#9c179e"
             ],
             [
              0.4444444444444444,
              "#bd3786"
             ],
             [
              0.5555555555555556,
              "#d8576b"
             ],
             [
              0.6666666666666666,
              "#ed7953"
             ],
             [
              0.7777777777777778,
              "#fb9f3a"
             ],
             [
              0.8888888888888888,
              "#fdca26"
             ],
             [
              1,
              "#f0f921"
             ]
            ],
            "type": "histogram2dcontour"
           }
          ],
          "mesh3d": [
           {
            "colorbar": {
             "outlinewidth": 0,
             "ticks": ""
            },
            "type": "mesh3d"
           }
          ],
          "parcoords": [
           {
            "line": {
             "colorbar": {
              "outlinewidth": 0,
              "ticks": ""
             }
            },
            "type": "parcoords"
           }
          ],
          "pie": [
           {
            "automargin": true,
            "type": "pie"
           }
          ],
          "scatter": [
           {
            "fillpattern": {
             "fillmode": "overlay",
             "size": 10,
             "solidity": 0.2
            },
            "type": "scatter"
           }
          ],
          "scatter3d": [
           {
            "line": {
             "colorbar": {
              "outlinewidth": 0,
              "ticks": ""
             }
            },
            "marker": {
             "colorbar": {
              "outlinewidth": 0,
              "ticks": ""
             }
            },
            "type": "scatter3d"
           }
          ],
          "scattercarpet": [
           {
            "marker": {
             "colorbar": {
              "outlinewidth": 0,
              "ticks": ""
             }
            },
            "type": "scattercarpet"
           }
          ],
          "scattergeo": [
           {
            "marker": {
             "colorbar": {
              "outlinewidth": 0,
              "ticks": ""
             }
            },
            "type": "scattergeo"
           }
          ],
          "scattergl": [
           {
            "marker": {
             "colorbar": {
              "outlinewidth": 0,
              "ticks": ""
             }
            },
            "type": "scattergl"
           }
          ],
          "scattermapbox": [
           {
            "marker": {
             "colorbar": {
              "outlinewidth": 0,
              "ticks": ""
             }
            },
            "type": "scattermapbox"
           }
          ],
          "scatterpolar": [
           {
            "marker": {
             "colorbar": {
              "outlinewidth": 0,
              "ticks": ""
             }
            },
            "type": "scatterpolar"
           }
          ],
          "scatterpolargl": [
           {
            "marker": {
             "colorbar": {
              "outlinewidth": 0,
              "ticks": ""
             }
            },
            "type": "scatterpolargl"
           }
          ],
          "scatterternary": [
           {
            "marker": {
             "colorbar": {
              "outlinewidth": 0,
              "ticks": ""
             }
            },
            "type": "scatterternary"
           }
          ],
          "surface": [
           {
            "colorbar": {
             "outlinewidth": 0,
             "ticks": ""
            },
            "colorscale": [
             [
              0,
              "#0d0887"
             ],
             [
              0.1111111111111111,
              "#46039f"
             ],
             [
              0.2222222222222222,
              "#7201a8"
             ],
             [
              0.3333333333333333,
              "#9c179e"
             ],
             [
              0.4444444444444444,
              "#bd3786"
             ],
             [
              0.5555555555555556,
              "#d8576b"
             ],
             [
              0.6666666666666666,
              "#ed7953"
             ],
             [
              0.7777777777777778,
              "#fb9f3a"
             ],
             [
              0.8888888888888888,
              "#fdca26"
             ],
             [
              1,
              "#f0f921"
             ]
            ],
            "type": "surface"
           }
          ],
          "table": [
           {
            "cells": {
             "fill": {
              "color": "#EBF0F8"
             },
             "line": {
              "color": "white"
             }
            },
            "header": {
             "fill": {
              "color": "#C8D4E3"
             },
             "line": {
              "color": "white"
             }
            },
            "type": "table"
           }
          ]
         },
         "layout": {
          "annotationdefaults": {
           "arrowcolor": "#2a3f5f",
           "arrowhead": 0,
           "arrowwidth": 1
          },
          "autotypenumbers": "strict",
          "coloraxis": {
           "colorbar": {
            "outlinewidth": 0,
            "ticks": ""
           }
          },
          "colorscale": {
           "diverging": [
            [
             0,
             "#8e0152"
            ],
            [
             0.1,
             "#c51b7d"
            ],
            [
             0.2,
             "#de77ae"
            ],
            [
             0.3,
             "#f1b6da"
            ],
            [
             0.4,
             "#fde0ef"
            ],
            [
             0.5,
             "#f7f7f7"
            ],
            [
             0.6,
             "#e6f5d0"
            ],
            [
             0.7,
             "#b8e186"
            ],
            [
             0.8,
             "#7fbc41"
            ],
            [
             0.9,
             "#4d9221"
            ],
            [
             1,
             "#276419"
            ]
           ],
           "sequential": [
            [
             0,
             "#0d0887"
            ],
            [
             0.1111111111111111,
             "#46039f"
            ],
            [
             0.2222222222222222,
             "#7201a8"
            ],
            [
             0.3333333333333333,
             "#9c179e"
            ],
            [
             0.4444444444444444,
             "#bd3786"
            ],
            [
             0.5555555555555556,
             "#d8576b"
            ],
            [
             0.6666666666666666,
             "#ed7953"
            ],
            [
             0.7777777777777778,
             "#fb9f3a"
            ],
            [
             0.8888888888888888,
             "#fdca26"
            ],
            [
             1,
             "#f0f921"
            ]
           ],
           "sequentialminus": [
            [
             0,
             "#0d0887"
            ],
            [
             0.1111111111111111,
             "#46039f"
            ],
            [
             0.2222222222222222,
             "#7201a8"
            ],
            [
             0.3333333333333333,
             "#9c179e"
            ],
            [
             0.4444444444444444,
             "#bd3786"
            ],
            [
             0.5555555555555556,
             "#d8576b"
            ],
            [
             0.6666666666666666,
             "#ed7953"
            ],
            [
             0.7777777777777778,
             "#fb9f3a"
            ],
            [
             0.8888888888888888,
             "#fdca26"
            ],
            [
             1,
             "#f0f921"
            ]
           ]
          },
          "colorway": [
           "#636efa",
           "#EF553B",
           "#00cc96",
           "#ab63fa",
           "#FFA15A",
           "#19d3f3",
           "#FF6692",
           "#B6E880",
           "#FF97FF",
           "#FECB52"
          ],
          "font": {
           "color": "#2a3f5f"
          },
          "geo": {
           "bgcolor": "white",
           "lakecolor": "white",
           "landcolor": "#E5ECF6",
           "showlakes": true,
           "showland": true,
           "subunitcolor": "white"
          },
          "hoverlabel": {
           "align": "left"
          },
          "hovermode": "closest",
          "mapbox": {
           "style": "light"
          },
          "paper_bgcolor": "white",
          "plot_bgcolor": "#E5ECF6",
          "polar": {
           "angularaxis": {
            "gridcolor": "white",
            "linecolor": "white",
            "ticks": ""
           },
           "bgcolor": "#E5ECF6",
           "radialaxis": {
            "gridcolor": "white",
            "linecolor": "white",
            "ticks": ""
           }
          },
          "scene": {
           "xaxis": {
            "backgroundcolor": "#E5ECF6",
            "gridcolor": "white",
            "gridwidth": 2,
            "linecolor": "white",
            "showbackground": true,
            "ticks": "",
            "zerolinecolor": "white"
           },
           "yaxis": {
            "backgroundcolor": "#E5ECF6",
            "gridcolor": "white",
            "gridwidth": 2,
            "linecolor": "white",
            "showbackground": true,
            "ticks": "",
            "zerolinecolor": "white"
           },
           "zaxis": {
            "backgroundcolor": "#E5ECF6",
            "gridcolor": "white",
            "gridwidth": 2,
            "linecolor": "white",
            "showbackground": true,
            "ticks": "",
            "zerolinecolor": "white"
           }
          },
          "shapedefaults": {
           "line": {
            "color": "#2a3f5f"
           }
          },
          "ternary": {
           "aaxis": {
            "gridcolor": "white",
            "linecolor": "white",
            "ticks": ""
           },
           "baxis": {
            "gridcolor": "white",
            "linecolor": "white",
            "ticks": ""
           },
           "bgcolor": "#E5ECF6",
           "caxis": {
            "gridcolor": "white",
            "linecolor": "white",
            "ticks": ""
           }
          },
          "title": {
           "x": 0.05
          },
          "xaxis": {
           "automargin": true,
           "gridcolor": "white",
           "linecolor": "white",
           "ticks": "",
           "title": {
            "standoff": 15
           },
           "zerolinecolor": "white",
           "zerolinewidth": 2
          },
          "yaxis": {
           "automargin": true,
           "gridcolor": "white",
           "linecolor": "white",
           "ticks": "",
           "title": {
            "standoff": 15
           },
           "zerolinecolor": "white",
           "zerolinewidth": 2
          }
         }
        },
        "title": {
         "text": "Closing Price"
        },
        "xaxis": {
         "anchor": "y",
         "domain": [
          0,
          1
         ],
         "title": {
          "text": "Date"
         }
        },
        "yaxis": {
         "anchor": "x",
         "domain": [
          0,
          1
         ],
         "title": {
          "text": "Close"
         }
        }
       }
      }
     },
     "metadata": {},
     "output_type": "display_data"
    }
   ],
   "source": [
    "import plotly.express as px\n",
    "fig = px.line(after, x=\"Date\", y=\"Close\",  \n",
    "              title='Closing Price')\n",
    "fig.show()"
   ]
  },
  {
   "cell_type": "markdown",
   "metadata": {},
   "source": [
    "From the closing price, we have seen an increasing trend after the crisis. We would usually call this the recovery period."
   ]
  },
  {
   "cell_type": "markdown",
   "metadata": {},
   "source": [
    "### 6. Correlation between trading volume and closing price"
   ]
  },
  {
   "cell_type": "markdown",
   "metadata": {},
   "source": [
    "A question has appeared in my head as an analyst, does trade volume affect the prices? \n",
    "Here I am going to analyze their correlation in different contexts: \n",
    "- Entire dataset analysis\n",
    "- Entire population analysis\n",
    "- Sample of data during crisis\n"
   ]
  },
  {
   "cell_type": "markdown",
   "metadata": {},
   "source": [
    "Because the distribution for the volume is not normal, we will perform spearman test for these three conditions."
   ]
  },
  {
   "cell_type": "markdown",
   "metadata": {},
   "source": [
    "Entire dataset analysis"
   ]
  },
  {
   "cell_type": "code",
   "execution_count": 306,
   "metadata": {},
   "outputs": [
    {
     "name": "stdout",
     "output_type": "stream",
     "text": [
      "Dataset rho-correlation: 0.79, Dataset p-value: 0.0\n"
     ]
    }
   ],
   "source": [
    "corr_rho, pval_s = stats.spearmanr(df['Volume'], df['Close'])\n",
    "print(f\"Dataset rho-correlation: {corr_rho:.2f}, Dataset p-value: {pval_s}\")"
   ]
  },
  {
   "cell_type": "markdown",
   "metadata": {},
   "source": [
    "For the entire dataset, there is a significant positive correlation between trading volume and closing price. So with an increase of 1 in volume, there will be an increase of 0.79 to the closing price."
   ]
  },
  {
   "cell_type": "markdown",
   "metadata": {},
   "source": [
    "Entire population analysis"
   ]
  },
  {
   "cell_type": "code",
   "execution_count": 305,
   "metadata": {},
   "outputs": [
    {
     "name": "stdout",
     "output_type": "stream",
     "text": [
      "Population rho-correlation: 0.39, Population p-value: 4.482401016696956e-56\n"
     ]
    }
   ],
   "source": [
    "corr_rho, pval_s = stats.spearmanr(population['Volume'], population['Close'])\n",
    "print(f\"Population rho-correlation: {corr_rho:.2f}, Population p-value: {pval_s}\")"
   ]
  },
  {
   "cell_type": "markdown",
   "metadata": {},
   "source": [
    "As for the entire population, there is a significant positive correlation between trading volume and closing price. So with an increase of 1 in volume, there will be an increase of 0.39 to the closing price."
   ]
  },
  {
   "cell_type": "code",
   "execution_count": 266,
   "metadata": {},
   "outputs": [
    {
     "name": "stdout",
     "output_type": "stream",
     "text": [
      "Stock rho-correlation during crisis: 0.15, Stock p-value during: 0.0007550235551775387\n"
     ]
    }
   ],
   "source": [
    "corr_rho, pval_s = stats.spearmanr(during['Volume'], during['Close'])\n",
    "print(f\"Stock rho-correlation during crisis: {corr_rho:.2f}, Stock p-value during: {pval_s}\")"
   ]
  },
  {
   "cell_type": "markdown",
   "metadata": {},
   "source": [
    "For the data sample during crisis, there is a significant positive correlation between trading volume and closing price. So with an increase of 1 in volume, there will be an increase of 0.15 to the closing price."
   ]
  },
  {
   "cell_type": "markdown",
   "metadata": {},
   "source": [
    "we have seen a strong correlation between the two, so I advise we consider trade volume of the stock as a component to decide whether to invest in this stock or not"
   ]
  },
  {
   "cell_type": "markdown",
   "metadata": {},
   "source": [
    "### 7. Comparison of the closing prices in 3 different period"
   ]
  },
  {
   "cell_type": "markdown",
   "metadata": {},
   "source": [
    "Now I am going to compare the prices of the closing price before, during, and after the crisis. To do this, I have to do two way testing one by one"
   ]
  },
  {
   "cell_type": "code",
   "execution_count": 307,
   "metadata": {},
   "outputs": [],
   "source": [
    "before_during = stats.ttest_ind(before['Close'],during['Close'])\n",
    "during_after = stats.ttest_ind(during['Close'],after['Close'])\n",
    "before_after = stats.ttest_ind(before['Close'],after['Close'])"
   ]
  },
  {
   "cell_type": "markdown",
   "metadata": {},
   "source": [
    "Prices before vs during crisis\n",
    "- H0: There is no difference in prices before and during the crisis\n",
    "- H1: There is difference in prices before and during the crisis"
   ]
  },
  {
   "cell_type": "code",
   "execution_count": 310,
   "metadata": {},
   "outputs": [
    {
     "name": "stdout",
     "output_type": "stream",
     "text": [
      "before vs during crisis: TtestResult(statistic=1.668797178834071, pvalue=0.09548095151896648, df=968.0)\n"
     ]
    }
   ],
   "source": [
    "print(\"before vs during crisis:\", before_during)"
   ]
  },
  {
   "cell_type": "markdown",
   "metadata": {},
   "source": [
    "From the t-test, I find weak evidence to reject the H0. I conclude that there is not much difference of prices between before or after crisis."
   ]
  },
  {
   "cell_type": "markdown",
   "metadata": {},
   "source": [
    "Prices during vs after crisis\n",
    "- H0: There is no difference in prices during and after the crisis\n",
    "- H1: There is difference in prices during and after the crisis"
   ]
  },
  {
   "cell_type": "code",
   "execution_count": 309,
   "metadata": {},
   "outputs": [
    {
     "name": "stdout",
     "output_type": "stream",
     "text": [
      "during vs after crisis: TtestResult(statistic=-31.517906787261033, pvalue=3.225403927857345e-152, df=1006.0)\n"
     ]
    }
   ],
   "source": [
    "print(\"during vs after crisis:\", during_after)"
   ]
  },
  {
   "cell_type": "markdown",
   "metadata": {},
   "source": [
    "From the t-test, I find strong evidence to reject H0. I conclude that there is significant difference between prices during and after crisis."
   ]
  },
  {
   "cell_type": "markdown",
   "metadata": {},
   "source": [
    "Prices before vs after crisis\n",
    "- H0: There is no difference in prices before and after the crisis\n",
    "- H1: There is difference in prices before and after the crisis"
   ]
  },
  {
   "cell_type": "code",
   "execution_count": 311,
   "metadata": {},
   "outputs": [
    {
     "name": "stdout",
     "output_type": "stream",
     "text": [
      "before vs after crisis: TtestResult(statistic=-31.323655488514678, pvalue=2.714945760108681e-149, df=968.0)\n"
     ]
    }
   ],
   "source": [
    "print(\"before vs after crisis:\", before_after)"
   ]
  },
  {
   "cell_type": "markdown",
   "metadata": {},
   "source": [
    "From the t-test, I find strong evidence to reject H0. I conclude that there is significant difference between prices before and after crisis."
   ]
  },
  {
   "cell_type": "markdown",
   "metadata": {},
   "source": [
    "From this comparison that I have done in this part, the highest closing prices are found in 2 years after the crisis. The second highest is before the crisis, but there is relatively little difference to the prices during crisis."
   ]
  },
  {
   "cell_type": "markdown",
   "metadata": {},
   "source": [
    "### Extra step: exporting datasets to csv for Tableau"
   ]
  },
  {
   "cell_type": "code",
   "execution_count": 312,
   "metadata": {},
   "outputs": [],
   "source": [
    "population.to_csv('population.csv', index=False)"
   ]
  },
  {
   "cell_type": "markdown",
   "metadata": {},
   "source": [
    "## Conclusion"
   ]
  },
  {
   "cell_type": "markdown",
   "metadata": {},
   "source": [
    "- We have seen a dip in price in June 2006, which makes 2 years before the crisis already volatile\n",
    "- During the crisis itself, the price happens to also dip in the year of 2008 at the 4th quartile\n",
    "- Recommendation: That same quartile (4th at the year of 2008) is the prime period for us to invest in the stock during crisis\n",
    "- The prices seems to be going on a positive trend after the crisis\n",
    "- There is a strong correlation between the volume of trades and the stock price itself.\n",
    "- There is no differences in prices before and during the crisis, but there is a significant differences after the crisis.\n",
    "- Recommendation: Overall the company itself seems to be doing well financially after the crisis, so it would be beneficial if you were to invest in this company during the crisis and sell the stock years later"
   ]
  }
 ],
 "metadata": {
  "kernelspec": {
   "display_name": "Python 3",
   "language": "python",
   "name": "python3"
  },
  "language_info": {
   "codemirror_mode": {
    "name": "ipython",
    "version": 3
   },
   "file_extension": ".py",
   "mimetype": "text/x-python",
   "name": "python",
   "nbconvert_exporter": "python",
   "pygments_lexer": "ipython3",
   "version": "3.12.4"
  }
 },
 "nbformat": 4,
 "nbformat_minor": 2
}
